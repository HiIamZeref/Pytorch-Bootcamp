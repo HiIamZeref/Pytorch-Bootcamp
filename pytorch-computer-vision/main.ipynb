{
 "cells": [
  {
   "cell_type": "markdown",
   "metadata": {},
   "source": [
    "### Pytorch Computer Vision"
   ]
  },
  {
   "cell_type": "code",
   "execution_count": 52,
   "metadata": {},
   "outputs": [
    {
     "name": "stdout",
     "output_type": "stream",
     "text": [
      "2.3.0+cu118\n",
      "0.18.0+cu118\n"
     ]
    }
   ],
   "source": [
    "import torch\n",
    "from torch import nn\n",
    "from torch.utils.data import DataLoader\n",
    "\n",
    "import torchvision\n",
    "from torchvision import transforms\n",
    "from torchvision import datasets\n",
    "from torchvision.transforms import ToTensor, Lambda, Compose\n",
    "\n",
    "import matplotlib.pyplot as plt\n",
    "\n",
    "print(torch.__version__)\n",
    "print(torchvision.__version__)"
   ]
  },
  {
   "cell_type": "code",
   "execution_count": 53,
   "metadata": {},
   "outputs": [
    {
     "name": "stdout",
     "output_type": "stream",
     "text": [
      "Using cpu device\n"
     ]
    }
   ],
   "source": [
    "# Setting device agnostic code\n",
    "device = \"cuda\" if torch.cuda.is_available() else \"cpu\"\n",
    "print(f\"Using {device} device\")"
   ]
  },
  {
   "cell_type": "markdown",
   "metadata": {},
   "source": [
    "## 1. Getting dataset"
   ]
  },
  {
   "cell_type": "code",
   "execution_count": 54,
   "metadata": {},
   "outputs": [],
   "source": [
    "# Load data (FashionMNIST)\n",
    "train_data = datasets.FashionMNIST(\n",
    "    root=\"data\",\n",
    "    train=True,\n",
    "    download=True,\n",
    "    transform=ToTensor(),\n",
    ")\n",
    "\n",
    "test_data = datasets.FashionMNIST(\n",
    "    root=\"data\",\n",
    "    train=False,\n",
    "    download=True,\n",
    "    transform=ToTensor()\n",
    ")"
   ]
  },
  {
   "cell_type": "code",
   "execution_count": 55,
   "metadata": {},
   "outputs": [
    {
     "data": {
      "text/plain": [
       "(60000, 10000)"
      ]
     },
     "execution_count": 55,
     "metadata": {},
     "output_type": "execute_result"
    }
   ],
   "source": [
    "# Size of our datasets\n",
    "len(train_data), len(test_data)"
   ]
  },
  {
   "cell_type": "code",
   "execution_count": 56,
   "metadata": {},
   "outputs": [
    {
     "name": "stdout",
     "output_type": "stream",
     "text": [
      "tensor([[[0.0000, 0.0000, 0.0000, 0.0000, 0.0000, 0.0000, 0.0000, 0.0000,\n",
      "          0.0000, 0.0000, 0.0000, 0.0000, 0.0000, 0.0000, 0.0000, 0.0000,\n",
      "          0.0000, 0.0000, 0.0000, 0.0000, 0.0000, 0.0000, 0.0000, 0.0000,\n",
      "          0.0000, 0.0000, 0.0000, 0.0000],\n",
      "         [0.0000, 0.0000, 0.0000, 0.0000, 0.0000, 0.0000, 0.0000, 0.0000,\n",
      "          0.0000, 0.0000, 0.0000, 0.0000, 0.0000, 0.0000, 0.0000, 0.0000,\n",
      "          0.0000, 0.0000, 0.0000, 0.0000, 0.0000, 0.0000, 0.0000, 0.0000,\n",
      "          0.0000, 0.0000, 0.0000, 0.0000],\n",
      "         [0.0000, 0.0000, 0.0000, 0.0000, 0.0000, 0.0000, 0.0000, 0.0000,\n",
      "          0.0000, 0.0000, 0.0000, 0.0000, 0.0000, 0.0000, 0.0000, 0.0000,\n",
      "          0.0000, 0.0000, 0.0000, 0.0000, 0.0000, 0.0000, 0.0000, 0.0000,\n",
      "          0.0000, 0.0000, 0.0000, 0.0000],\n",
      "         [0.0000, 0.0000, 0.0000, 0.0000, 0.0000, 0.0000, 0.0000, 0.0000,\n",
      "          0.0000, 0.0000, 0.0000, 0.0000, 0.0039, 0.0000, 0.0000, 0.0510,\n",
      "          0.2863, 0.0000, 0.0000, 0.0039, 0.0157, 0.0000, 0.0000, 0.0000,\n",
      "          0.0000, 0.0039, 0.0039, 0.0000],\n",
      "         [0.0000, 0.0000, 0.0000, 0.0000, 0.0000, 0.0000, 0.0000, 0.0000,\n",
      "          0.0000, 0.0000, 0.0000, 0.0000, 0.0118, 0.0000, 0.1412, 0.5333,\n",
      "          0.4980, 0.2431, 0.2118, 0.0000, 0.0000, 0.0000, 0.0039, 0.0118,\n",
      "          0.0157, 0.0000, 0.0000, 0.0118],\n",
      "         [0.0000, 0.0000, 0.0000, 0.0000, 0.0000, 0.0000, 0.0000, 0.0000,\n",
      "          0.0000, 0.0000, 0.0000, 0.0000, 0.0235, 0.0000, 0.4000, 0.8000,\n",
      "          0.6902, 0.5255, 0.5647, 0.4824, 0.0902, 0.0000, 0.0000, 0.0000,\n",
      "          0.0000, 0.0471, 0.0392, 0.0000],\n",
      "         [0.0000, 0.0000, 0.0000, 0.0000, 0.0000, 0.0000, 0.0000, 0.0000,\n",
      "          0.0000, 0.0000, 0.0000, 0.0000, 0.0000, 0.0000, 0.6078, 0.9255,\n",
      "          0.8118, 0.6980, 0.4196, 0.6118, 0.6314, 0.4275, 0.2510, 0.0902,\n",
      "          0.3020, 0.5098, 0.2824, 0.0588],\n",
      "         [0.0000, 0.0000, 0.0000, 0.0000, 0.0000, 0.0000, 0.0000, 0.0000,\n",
      "          0.0000, 0.0000, 0.0000, 0.0039, 0.0000, 0.2706, 0.8118, 0.8745,\n",
      "          0.8549, 0.8471, 0.8471, 0.6392, 0.4980, 0.4745, 0.4784, 0.5725,\n",
      "          0.5529, 0.3451, 0.6745, 0.2588],\n",
      "         [0.0000, 0.0000, 0.0000, 0.0000, 0.0000, 0.0000, 0.0000, 0.0000,\n",
      "          0.0000, 0.0039, 0.0039, 0.0039, 0.0000, 0.7843, 0.9098, 0.9098,\n",
      "          0.9137, 0.8980, 0.8745, 0.8745, 0.8431, 0.8353, 0.6431, 0.4980,\n",
      "          0.4824, 0.7686, 0.8980, 0.0000],\n",
      "         [0.0000, 0.0000, 0.0000, 0.0000, 0.0000, 0.0000, 0.0000, 0.0000,\n",
      "          0.0000, 0.0000, 0.0000, 0.0000, 0.0000, 0.7176, 0.8824, 0.8471,\n",
      "          0.8745, 0.8941, 0.9216, 0.8902, 0.8784, 0.8706, 0.8784, 0.8667,\n",
      "          0.8745, 0.9608, 0.6784, 0.0000],\n",
      "         [0.0000, 0.0000, 0.0000, 0.0000, 0.0000, 0.0000, 0.0000, 0.0000,\n",
      "          0.0000, 0.0000, 0.0000, 0.0000, 0.0000, 0.7569, 0.8941, 0.8549,\n",
      "          0.8353, 0.7765, 0.7059, 0.8314, 0.8235, 0.8275, 0.8353, 0.8745,\n",
      "          0.8627, 0.9529, 0.7922, 0.0000],\n",
      "         [0.0000, 0.0000, 0.0000, 0.0000, 0.0000, 0.0000, 0.0000, 0.0000,\n",
      "          0.0000, 0.0039, 0.0118, 0.0000, 0.0471, 0.8588, 0.8627, 0.8314,\n",
      "          0.8549, 0.7529, 0.6627, 0.8902, 0.8157, 0.8549, 0.8784, 0.8314,\n",
      "          0.8863, 0.7725, 0.8196, 0.2039],\n",
      "         [0.0000, 0.0000, 0.0000, 0.0000, 0.0000, 0.0000, 0.0000, 0.0000,\n",
      "          0.0000, 0.0000, 0.0235, 0.0000, 0.3882, 0.9569, 0.8706, 0.8627,\n",
      "          0.8549, 0.7961, 0.7765, 0.8667, 0.8431, 0.8353, 0.8706, 0.8627,\n",
      "          0.9608, 0.4667, 0.6549, 0.2196],\n",
      "         [0.0000, 0.0000, 0.0000, 0.0000, 0.0000, 0.0000, 0.0000, 0.0000,\n",
      "          0.0000, 0.0157, 0.0000, 0.0000, 0.2157, 0.9255, 0.8941, 0.9020,\n",
      "          0.8941, 0.9412, 0.9098, 0.8353, 0.8549, 0.8745, 0.9176, 0.8510,\n",
      "          0.8510, 0.8196, 0.3608, 0.0000],\n",
      "         [0.0000, 0.0000, 0.0039, 0.0157, 0.0235, 0.0275, 0.0078, 0.0000,\n",
      "          0.0000, 0.0000, 0.0000, 0.0000, 0.9294, 0.8863, 0.8510, 0.8745,\n",
      "          0.8706, 0.8588, 0.8706, 0.8667, 0.8471, 0.8745, 0.8980, 0.8431,\n",
      "          0.8549, 1.0000, 0.3020, 0.0000],\n",
      "         [0.0000, 0.0118, 0.0000, 0.0000, 0.0000, 0.0000, 0.0000, 0.0000,\n",
      "          0.0000, 0.2431, 0.5686, 0.8000, 0.8941, 0.8118, 0.8353, 0.8667,\n",
      "          0.8549, 0.8157, 0.8275, 0.8549, 0.8784, 0.8745, 0.8588, 0.8431,\n",
      "          0.8784, 0.9569, 0.6235, 0.0000],\n",
      "         [0.0000, 0.0000, 0.0000, 0.0000, 0.0706, 0.1725, 0.3216, 0.4196,\n",
      "          0.7412, 0.8941, 0.8627, 0.8706, 0.8510, 0.8863, 0.7843, 0.8039,\n",
      "          0.8275, 0.9020, 0.8784, 0.9176, 0.6902, 0.7373, 0.9804, 0.9725,\n",
      "          0.9137, 0.9333, 0.8431, 0.0000],\n",
      "         [0.0000, 0.2235, 0.7333, 0.8157, 0.8784, 0.8667, 0.8784, 0.8157,\n",
      "          0.8000, 0.8392, 0.8157, 0.8196, 0.7843, 0.6235, 0.9608, 0.7569,\n",
      "          0.8078, 0.8745, 1.0000, 1.0000, 0.8667, 0.9176, 0.8667, 0.8275,\n",
      "          0.8627, 0.9098, 0.9647, 0.0000],\n",
      "         [0.0118, 0.7922, 0.8941, 0.8784, 0.8667, 0.8275, 0.8275, 0.8392,\n",
      "          0.8039, 0.8039, 0.8039, 0.8627, 0.9412, 0.3137, 0.5882, 1.0000,\n",
      "          0.8980, 0.8667, 0.7373, 0.6039, 0.7490, 0.8235, 0.8000, 0.8196,\n",
      "          0.8706, 0.8941, 0.8824, 0.0000],\n",
      "         [0.3843, 0.9137, 0.7765, 0.8235, 0.8706, 0.8980, 0.8980, 0.9176,\n",
      "          0.9765, 0.8627, 0.7608, 0.8431, 0.8510, 0.9451, 0.2549, 0.2863,\n",
      "          0.4157, 0.4588, 0.6588, 0.8588, 0.8667, 0.8431, 0.8510, 0.8745,\n",
      "          0.8745, 0.8784, 0.8980, 0.1137],\n",
      "         [0.2941, 0.8000, 0.8314, 0.8000, 0.7569, 0.8039, 0.8275, 0.8824,\n",
      "          0.8471, 0.7255, 0.7725, 0.8078, 0.7765, 0.8353, 0.9412, 0.7647,\n",
      "          0.8902, 0.9608, 0.9373, 0.8745, 0.8549, 0.8314, 0.8196, 0.8706,\n",
      "          0.8627, 0.8667, 0.9020, 0.2627],\n",
      "         [0.1882, 0.7961, 0.7176, 0.7608, 0.8353, 0.7725, 0.7255, 0.7451,\n",
      "          0.7608, 0.7529, 0.7922, 0.8392, 0.8588, 0.8667, 0.8627, 0.9255,\n",
      "          0.8824, 0.8471, 0.7804, 0.8078, 0.7294, 0.7098, 0.6941, 0.6745,\n",
      "          0.7098, 0.8039, 0.8078, 0.4510],\n",
      "         [0.0000, 0.4784, 0.8588, 0.7569, 0.7020, 0.6706, 0.7176, 0.7686,\n",
      "          0.8000, 0.8235, 0.8353, 0.8118, 0.8275, 0.8235, 0.7843, 0.7686,\n",
      "          0.7608, 0.7490, 0.7647, 0.7490, 0.7765, 0.7529, 0.6902, 0.6118,\n",
      "          0.6549, 0.6941, 0.8235, 0.3608],\n",
      "         [0.0000, 0.0000, 0.2902, 0.7412, 0.8314, 0.7490, 0.6863, 0.6745,\n",
      "          0.6863, 0.7098, 0.7255, 0.7373, 0.7412, 0.7373, 0.7569, 0.7765,\n",
      "          0.8000, 0.8196, 0.8235, 0.8235, 0.8275, 0.7373, 0.7373, 0.7608,\n",
      "          0.7529, 0.8471, 0.6667, 0.0000],\n",
      "         [0.0078, 0.0000, 0.0000, 0.0000, 0.2588, 0.7843, 0.8706, 0.9294,\n",
      "          0.9373, 0.9490, 0.9647, 0.9529, 0.9569, 0.8667, 0.8627, 0.7569,\n",
      "          0.7490, 0.7020, 0.7137, 0.7137, 0.7098, 0.6902, 0.6510, 0.6588,\n",
      "          0.3882, 0.2275, 0.0000, 0.0000],\n",
      "         [0.0000, 0.0000, 0.0000, 0.0000, 0.0000, 0.0000, 0.0000, 0.1569,\n",
      "          0.2392, 0.1725, 0.2824, 0.1608, 0.1373, 0.0000, 0.0000, 0.0000,\n",
      "          0.0000, 0.0000, 0.0000, 0.0000, 0.0000, 0.0000, 0.0000, 0.0000,\n",
      "          0.0000, 0.0000, 0.0000, 0.0000],\n",
      "         [0.0000, 0.0000, 0.0000, 0.0000, 0.0000, 0.0000, 0.0000, 0.0000,\n",
      "          0.0000, 0.0000, 0.0000, 0.0000, 0.0000, 0.0000, 0.0000, 0.0000,\n",
      "          0.0000, 0.0000, 0.0000, 0.0000, 0.0000, 0.0000, 0.0000, 0.0000,\n",
      "          0.0000, 0.0000, 0.0000, 0.0000],\n",
      "         [0.0000, 0.0000, 0.0000, 0.0000, 0.0000, 0.0000, 0.0000, 0.0000,\n",
      "          0.0000, 0.0000, 0.0000, 0.0000, 0.0000, 0.0000, 0.0000, 0.0000,\n",
      "          0.0000, 0.0000, 0.0000, 0.0000, 0.0000, 0.0000, 0.0000, 0.0000,\n",
      "          0.0000, 0.0000, 0.0000, 0.0000]]]) 9\n"
     ]
    }
   ],
   "source": [
    "# Image and label sample\n",
    "image, label = train_data[0]\n",
    "print(image, label)"
   ]
  },
  {
   "cell_type": "code",
   "execution_count": 57,
   "metadata": {},
   "outputs": [
    {
     "data": {
      "text/plain": [
       "['T-shirt/top',\n",
       " 'Trouser',\n",
       " 'Pullover',\n",
       " 'Dress',\n",
       " 'Coat',\n",
       " 'Sandal',\n",
       " 'Shirt',\n",
       " 'Sneaker',\n",
       " 'Bag',\n",
       " 'Ankle boot']"
      ]
     },
     "execution_count": 57,
     "metadata": {},
     "output_type": "execute_result"
    }
   ],
   "source": [
    "# All dataset labels \n",
    "class_names = train_data.classes\n",
    "class_names"
   ]
  },
  {
   "cell_type": "code",
   "execution_count": 58,
   "metadata": {},
   "outputs": [
    {
     "data": {
      "text/plain": [
       "{'T-shirt/top': 0,\n",
       " 'Trouser': 1,\n",
       " 'Pullover': 2,\n",
       " 'Dress': 3,\n",
       " 'Coat': 4,\n",
       " 'Sandal': 5,\n",
       " 'Shirt': 6,\n",
       " 'Sneaker': 7,\n",
       " 'Bag': 8,\n",
       " 'Ankle boot': 9}"
      ]
     },
     "execution_count": 58,
     "metadata": {},
     "output_type": "execute_result"
    }
   ],
   "source": [
    "# Each value corresponds to a class label\n",
    "class_to_idx = train_data.class_to_idx\n",
    "class_to_idx   "
   ]
  },
  {
   "cell_type": "code",
   "execution_count": 59,
   "metadata": {},
   "outputs": [
    {
     "data": {
      "text/plain": [
       "tensor([9, 0, 0,  ..., 3, 0, 5])"
      ]
     },
     "execution_count": 59,
     "metadata": {},
     "output_type": "execute_result"
    }
   ],
   "source": [
    "# List of class labels\n",
    "train_data.targets"
   ]
  },
  {
   "cell_type": "code",
   "execution_count": 60,
   "metadata": {},
   "outputs": [
    {
     "data": {
      "text/plain": [
       "(torch.Size([1, 28, 28]), 9)"
      ]
     },
     "execution_count": 60,
     "metadata": {},
     "output_type": "execute_result"
    }
   ],
   "source": [
    "# Printing the image and label shape (image: color channel, height, width)\n",
    "image.shape, label"
   ]
  },
  {
   "cell_type": "markdown",
   "metadata": {},
   "source": [
    "### 1.2 Visualizing data"
   ]
  },
  {
   "cell_type": "code",
   "execution_count": 61,
   "metadata": {},
   "outputs": [
    {
     "data": {
      "text/plain": [
       "(-0.5, 27.5, 27.5, -0.5)"
      ]
     },
     "execution_count": 61,
     "metadata": {},
     "output_type": "execute_result"
    },
    {
     "data": {
      "image/png": "[encoded data removed]",
      "text/plain": [
       "<Figure size 640x480 with 1 Axes>"
      ]
     },
     "metadata": {},
     "output_type": "display_data"
    }
   ],
   "source": [
    "# Visualizing the image\n",
    "plt.imshow(image.squeeze(), cmap='gray')\n",
    "plt.title(class_names[label])\n",
    "plt.axis(False)"
   ]
  },
  {
   "cell_type": "code",
   "execution_count": 62,
   "metadata": {},
   "outputs": [
    {
     "data": {
      "image/png": "[encoded data removed]",
      "text/plain": [
       "<Figure size 900x900 with 16 Axes>"
      ]
     },
     "metadata": {},
     "output_type": "display_data"
    }
   ],
   "source": [
    "# Plotting multiple images\n",
    "torch.manual_seed(42)\n",
    "fig = plt.figure(figsize=(9, 9))\n",
    "rows, cols = 4, 4\n",
    "for i in range(1, rows * cols + 1):\n",
    "    sample_idx = torch.randint(len(train_data), size=[1]).item()\n",
    "    img, label = train_data[sample_idx]\n",
    "    fig.add_subplot(rows, cols, i)\n",
    "    plt.imshow(img.squeeze(), cmap='gray')\n",
    "    plt.title(class_names[label])\n",
    "    plt.axis(False)"
   ]
  },
  {
   "cell_type": "markdown",
   "metadata": {},
   "source": [
    "## 2. Prepare Dataloader\n",
    "Breaking data into batches.\n",
    "\n",
    "\n",
    "The computer cannot \"look\" to, for example, 6000 thousands images at a time. So we split the data into smaller groups called batches.\n",
    "\n",
    "\n",
    "Normally we use 32 batch size, or, 32 images at a time.\n",
    "\n",
    "Also, it gives our neural network more chances to improve itself by epoch."
   ]
  },
  {
   "cell_type": "code",
   "execution_count": 63,
   "metadata": {},
   "outputs": [
    {
     "data": {
      "text/plain": [
       "(<torch.utils.data.dataloader.DataLoader at 0x7f552a5193a0>,\n",
       " <torch.utils.data.dataloader.DataLoader at 0x7f552a54d2b0>)"
      ]
     },
     "execution_count": 63,
     "metadata": {},
     "output_type": "execute_result"
    }
   ],
   "source": [
    "# Setup batch size hyperparameter\n",
    "BATCH_SIZE = 32 # 64, 128, 256, 512, 1024\n",
    "\n",
    "# Creating dataloaders\n",
    "train_dataloader = DataLoader(train_data, batch_size=BATCH_SIZE, shuffle=True)\n",
    "test_dataloader = DataLoader(test_data, batch_size=BATCH_SIZE, shuffle=False)\n",
    "\n",
    "train_dataloader, test_dataloader\n"
   ]
  },
  {
   "cell_type": "code",
   "execution_count": 64,
   "metadata": {},
   "outputs": [
    {
     "name": "stdout",
     "output_type": "stream",
     "text": [
      "Number of training batches: 1875 of size 32\n",
      "Number of testing batches: 313 of size 32\n"
     ]
    }
   ],
   "source": [
    "# Checking how many batches we have\n",
    "print(f\"Number of training batches: {len(train_dataloader)} of size {train_dataloader.batch_size}\")\n",
    "print(f\"Number of testing batches: {len(test_dataloader)} of size {test_dataloader.batch_size}\")"
   ]
  },
  {
   "cell_type": "code",
   "execution_count": 65,
   "metadata": {},
   "outputs": [
    {
     "data": {
      "text/plain": [
       "(torch.Size([32, 1, 28, 28]), torch.Size([32]))"
      ]
     },
     "execution_count": 65,
     "metadata": {},
     "output_type": "execute_result"
    }
   ],
   "source": [
    "# Getting a batch sample from the dataloader\n",
    "train_features_batch, train_labels_batch = next(iter(train_dataloader))\n",
    "train_features_batch.shape, train_labels_batch.shape"
   ]
  },
  {
   "cell_type": "code",
   "execution_count": 66,
   "metadata": {},
   "outputs": [
    {
     "name": "stdout",
     "output_type": "stream",
     "text": [
      "torch.Size([1, 28, 28])\n",
      "Shirt\n"
     ]
    },
    {
     "data": {
      "image/png": "[encoded data removed]",
      "text/plain": [
       "<Figure size 640x480 with 1 Axes>"
      ]
     },
     "metadata": {},
     "output_type": "display_data"
    }
   ],
   "source": [
    "# Getting image and label from the batch sample\n",
    "torch.manual_seed(42)\n",
    "random_idx = torch.randint(BATCH_SIZE, size=[1]).item()\n",
    "img, label = train_features_batch[random_idx], train_labels_batch[random_idx]\n",
    "plt.imshow(img.squeeze(), cmap='gray')\n",
    "plt.title(class_names[label])\n",
    "plt.axis(False)\n",
    "print(img.shape)\n",
    "print(class_names[label])\n"
   ]
  },
  {
   "cell_type": "markdown",
   "metadata": {},
   "source": [
    "## 3. Model 0 : Baseline model"
   ]
  },
  {
   "cell_type": "code",
   "execution_count": 67,
   "metadata": {},
   "outputs": [
    {
     "name": "stdout",
     "output_type": "stream",
     "text": [
      "Before flattening: torch.Size([1, 28, 28])\n",
      "After flattening: torch.Size([1, 784])\n"
     ]
    }
   ],
   "source": [
    "# Create a flatten layer\n",
    "flatten_model = nn.Flatten()\n",
    "\n",
    "# Get a single sample\n",
    "x = train_features_batch[0]\n",
    "\n",
    "# Flatten the image\n",
    "output = flatten_model(x)\n",
    "print(f\"Before flattening: {x.shape}\")\n",
    "print(f\"After flattening: {output.shape}\")"
   ]
  },
  {
   "cell_type": "code",
   "execution_count": 68,
   "metadata": {},
   "outputs": [],
   "source": [
    "class FashionMNISTModelV0(nn.Module):\n",
    "    def __init__(self,\n",
    "                 input_shape: int,\n",
    "                 hidden_units: int,\n",
    "                 output_shape: int):\n",
    "        super().__init__()\n",
    "        self.layer_stack = nn.Sequential(\n",
    "            nn.Flatten(),\n",
    "            nn.Linear(in_features= input_shape, out_features=hidden_units),\n",
    "            nn.Linear(in_features=hidden_units, out_features=output_shape)\n",
    "\n",
    "        )\n",
    "\n",
    "    def forward(self, x):\n",
    "        logits = self.layer_stack(x)\n",
    "        return logits\n",
    "        "
   ]
  },
  {
   "cell_type": "code",
   "execution_count": 69,
   "metadata": {},
   "outputs": [
    {
     "data": {
      "text/plain": [
       "FashionMNISTModelV0(\n",
       "  (layer_stack): Sequential(\n",
       "    (0): Flatten(start_dim=1, end_dim=-1)\n",
       "    (1): Linear(in_features=784, out_features=128, bias=True)\n",
       "    (2): Linear(in_features=128, out_features=10, bias=True)\n",
       "  )\n",
       ")"
      ]
     },
     "execution_count": 69,
     "metadata": {},
     "output_type": "execute_result"
    }
   ],
   "source": [
    "torch.manual_seed(42)\n",
    "\n",
    "# Instantiate the model\n",
    "model_0 = FashionMNISTModelV0(input_shape=28*28, \n",
    "                              hidden_units=128,\n",
    "                                output_shape=len(class_names))\n",
    "model_0.to(device)\n",
    "model_0"
   ]
  },
  {
   "cell_type": "code",
   "execution_count": 70,
   "metadata": {},
   "outputs": [
    {
     "data": {
      "text/plain": [
       "tensor([[-0.2292, -0.3081, -0.4636,  0.0714, -0.2627, -0.0312,  0.0321, -0.1599,\n",
       "          0.1276,  0.1425]], grad_fn=<AddmmBackward0>)"
      ]
     },
     "execution_count": 70,
     "metadata": {},
     "output_type": "execute_result"
    }
   ],
   "source": [
    "dummy_x = torch.rand(1, 28, 28).to(device)\n",
    "model_0(dummy_x)"
   ]
  },
  {
   "cell_type": "markdown",
   "metadata": {},
   "source": [
    "### 3.1 Setup loss function, optimizer and evaluation metrics\n",
    "\n",
    "* Loss function - `nn.CrossEntropyLoss()`\n",
    "* Optimizer - `torch.optim.SGD() `(stochastic gradient descent)\n",
    "* Evaluation metric - accuracy."
   ]
  },
  {
   "cell_type": "code",
   "execution_count": 71,
   "metadata": {},
   "outputs": [
    {
     "name": "stdout",
     "output_type": "stream",
     "text": [
      "Helper functions already exist! Skipping download.\n"
     ]
    }
   ],
   "source": [
    "# Importing helper functions\n",
    "import requests\n",
    "from pathlib import Path\n",
    "\n",
    "if Path(\"helper_functions.py\").exists():\n",
    "    print(\"Helper functions already exist! Skipping download.\")\n",
    "else:\n",
    "    print(\"Downloading helper_functions.py\")\n",
    "    # Note: you need the \"raw\" GitHub URL for this to work\n",
    "    request = requests.get(\"https://raw.githubusercontent.com/mrdbourke/pytorch-deep-learning/main/helper_functions.py\")\n",
    "    with open(\"helper_functions.py\", \"wb\") as f:\n",
    "        f.write(request.content)"
   ]
  },
  {
   "cell_type": "code",
   "execution_count": 72,
   "metadata": {},
   "outputs": [],
   "source": [
    "from helper_functions import accuracy_fn\n",
    "\n",
    "loss_fn = nn.CrossEntropyLoss()\n",
    "optimizer = torch.optim.SGD(model_0.parameters(), lr= 0.1) # Tutorial selected optimizer as SGD\n",
    "\n",
    "# optimizer = torch.optim.Adam(model_0.parameters(), lr=1e-3) # Adam: Copilot suggestion\n",
    "# What is Adam?\n",
    "# Adam is an optimization algorithm that can be used instead of the classical stochastic gradient descent procedure to update network weights iterative based in training data."
   ]
  },
  {
   "cell_type": "markdown",
   "metadata": {},
   "source": [
    "### 3.2 Creating a function to time the experiment\n",
    "\n",
    "Often you want to track to things:\n",
    "1. Model's performance (accuracy, loss)\n",
    "2. How fast it runs"
   ]
  },
  {
   "cell_type": "code",
   "execution_count": 73,
   "metadata": {},
   "outputs": [],
   "source": [
    "from timeit import default_timer as timer\n",
    "def print_train_time (start: float, end:float, device: torch.device = None):\n",
    "    print(f\"Training time: {end - start:.2f} seconds on device:{device}\")\n",
    "    return end - start"
   ]
  },
  {
   "cell_type": "markdown",
   "metadata": {},
   "source": [
    "### 3.3 Creating a training loop to train the model using batches of data\n",
    "\n",
    "1. Loop through the data\n",
    "2. Loop through the batches, perform training steps, calculate loss *per batch*.\n",
    "3. Loop through testing batches, perform testing steps, calculate loss *per batch*.\n",
    "4. Print it out.\n",
    "5. Time it."
   ]
  },
  {
   "cell_type": "code",
   "execution_count": 74,
   "metadata": {},
   "outputs": [
    {
     "data": {
      "application/vnd.jupyter.widget-view+json": {
       "model_id": "293846740e0444f8a9caf18f5abdcdb4",
       "version_major": 2,
       "version_minor": 0
      },
      "text/plain": [
       "  0%|          | 0/3 [00:00<?, ?it/s]"
      ]
     },
     "metadata": {},
     "output_type": "display_data"
    },
    {
     "name": "stdout",
     "output_type": "stream",
     "text": [
      "Epoch 1\n",
      "-------------------------------\n",
      "Batch 0 loss: 2.3405284881591797\n",
      "Batch 400 loss: 0.6049758791923523\n",
      "Batch 800 loss: 0.6499577760696411\n",
      "Batch 1200 loss: 0.3559314012527466\n",
      "Batch 1600 loss: 0.35203197598457336\n",
      "Epoch 2\n",
      "-------------------------------\n",
      "Batch 0 loss: 0.25963032245635986\n",
      "Batch 400 loss: 0.5991396903991699\n",
      "Batch 800 loss: 0.399014949798584\n",
      "Batch 1200 loss: 0.3362348675727844\n",
      "Batch 1600 loss: 0.5327666401863098\n",
      "Epoch 3\n",
      "-------------------------------\n",
      "Batch 0 loss: 0.5037592649459839\n",
      "Batch 400 loss: 0.5679938197135925\n",
      "Batch 800 loss: 0.3702755272388458\n",
      "Batch 1200 loss: 0.2893134355545044\n",
      "Batch 1600 loss: 0.422565758228302\n",
      "Train loss: 0.4523, Test loss: 0.5095, Test accuracy: 82.2384\n",
      "Training time: 19.85 seconds on device:cpu\n"
     ]
    },
    {
     "data": {
      "text/plain": [
       "19.849488226001995"
      ]
     },
     "execution_count": 74,
     "metadata": {},
     "output_type": "execute_result"
    }
   ],
   "source": [
    "from tqdm.notebook import tqdm# tqdm is a library that allows you to display progress bars in Python\n",
    "\n",
    "torch.manual_seed(42)\n",
    "train_time_start = timer()\n",
    "\n",
    "# Number of epochs\n",
    "EPOCHS = 3\n",
    "\n",
    "# Training loop\n",
    "for epoch in tqdm(range(EPOCHS)):\n",
    "    print(f\"Epoch {epoch+1}\\n-------------------------------\")\n",
    "    train_loss = 0\n",
    "    for idx, (features, labels) in enumerate(train_dataloader):\n",
    "        model_0.train()\n",
    "        # Getting the data to the device\n",
    "        features = features.to(device)\n",
    "        labels = labels.to(device)\n",
    "\n",
    "        # Forward pass\n",
    "        outputs = model_0(features)\n",
    "\n",
    "        # Loss calculation\n",
    "        loss = loss_fn(outputs, labels)\n",
    "        train_loss += loss # accumulate loss for each batch\n",
    "\n",
    "        # Backward pass and optimization\n",
    "        optimizer.zero_grad()\n",
    "        loss.backward()\n",
    "        optimizer.step()\n",
    "\n",
    "        if idx % 400 == 0:\n",
    "            print(f\"Batch {idx} loss: {loss.item()}\")\n",
    "train_loss /= len(train_dataloader)\n",
    "\n",
    "\n",
    "\n",
    "\n",
    "# Testing the model\n",
    "test_loss, test_accuracy = 0, 0\n",
    "model_0.eval()\n",
    "with torch.inference_mode():\n",
    "    for features, labels in test_dataloader:\n",
    "        # Getting the data to the device\n",
    "        features = features.to(device)\n",
    "        labels = labels.to(device)\n",
    "\n",
    "        # Forward pass\n",
    "        outputs = model_0(features)\n",
    "\n",
    "        # Loss calculation\n",
    "        test_loss += loss_fn(outputs, labels)\n",
    "\n",
    "        # Accuracy calculation\n",
    "        test_accuracy += accuracy_fn(y_true=labels, y_pred=outputs.argmax(dim=1))\n",
    "\n",
    "    # Averaging the loss and accuracy\n",
    "    test_loss /= len(test_dataloader)\n",
    "    test_accuracy /= len(test_dataloader)  \n",
    "\n",
    "    print(f\"Train loss: {train_loss:.4f}, Test loss: {test_loss:.4f}, Test accuracy: {test_accuracy:.4f}\")\n",
    "\n",
    "train_time_end = timer()\n",
    "print_train_time(train_time_start, train_time_end, device)\n",
    "\n"
   ]
  },
  {
   "cell_type": "markdown",
   "metadata": {},
   "source": [
    "## 4. Make predictions and get Model 0 results"
   ]
  },
  {
   "cell_type": "code",
   "execution_count": 75,
   "metadata": {},
   "outputs": [
    {
     "data": {
      "application/vnd.jupyter.widget-view+json": {
       "model_id": "18167c9d481a4d759e39c8e493914909",
       "version_major": 2,
       "version_minor": 0
      },
      "text/plain": [
       "  0%|          | 0/1875 [00:00<?, ?it/s]"
      ]
     },
     "metadata": {},
     "output_type": "display_data"
    },
    {
     "data": {
      "text/plain": [
       "{'model_name': 'FashionMNISTModelV0',\n",
       " 'loss': 0.46243253350257874,\n",
       " 'accuracy': 83.94333333333333}"
      ]
     },
     "execution_count": 75,
     "metadata": {},
     "output_type": "execute_result"
    }
   ],
   "source": [
    "torch.manual_seed(42)\n",
    "def eval_model(model: torch.nn.Module,\n",
    "               data_loader: torch.utils.data.DataLoader,\n",
    "               loss_fn: torch.nn.Module,\n",
    "               accuracy_fn):\n",
    "    \"\"\"\n",
    "    Returns a dictionary containign the results of the model prediction.\n",
    "    \"\"\"\n",
    "    loss, accuracy = 0, 0\n",
    "\n",
    "    with torch.inference_mode():\n",
    "        for features, labels in tqdm(data_loader):\n",
    "            # Getting the data to the device\n",
    "            features, labels = features.to(device), labels.to(device)\n",
    "\n",
    "            # Forward pass\n",
    "            outputs = model(features)\n",
    "\n",
    "            # Accumulate loss and accuracy for each batch\n",
    "            loss += loss_fn(outputs, labels)\n",
    "            accuracy += accuracy_fn(y_true=labels, y_pred=outputs.argmax(dim=1))\n",
    "\n",
    "        # Averaging the loss and accuracy\n",
    "        loss /= len(data_loader)\n",
    "        accuracy /= len(data_loader)\n",
    "\n",
    "    return {\"model_name\": model.__class__.__name__, \"loss\": loss.item(), \"accuracy\": accuracy}\n",
    "\n",
    "# Evaluating the model\n",
    "model_0_results = eval_model(model_0, train_dataloader, loss_fn, accuracy_fn)\n",
    "model_0_results\n"
   ]
  },
  {
   "cell_type": "markdown",
   "metadata": {},
   "source": [
    "## 6. Model 1: Creating a better model with non-linear activations\n"
   ]
  },
  {
   "cell_type": "code",
   "execution_count": 76,
   "metadata": {},
   "outputs": [],
   "source": [
    "# Model 1\n",
    "class FashionMNISTModelV1(nn.Module):\n",
    "    def __init__(self, input_shape: int, hidden_units: int, output_shape: int):\n",
    "        super().__init__()\n",
    "        self.layer_stack = nn.Sequential(\n",
    "            nn.Flatten(),\n",
    "            nn.Linear(in_features=input_shape, out_features=hidden_units),\n",
    "            nn.ReLU(),\n",
    "            nn.Linear(in_features=hidden_units, out_features=output_shape)\n",
    "        )\n",
    "\n",
    "    def forward(self, x: torch.Tensor):\n",
    "        logits = self.layer_stack(x)\n",
    "        return logits"
   ]
  },
  {
   "cell_type": "code",
   "execution_count": 77,
   "metadata": {},
   "outputs": [
    {
     "data": {
      "text/plain": [
       "FashionMNISTModelV1(\n",
       "  (layer_stack): Sequential(\n",
       "    (0): Flatten(start_dim=1, end_dim=-1)\n",
       "    (1): Linear(in_features=784, out_features=128, bias=True)\n",
       "    (2): ReLU()\n",
       "    (3): Linear(in_features=128, out_features=10, bias=True)\n",
       "  )\n",
       ")"
      ]
     },
     "execution_count": 77,
     "metadata": {},
     "output_type": "execute_result"
    }
   ],
   "source": [
    "# Instacing the model\n",
    "torch.manual_seed(42)\n",
    "model_1 = FashionMNISTModelV1(input_shape=28*28, hidden_units=128, output_shape=len(class_names))\n",
    "model_1.to(device)"
   ]
  },
  {
   "cell_type": "markdown",
   "metadata": {},
   "source": [
    "## 6.1 Setting up the loss function and evaluation metric"
   ]
  },
  {
   "cell_type": "code",
   "execution_count": 78,
   "metadata": {},
   "outputs": [],
   "source": [
    "# Loss function and optimizer\n",
    "from helper_functions import accuracy_fn\n",
    "\n",
    "loss_fn = nn.CrossEntropyLoss()\n",
    "optimizer = torch.optim.SGD(model_1.parameters(), lr=0.1)\n",
    "accuracy_fn = accuracy_fn\n"
   ]
  },
  {
   "cell_type": "markdown",
   "metadata": {},
   "source": [
    "### 6.2 Functionizing training and testing loops\n",
    "\n",
    "* Training loop - `train_step()`\n",
    "* Testing loop - `test_step()`"
   ]
  },
  {
   "cell_type": "code",
   "execution_count": 79,
   "metadata": {},
   "outputs": [],
   "source": [
    "def train_step(model: torch.nn.Module,\n",
    "               dataloader: torch.utils.data.DataLoader,\n",
    "               loss_fn: torch.nn.Module,\n",
    "               optimizer: torch.optim.Optimizer,\n",
    "               accuracy_fn,\n",
    "               device: torch.device):\n",
    "    \"\"\"\n",
    "    Performs a single training step.\n",
    "    \"\"\"\n",
    "    train_loss, train_accuracy = 0, 0\n",
    "\n",
    "    model.train()\n",
    "\n",
    "    # Training loop\n",
    "    for batch, (features, labels) in enumerate(dataloader):\n",
    "        # Getting the data to the device\n",
    "        features, labels = features.to(device), labels.to(device)\n",
    "\n",
    "        # Forward pass (raw predictions)\n",
    "        outputs = model(features)\n",
    "\n",
    "        # Loss and accuracy calculation \n",
    "        loss = loss_fn(outputs, labels)\n",
    "        train_loss += loss # accumulate loss for each batch\n",
    "\n",
    "        train_accuracy += accuracy_fn(y_true=labels, y_pred=outputs.argmax(dim=1))\n",
    "\n",
    "        # Backward pass and optimization\n",
    "        optimizer.zero_grad()\n",
    "        loss.backward()\n",
    "        optimizer.step()\n",
    "\n",
    "    # Averaging the loss and accuracy\n",
    "    train_loss /= len(dataloader)\n",
    "    train_accuracy /= len(dataloader)\n",
    "    print(f\"Train loss: {train_loss:.4f}, Train accuracy: {train_accuracy:.4f}\")"
   ]
  },
  {
   "cell_type": "code",
   "execution_count": 80,
   "metadata": {},
   "outputs": [],
   "source": [
    "def test_step(model: torch.nn.Module,\n",
    "              dataloader: torch.utils.data.DataLoader,\n",
    "              loss_fn: torch.nn.Module,\n",
    "              accuracy_fn,\n",
    "              device: torch.device):\n",
    "    \"\"\"\n",
    "    Perfoms a test loop for the model.\n",
    "    \"\"\"\n",
    "    \n",
    "    test_loss, test_accuracy = 0, 0\n",
    "\n",
    "    model.eval()\n",
    "    with torch.inference_mode():\n",
    "        for features, labels in dataloader:\n",
    "            # Getting the data to the device\n",
    "            features, labels = features.to(device), labels.to(device)\n",
    "\n",
    "            # Forward pass\n",
    "            outputs = model(features)\n",
    "\n",
    "            # Loss calculation\n",
    "            test_loss += loss_fn(outputs, labels)\n",
    "\n",
    "            # Accuracy calculation\n",
    "            test_accuracy += accuracy_fn(y_true=labels, y_pred=outputs.argmax(dim=1))\n",
    "\n",
    "        # Averaging the loss and accuracy\n",
    "        test_loss /= len(dataloader)\n",
    "        test_accuracy /= len(dataloader)\n",
    "\n",
    "        print(f\"Test loss: {test_loss:.4f}, Test accuracy: {test_accuracy:.4f}\")  "
   ]
  },
  {
   "cell_type": "code",
   "execution_count": 83,
   "metadata": {},
   "outputs": [
    {
     "data": {
      "application/vnd.jupyter.widget-view+json": {
       "model_id": "958ddcb57cef4e97bd1a691de59a7c28",
       "version_major": 2,
       "version_minor": 0
      },
      "text/plain": [
       "  0%|          | 0/3 [00:00<?, ?it/s]"
      ]
     },
     "metadata": {},
     "output_type": "display_data"
    },
    {
     "name": "stdout",
     "output_type": "stream",
     "text": [
      "Epoch 1\n",
      "-------------------------------\n",
      "Train loss: 0.3448, Train accuracy: 87.4650\n",
      "Epoch 2\n",
      "-------------------------------\n",
      "Train loss: 0.3253, Train accuracy: 88.1567\n",
      "Epoch 3\n",
      "-------------------------------\n",
      "Train loss: 0.3094, Train accuracy: 88.5950\n",
      "Test loss: 0.3649, Test accuracy: 86.9609\n",
      "Training time: 20.13 seconds on device:cpu\n"
     ]
    },
    {
     "data": {
      "application/vnd.jupyter.widget-view+json": {
       "model_id": "9e378c4915f84772add3621247553a68",
       "version_major": 2,
       "version_minor": 0
      },
      "text/plain": [
       "  0%|          | 0/1875 [00:00<?, ?it/s]"
      ]
     },
     "metadata": {},
     "output_type": "display_data"
    },
    {
     "data": {
      "text/plain": [
       "{'model_name': 'FashionMNISTModelV1',\n",
       " 'loss': 0.2974622845649719,\n",
       " 'accuracy': 89.185}"
      ]
     },
     "execution_count": 83,
     "metadata": {},
     "output_type": "execute_result"
    }
   ],
   "source": [
    "torch.manual_seed(42)\n",
    "\n",
    "# Start timer\n",
    "model_1_train_time_start = timer()\n",
    "\n",
    "# Number of epochs\n",
    "EPOCHS = 3\n",
    "\n",
    "# Training loop\n",
    "for epoch in tqdm(range(EPOCHS)):\n",
    "    print(f\"Epoch {epoch+1}\\n-------------------------------\")\n",
    "    train_step(model_1, train_dataloader, loss_fn, optimizer, accuracy_fn, device)\n",
    "\n",
    "# Testing the model\n",
    "test_step(model_1, test_dataloader, loss_fn, accuracy_fn, device)\n",
    "\n",
    "# End timer\n",
    "model_1_train_time_end = timer()\n",
    "# Print training time\n",
    "print_train_time(model_1_train_time_start, model_1_train_time_end, device)\n",
    "\n",
    "model_1_results = eval_model(model_1, train_dataloader, loss_fn, accuracy_fn)\n",
    "model_1_results"
   ]
  },
  {
   "cell_type": "code",
   "execution_count": 82,
   "metadata": {},
   "outputs": [
    {
     "data": {
      "text/plain": [
       "{'model_name': 'FashionMNISTModelV0',\n",
       " 'loss': 0.46243253350257874,\n",
       " 'accuracy': 83.94333333333333}"
      ]
     },
     "execution_count": 82,
     "metadata": {},
     "output_type": "execute_result"
    }
   ],
   "source": [
    "model_0_results"
   ]
  },
  {
   "cell_type": "markdown",
   "metadata": {},
   "source": [
    "## Model 2: Building a Convolutional Neural Network (CNN)\n",
    "\n",
    "CNNs are the most popular neural network architecture for image classification tasks.\n",
    "\n",
    "CNN's are also know as ConvNets."
   ]
  },
  {
   "cell_type": "code",
   "execution_count": 105,
   "metadata": {},
   "outputs": [],
   "source": [
    "# Create a convolutional neural network model\n",
    "#Copilot sugestion\n",
    "# class FashionMNISTModelV2(nn.Module):\n",
    "#     def __init__(self, in_channels: int, num_classes: int):\n",
    "#         super().__init__()\n",
    "#         self.layer_stack = nn.Sequential(\n",
    "#             nn.Conv2d(in_channels=in_channels, out_channels=16, kernel_size=3, stride=1, padding=1),\n",
    "#             nn.ReLU(),\n",
    "#             nn.MaxPool2d(kernel_size=2, stride=2),\n",
    "#             nn.Conv2d(in_channels=16, out_channels=32, kernel_size=3, stride=1, padding=1),\n",
    "#             nn.ReLU(),\n",
    "#             nn.MaxPool2d(kernel_size=2, stride=2),\n",
    "#             nn.Flatten(),\n",
    "#             nn.Linear(in_features=32*7*7, out_features=128),\n",
    "#             nn.ReLU(),\n",
    "#             nn.Linear(in_features=128, out_features=num_classes)\n",
    "#         )\n",
    "\n",
    "#     def forward(self, x: torch.Tensor):\n",
    "#         logits = self.layer_stack(x)\n",
    "#         return logits\n",
    "\n",
    "\n",
    "#Tutorial model\n",
    "class FashionMNISTModelV2(nn.Module):\n",
    "    \"\"\"\n",
    "    Model architecture that replicates the TinyVGG architecture.\n",
    "    \"\"\"\n",
    "    def __init__(self, input_shape: int,\n",
    "                 hidden_units: int,\n",
    "                 output_shape: int) -> None:\n",
    "        super().__init__()\n",
    "        self.conv_block_1 = nn.Sequential(\n",
    "            nn.Conv2d(in_channels=input_shape,\n",
    "                      out_channels=hidden_units,\n",
    "                      kernel_size=3,\n",
    "                      stride=1,\n",
    "                      padding=1),\n",
    "            nn.ReLU(),\n",
    "            nn.Conv2d(in_channels=hidden_units,\n",
    "                      out_channels=hidden_units,\n",
    "                      kernel_size=3,\n",
    "                      stride=1,\n",
    "                      padding=1),\n",
    "            nn.ReLU(),\n",
    "            nn.MaxPool2d(kernel_size=2, stride=2)\n",
    "        )\n",
    "\n",
    "        self.conv_block_2 = nn.Sequential(\n",
    "            nn.Conv2d(in_channels=hidden_units,\n",
    "                      out_channels=hidden_units*2, # copilot is suggesting \"hidden_units*2\", instead of \"hidden_units\"\n",
    "                      kernel_size=3, \n",
    "                      stride=1,\n",
    "                      padding=1),\n",
    "            nn.ReLU(),\n",
    "            nn.Conv2d(in_channels=hidden_units*2,\n",
    "                      out_channels=hidden_units*2,\n",
    "                      kernel_size=3,\n",
    "                      stride=1,\n",
    "                      padding=1),\n",
    "            nn.ReLU(),\n",
    "            nn.MaxPool2d(kernel_size=2, stride=2)\n",
    "        )\n",
    "\n",
    "        self.classifier = nn.Sequential(\n",
    "            nn.Flatten(),\n",
    "            nn.Linear(in_features= 7*7*hidden_units*2, # Copilot is suggesting 7*7*hidden_units*2 instead of 7*7*hidden_units (7*7 is the output shape of the last MaxPool2d layer)\n",
    "                      out_features= hidden_units*4),\n",
    "            nn.ReLU(),\n",
    "            nn.Linear(in_features= hidden_units*4,\n",
    "                      out_features= output_shape)\n",
    "        )\n",
    "        \n",
    "        # Copilot is suggesting two Linear layers instead of one and hidden_units*4 instead of hidden_units*2\n",
    "\n",
    "    def forward(self, x: torch.Tensor) -> torch.Tensor:\n",
    "        x = self.conv_block_1(x)\n",
    "        x = self.conv_block_2(x)\n",
    "        x = self.classifier(x)\n",
    "        return x\n",
    "        "
   ]
  },
  {
   "cell_type": "markdown",
   "metadata": {},
   "source": [
    "### 7.1 Stepping through the CNN `nn.Conv2d()`\n",
    "\n",
    "Convolutional layers are the building blocks of CNNs. \n",
    "\n",
    "A convolution is a linear operation that involves the multiplication of a set of weights with the input, much like a fully connected layer. The difference is that the input is usually a 3D volume (width, height, depth) instead of a 1D vector.\n",
    "\n"
   ]
  },
  {
   "cell_type": "code",
   "execution_count": 113,
   "metadata": {},
   "outputs": [
    {
     "name": "stdout",
     "output_type": "stream",
     "text": [
      "Image batch shape: torch.Size([32, 3, 64, 64])\n",
      "Single image shape: torch.Size([3, 64, 64])\n",
      "Test image: tensor([[[0.8823, 0.9150, 0.3829,  ..., 0.1587, 0.6542, 0.3278],\n",
      "         [0.6532, 0.3958, 0.9147,  ..., 0.2083, 0.3289, 0.1054],\n",
      "         [0.9192, 0.4008, 0.9302,  ..., 0.5535, 0.4117, 0.3510],\n",
      "         ...,\n",
      "         [0.1457, 0.1499, 0.3298,  ..., 0.9624, 0.6400, 0.7409],\n",
      "         [0.1709, 0.5797, 0.6340,  ..., 0.6885, 0.2405, 0.5956],\n",
      "         [0.9199, 0.1247, 0.3573,  ..., 0.6752, 0.2058, 0.5027]],\n",
      "\n",
      "        [[0.1458, 0.9024, 0.9217,  ..., 0.1868, 0.6352, 0.8431],\n",
      "         [0.9549, 0.4435, 0.6924,  ..., 0.1168, 0.7160, 0.5462],\n",
      "         [0.1616, 0.1054, 0.8614,  ..., 0.4531, 0.4736, 0.9448],\n",
      "         ...,\n",
      "         [0.4309, 0.3986, 0.1907,  ..., 0.9444, 0.2848, 0.3776],\n",
      "         [0.7948, 0.6855, 0.1009,  ..., 0.6147, 0.7747, 0.2323],\n",
      "         [0.5840, 0.9795, 0.3277,  ..., 0.3549, 0.1263, 0.1280]],\n",
      "\n",
      "        [[0.5027, 0.4195, 0.8893,  ..., 0.3084, 0.1567, 0.7860],\n",
      "         [0.7310, 0.9307, 0.2847,  ..., 0.8432, 0.8307, 0.0897],\n",
      "         [0.7021, 0.5967, 0.7744,  ..., 0.8485, 0.4520, 0.0401],\n",
      "         ...,\n",
      "         [0.5440, 0.0679, 0.6577,  ..., 0.9948, 0.2791, 0.4142],\n",
      "         [0.5095, 0.1246, 0.1726,  ..., 0.0984, 0.3224, 0.3125],\n",
      "         [0.3612, 0.8706, 0.4751,  ..., 0.5368, 0.2389, 0.2095]]])\n"
     ]
    }
   ],
   "source": [
    "torch.manual_seed(42)\n",
    "\n",
    "# Creating batches of images\n",
    "images = torch.rand(size=(32, 3, 64, 64)).to(device)\n",
    "test_image = images[0]\n",
    "\n",
    "print(f\"Image batch shape: {images.shape}\")\n",
    "print(f\"Single image shape: {test_image.shape}\")\n",
    "print(f\"Test image: {test_image}\")\n"
   ]
  },
  {
   "cell_type": "code",
   "execution_count": 117,
   "metadata": {},
   "outputs": [
    {
     "data": {
      "text/plain": [
       "tensor([[[[ 3.1770e-02,  3.4358e-02,  3.9181e-02,  ...,  3.4836e-02,\n",
       "            2.1641e-02, -1.8443e-01],\n",
       "          [ 3.6821e-01,  3.7800e-03, -2.4591e-02,  ..., -2.9521e-01,\n",
       "            1.9551e-01, -2.4507e-02],\n",
       "          [-1.4634e-02,  3.5654e-01, -3.5480e-02,  ...,  1.7425e-01,\n",
       "           -1.1074e-01, -1.1926e-02],\n",
       "          ...,\n",
       "          [ 2.4584e-01,  9.2390e-03,  5.6806e-02,  ..., -2.7741e-02,\n",
       "            9.1408e-02,  1.3243e-01],\n",
       "          [-7.6284e-03, -5.1802e-05, -4.4649e-02,  ..., -4.7360e-02,\n",
       "            1.7470e-01,  6.9550e-02],\n",
       "          [-1.4714e-01,  3.5891e-01,  2.8925e-01,  ..., -1.1052e-01,\n",
       "            2.2524e-01, -4.0892e-02]],\n",
       "\n",
       "         [[ 5.8302e-01,  8.6530e-02,  1.5701e-01,  ..., -5.6680e-02,\n",
       "           -5.8010e-02,  3.6485e-01],\n",
       "          [ 9.0060e-02,  4.3645e-01,  4.1854e-01,  ...,  1.3856e-01,\n",
       "            2.5413e-01,  8.3760e-02],\n",
       "          [ 2.8345e-01,  1.8342e-02,  4.5482e-01,  ...,  1.4066e-01,\n",
       "            9.6064e-02,  2.7286e-01],\n",
       "          ...,\n",
       "          [ 4.1874e-01,  2.6714e-01,  1.7156e-01,  ...,  1.3758e-01,\n",
       "           -4.9965e-02,  5.0752e-01],\n",
       "          [-2.1218e-02,  3.0198e-01,  3.2048e-01,  ...,  2.4876e-01,\n",
       "            5.4111e-01,  2.7302e-01],\n",
       "          [ 3.3239e-01,  2.6946e-01,  2.2689e-03,  ...,  3.8455e-01,\n",
       "            2.5257e-01,  5.0546e-01]],\n",
       "\n",
       "         [[ 1.1333e-01, -5.1295e-02,  2.2323e-01,  ...,  2.5013e-01,\n",
       "            6.4086e-02, -3.9931e-02],\n",
       "          [ 1.8702e-01, -2.0802e-01, -8.7472e-02,  ..., -2.9302e-01,\n",
       "            8.4996e-02,  3.2890e-02],\n",
       "          [-5.3973e-02,  5.9074e-02, -4.7262e-03,  ...,  6.1859e-02,\n",
       "            1.3248e-01,  2.6698e-01],\n",
       "          ...,\n",
       "          [-4.3976e-02, -1.9679e-01,  2.1766e-01,  ...,  2.1393e-01,\n",
       "            1.6696e-01,  2.7752e-01],\n",
       "          [ 4.3942e-01,  2.3522e-01, -1.7019e-01,  ...,  1.2737e-01,\n",
       "            1.5028e-01,  2.1903e-01],\n",
       "          [-5.4202e-03,  3.9533e-01, -7.4720e-02,  ..., -8.1187e-02,\n",
       "            2.6160e-01,  1.1321e-01]],\n",
       "\n",
       "         ...,\n",
       "\n",
       "         [[-7.7859e-02, -1.4203e-01, -3.5897e-02,  ...,  9.7424e-02,\n",
       "            1.3232e-01,  1.7681e-01],\n",
       "          [-7.1899e-02,  6.7181e-03,  7.5432e-02,  ...,  2.2658e-01,\n",
       "            2.1773e-01,  1.9494e-02],\n",
       "          [-2.0423e-01,  1.0240e-01,  9.5835e-02,  ...,  1.0116e-01,\n",
       "            4.0845e-02, -1.4610e-01],\n",
       "          ...,\n",
       "          [-1.2580e-02,  5.8162e-02,  1.5175e-01,  ..., -2.0076e-01,\n",
       "            1.5763e-01, -7.8877e-02],\n",
       "          [-2.9473e-02, -2.7259e-01, -1.3678e-01,  ...,  1.4464e-01,\n",
       "            9.8070e-02,  5.2490e-04],\n",
       "          [ 1.5221e-01,  1.3832e-01,  1.7763e-01,  ...,  1.6184e-02,\n",
       "           -1.3620e-01,  7.4652e-03]],\n",
       "\n",
       "         [[-2.6225e-01,  1.6548e-01, -2.9057e-01,  ...,  2.4001e-01,\n",
       "           -2.6472e-01, -1.5793e-01],\n",
       "          [-3.5326e-01, -9.1243e-02,  2.3127e-02,  ...,  1.0210e-01,\n",
       "           -2.7089e-02, -1.6808e-01],\n",
       "          [ 2.4530e-01,  3.0103e-03, -3.5308e-02,  ..., -9.0338e-02,\n",
       "           -1.4759e-02, -2.1336e-01],\n",
       "          ...,\n",
       "          [ 7.4281e-02,  8.3930e-02, -9.4953e-02,  ...,  1.7393e-01,\n",
       "            3.5335e-02,  4.4406e-02],\n",
       "          [ 4.3405e-02, -1.8986e-01, -3.4381e-02,  ...,  1.2752e-01,\n",
       "           -1.9852e-01,  9.1300e-02],\n",
       "          [ 7.8641e-02, -1.8751e-01, -3.6071e-02,  ..., -1.0205e-01,\n",
       "            8.3045e-02, -7.2348e-02]],\n",
       "\n",
       "         [[ 4.3801e-01,  1.5582e-01,  3.3787e-01,  ...,  8.4068e-02,\n",
       "            4.3143e-02,  3.0783e-01],\n",
       "          [ 2.6322e-01,  2.1796e-01,  1.5010e-01,  ..., -7.3062e-02,\n",
       "            2.9283e-01,  2.9020e-01],\n",
       "          [ 2.7090e-01,  2.6103e-01,  6.3895e-02,  ...,  5.7166e-02,\n",
       "           -4.4902e-02,  1.6709e-01],\n",
       "          ...,\n",
       "          [ 1.9146e-01,  2.4683e-02, -4.0129e-02,  ..., -6.8927e-02,\n",
       "           -7.1571e-02,  2.3505e-01],\n",
       "          [ 8.5717e-02,  4.5655e-01,  1.9315e-01,  ..., -8.9393e-03,\n",
       "           -2.4954e-02,  2.6318e-01],\n",
       "          [-1.0452e-01,  1.0885e-01,  9.7673e-02,  ...,  1.6554e-01,\n",
       "            2.9402e-01,  4.3063e-02]]]], grad_fn=<ConvolutionBackward0>)"
      ]
     },
     "execution_count": 117,
     "metadata": {},
     "output_type": "execute_result"
    }
   ],
   "source": [
    "# Create a single conv2d layer\n",
    "conv_layer = nn.Conv2d(in_channels=3,\n",
    "                       out_channels=10, \n",
    "                       kernel_size=3, \n",
    "                       stride=1, padding=0)\n",
    "\n",
    "# Pass the data through the conv layer\n",
    "conv_output = conv_layer(test_image.unsqueeze(0))\n",
    "conv_output"
   ]
  },
  {
   "cell_type": "markdown",
   "metadata": {},
   "source": [
    "### 7.2 Stepping through the CNN `nn.MaxPool2d()`\n",
    "\n",
    "Max pooling is a technique used to downsample the image. It takes the maximum value from a region of pixels."
   ]
  },
  {
   "cell_type": "code",
   "execution_count": 123,
   "metadata": {},
   "outputs": [
    {
     "name": "stdout",
     "output_type": "stream",
     "text": [
      "Test image original shape: torch.Size([3, 64, 64])\n",
      "Test image unsqueezed shape: torch.Size([1, 3, 64, 64])\n",
      "Max pool output shape: torch.Size([1, 10, 31, 31])\n",
      "Random tensor: tensor([[[[0.8823, 0.9150],\n",
      "          [0.3829, 0.9593]]]])\n",
      "Random tensor shape: torch.Size([1, 1, 2, 2])\n",
      "Max pool tensor: tensor([[[[0.9593]]]])\n",
      "Max pool tensor shape: torch.Size([1, 1, 1, 1])\n"
     ]
    }
   ],
   "source": [
    "# Printing the shapes\n",
    "print(f\"Test image original shape: {test_image.shape}\")\n",
    "print(f\"Test image unsqueezed shape: {test_image.unsqueeze(0).shape}\")\n",
    "torch.manual_seed(42)\n",
    "\n",
    "# Create a random tensor\n",
    "random_tensor = torch.rand(size=(1, 1, 2, 2)).to(device)\n",
    "\n",
    "# Create a sample nn.MaxPool2d layer\n",
    "max_pool_layer = nn.MaxPool2d(kernel_size=2, stride=2)\n",
    "\n",
    "# Pass the data through the max pool layer\n",
    "max_pool_output = max_pool_layer(conv_output)\n",
    "print(f\"Max pool output shape: {max_pool_output.shape}\")\n",
    "\n",
    "# Pass the random tensor through the max pool layer\n",
    "max_pool_tensor = max_pool_layer(random_tensor)\n",
    "print(f\"Random tensor: {random_tensor}\")\n",
    "print(f\"Random tensor shape: {random_tensor.shape}\")\n",
    "print(f\"Max pool tensor: {max_pool_tensor}\")\n",
    "print(f\"Max pool tensor shape: {max_pool_tensor.shape}\")"
   ]
  },
  {
   "cell_type": "code",
   "execution_count": 109,
   "metadata": {},
   "outputs": [],
   "source": [
    "torch.manual_seed(42)\n",
    "# Instantiate the model\n",
    "model_2 = FashionMNISTModelV2(input_shape=1, \n",
    "                              hidden_units=10, # Copilot is suggesting hidden_units=32, instead of 10. Following the tutorial\n",
    "                              output_shape=len(class_names)).to(device) "
   ]
  },
  {
   "cell_type": "code",
   "execution_count": 130,
   "metadata": {},
   "outputs": [
    {
     "data": {
      "text/plain": [
       "<matplotlib.image.AxesImage at 0x7f551d0d9ca0>"
      ]
     },
     "execution_count": 130,
     "metadata": {},
     "output_type": "execute_result"
    },
    {
     "data": {
      "image/png": "[encoded data removed]",
      "text/plain": [
       "<Figure size 640x480 with 1 Axes>"
      ]
     },
     "metadata": {},
     "output_type": "display_data"
    }
   ],
   "source": [
    "plt.imshow(image.squeeze(), cmap='gray')"
   ]
  },
  {
   "cell_type": "code",
   "execution_count": 133,
   "metadata": {},
   "outputs": [
    {
     "data": {
      "text/plain": [
       "tensor([[ -6.8538,  -6.2179,  -7.2606,  -2.3967, -10.4100,   3.9492,  -4.9240,\n",
       "           8.7737,   2.1163,  17.7866]], grad_fn=<AddmmBackward0>)"
      ]
     },
     "execution_count": 133,
     "metadata": {},
     "output_type": "execute_result"
    }
   ],
   "source": [
    "# pass the image through the model\n",
    "model_2_output = model_2(image.unsqueeze(0))\n",
    "model_2_output"
   ]
  },
  {
   "cell_type": "code",
   "execution_count": 135,
   "metadata": {},
   "outputs": [
    {
     "data": {
      "text/plain": [
       "'Ankle boot'"
      ]
     },
     "execution_count": 135,
     "metadata": {},
     "output_type": "execute_result"
    }
   ],
   "source": [
    "# Getting label from the model output\n",
    "model_2_output.argmax(dim=1)"
   ]
  },
  {
   "cell_type": "markdown",
   "metadata": {},
   "source": [
    "### 7.3 Setup the loss function, optimizer and evaluation metric"
   ]
  },
  {
   "cell_type": "code",
   "execution_count": 137,
   "metadata": {},
   "outputs": [
    {
     "data": {
      "text/plain": [
       "OrderedDict([('conv_block_1.0.weight',\n",
       "              tensor([[[[ 0.1621,  0.1370, -0.1683],\n",
       "                        [ 0.5462,  0.3607,  0.0495],\n",
       "                        [-0.6471,  0.1970,  0.4676]]],\n",
       "              \n",
       "              \n",
       "                      [[[-1.5746,  0.4838,  0.2621],\n",
       "                        [-0.3880,  1.0881, -0.0220],\n",
       "                        [-0.7000,  0.5108,  0.0685]]],\n",
       "              \n",
       "              \n",
       "                      [[[-0.5058, -0.0155,  0.2536],\n",
       "                        [-1.7606, -1.5033,  0.4640],\n",
       "                        [-1.4494, -0.7838,  0.2031]]],\n",
       "              \n",
       "              \n",
       "                      [[[-0.0117, -0.7492, -0.9008],\n",
       "                        [ 0.8807, -0.7148,  0.1831],\n",
       "                        [ 0.4488, -0.1109,  0.5958]]],\n",
       "              \n",
       "              \n",
       "                      [[[ 0.0024,  0.2925,  0.3026],\n",
       "                        [ 0.4116,  0.5447, -1.0545],\n",
       "                        [ 0.1557,  0.3633, -0.3080]]],\n",
       "              \n",
       "              \n",
       "                      [[[-0.1372,  0.1849,  0.0593],\n",
       "                        [ 0.1841, -0.1942, -0.3335],\n",
       "                        [-0.1307, -0.2554,  0.2667]]],\n",
       "              \n",
       "              \n",
       "                      [[[ 0.1676,  0.2785,  0.4344],\n",
       "                        [ 0.3183, -0.2479, -0.7091],\n",
       "                        [-0.0909, -0.8446, -0.4829]]],\n",
       "              \n",
       "              \n",
       "                      [[[-0.0861,  0.1070, -0.0309],\n",
       "                        [ 0.3518, -0.2454, -0.2299],\n",
       "                        [-0.2812,  0.2480,  0.0652]]],\n",
       "              \n",
       "              \n",
       "                      [[[ 0.8877, -0.6221, -0.7425],\n",
       "                        [-0.2305, -0.9255, -0.1677],\n",
       "                        [ 0.6193,  0.5914, -0.2931]]],\n",
       "              \n",
       "              \n",
       "                      [[[-0.2262,  0.1768, -0.1352],\n",
       "                        [ 0.2068, -0.0785,  0.1916],\n",
       "                        [-0.2585, -0.1682,  0.1018]]]])),\n",
       "             ('conv_block_1.0.bias',\n",
       "              tensor([-0.3192, -0.1102,  0.3364,  0.1221, -0.1249, -0.1901,  0.3314, -0.0644,\n",
       "                      -0.2084, -0.3206])),\n",
       "             ('conv_block_1.2.weight',\n",
       "              tensor([[[[-6.9156e-02,  1.5792e-02, -1.8274e-02],\n",
       "                        [-8.8913e-02, -5.2318e-03, -7.8387e-02],\n",
       "                        [-1.0781e-01, -5.9351e-02, -9.4566e-02]],\n",
       "              \n",
       "                       [[-6.8722e-02,  9.8520e-02,  8.8698e-03],\n",
       "                        [ 2.9445e-02, -9.8875e-02, -8.6999e-02],\n",
       "                        [-3.7756e-02,  1.7379e-02, -1.0393e-01]],\n",
       "              \n",
       "                       [[-4.9420e-02, -5.5298e-02, -2.2518e-02],\n",
       "                        [-4.7129e-02, -1.0842e-02, -1.0452e-01],\n",
       "                        [-8.0134e-02, -6.3535e-02, -6.6070e-02]],\n",
       "              \n",
       "                       [[-8.3976e-02,  6.8073e-02, -3.0618e-02],\n",
       "                        [ 5.7005e-02,  1.6463e-02, -1.0336e-01],\n",
       "                        [ 5.9297e-02, -4.4633e-02, -4.7777e-02]],\n",
       "              \n",
       "                       [[-1.0290e-01, -1.0495e-01,  3.0862e-02],\n",
       "                        [-3.9729e-02,  4.4191e-02, -8.3620e-02],\n",
       "                        [ 6.0801e-02, -8.1546e-02, -1.8102e-02]],\n",
       "              \n",
       "                       [[ 2.2011e-02,  5.4473e-02,  8.5250e-02],\n",
       "                        [ 9.6092e-02, -8.3296e-02,  2.6526e-02],\n",
       "                        [-4.5281e-02, -1.1544e-02, -7.8916e-02]],\n",
       "              \n",
       "                       [[ 8.1611e-02, -9.2622e-02,  3.9657e-02],\n",
       "                        [ 1.3015e-02,  1.2330e-02, -8.3197e-02],\n",
       "                        [ 7.4835e-02, -4.2511e-03, -2.3489e-02]],\n",
       "              \n",
       "                       [[-9.2987e-02,  4.4050e-02, -1.5620e-02],\n",
       "                        [-4.9315e-02,  9.0571e-02,  2.3327e-02],\n",
       "                        [-6.0092e-02, -5.3333e-02, -5.1344e-03]],\n",
       "              \n",
       "                       [[ 5.6343e-02, -2.8865e-02, -5.8547e-02],\n",
       "                        [-3.0954e-02, -8.3793e-02,  4.1401e-02],\n",
       "                        [ 8.3591e-02, -1.0177e-01,  2.6408e-02]],\n",
       "              \n",
       "                       [[ 5.4454e-02,  1.9111e-02, -3.7537e-02],\n",
       "                        [ 5.5023e-02,  5.5394e-02,  3.9418e-02],\n",
       "                        [-1.8523e-02, -2.7910e-02,  1.1282e-02]]],\n",
       "              \n",
       "              \n",
       "                      [[[-1.1440e-01, -5.3197e-02,  5.4678e-02],\n",
       "                        [ 1.2823e-01,  4.3584e-03,  1.5622e-02],\n",
       "                        [ 6.1160e-02, -4.9896e-03,  1.2037e-01]],\n",
       "              \n",
       "                       [[-1.2441e-01, -9.8261e-02, -1.4778e-01],\n",
       "                        [ 7.7576e-02,  1.1188e-01, -5.1120e-02],\n",
       "                        [-2.0268e-01, -7.3399e-02, -1.8775e-01]],\n",
       "              \n",
       "                       [[-6.2270e-02,  1.6720e-02,  6.4443e-02],\n",
       "                        [ 3.2954e-02, -9.4350e-02, -6.2308e-02],\n",
       "                        [-1.6857e-02,  9.8848e-02,  1.3145e-02]],\n",
       "              \n",
       "                       [[-3.1611e-02, -1.7137e-02, -9.4442e-02],\n",
       "                        [ 6.7961e-02,  1.0515e-01, -9.9483e-02],\n",
       "                        [-7.3347e-02, -1.3608e-01,  1.1261e-01]],\n",
       "              \n",
       "                       [[ 7.7894e-03,  3.4648e-04,  8.0318e-02],\n",
       "                        [-8.2876e-02, -5.5509e-02,  3.5403e-01],\n",
       "                        [ 9.8373e-02,  1.3021e-01,  2.0321e-01]],\n",
       "              \n",
       "                       [[ 2.5868e-02, -1.2556e-03, -8.0150e-02],\n",
       "                        [-9.1123e-02, -9.8591e-02,  4.3099e-02],\n",
       "                        [-5.1933e-02, -2.1161e-02, -6.2024e-02]],\n",
       "              \n",
       "                       [[-2.3702e-02, -1.2095e-01, -1.3623e-01],\n",
       "                        [ 1.4205e-02, -7.8810e-02,  4.0729e-02],\n",
       "                        [-3.0632e-02, -1.0621e-01,  1.5372e-03]],\n",
       "              \n",
       "                       [[-5.2388e-02, -3.3412e-02, -9.9291e-02],\n",
       "                        [ 6.6104e-02, -6.5789e-02,  5.6502e-02],\n",
       "                        [ 4.6386e-02,  7.3941e-02, -7.6055e-02]],\n",
       "              \n",
       "                       [[ 1.0630e-01, -4.2976e-02,  5.2306e-02],\n",
       "                        [ 9.4876e-02, -2.6200e-02, -1.4791e-02],\n",
       "                        [-2.8417e-02, -9.3046e-02,  3.2344e-02]],\n",
       "              \n",
       "                       [[-1.0463e-01,  6.5453e-02,  7.8861e-02],\n",
       "                        [ 9.9641e-02, -2.4845e-02, -8.6601e-02],\n",
       "                        [ 2.3655e-02,  5.8250e-02, -1.0491e-01]]],\n",
       "              \n",
       "              \n",
       "                      [[[-3.3688e-02, -6.5612e-02, -9.0389e-03],\n",
       "                        [-7.8998e-02, -4.9239e-02, -3.6182e-02],\n",
       "                        [-1.4380e-01,  6.1401e-02,  8.0101e-02]],\n",
       "              \n",
       "                       [[-1.9183e-02, -8.8729e-03, -4.3393e-02],\n",
       "                        [-9.9471e-02, -1.0333e-01,  3.1591e-02],\n",
       "                        [-6.3664e-02, -7.4710e-02, -1.6119e-02]],\n",
       "              \n",
       "                       [[-3.5664e-02, -2.4786e-02, -1.2948e-02],\n",
       "                        [-2.2331e-02, -2.9799e-02, -6.3225e-02],\n",
       "                        [-8.5739e-02,  9.1600e-02, -4.8558e-02]],\n",
       "              \n",
       "                       [[ 2.1400e-02, -6.0233e-02, -3.7267e-04],\n",
       "                        [ 6.5451e-02,  5.6625e-03, -1.1299e-01],\n",
       "                        [ 1.2798e-02,  4.1783e-02, -5.7808e-03]],\n",
       "              \n",
       "                       [[ 4.2335e-02,  9.3549e-02, -1.7694e-02],\n",
       "                        [-1.8873e-02, -8.9242e-02, -2.6864e-02],\n",
       "                        [ 3.4053e-02,  3.1450e-02, -7.8528e-02]],\n",
       "              \n",
       "                       [[-8.4517e-02, -7.2103e-02, -1.0403e-01],\n",
       "                        [-8.1327e-02, -2.6065e-02,  7.1174e-02],\n",
       "                        [ 1.7635e-02, -8.0160e-02, -8.4483e-02]],\n",
       "              \n",
       "                       [[ 4.2856e-02, -9.4776e-02, -2.8115e-02],\n",
       "                        [ 4.3960e-02, -6.6332e-02, -2.5215e-02],\n",
       "                        [-1.7488e-02, -3.1407e-02, -6.2858e-02]],\n",
       "              \n",
       "                       [[-9.2915e-02, -8.5162e-02, -5.6706e-02],\n",
       "                        [ 9.7975e-02, -5.0180e-02, -7.1363e-02],\n",
       "                        [ 2.4602e-02,  2.5765e-02,  5.6763e-02]],\n",
       "              \n",
       "                       [[ 8.0782e-02,  5.4374e-02, -1.0438e-01],\n",
       "                        [ 1.1962e-02,  5.5452e-02, -1.0181e-02],\n",
       "                        [-6.2505e-02,  8.2501e-02, -4.8069e-02]],\n",
       "              \n",
       "                       [[-6.0014e-02, -9.5032e-02,  4.6965e-03],\n",
       "                        [ 4.6710e-02,  2.3334e-02,  2.0845e-02],\n",
       "                        [-7.9941e-02, -9.8440e-02,  1.8503e-03]]],\n",
       "              \n",
       "              \n",
       "                      [[[-1.2327e-01, -3.7627e-01, -1.5897e-01],\n",
       "                        [ 1.1515e-01,  2.3407e-02,  1.8319e-01],\n",
       "                        [ 3.3993e-01,  2.5448e-01,  1.8360e-01]],\n",
       "              \n",
       "                       [[-3.5688e-01,  1.9491e-01, -5.4836e-02],\n",
       "                        [ 7.0936e-02, -6.7884e-02,  1.7324e-01],\n",
       "                        [ 4.0737e-01, -3.2038e-01, -4.6435e-02]],\n",
       "              \n",
       "                       [[-1.6177e-01, -3.6897e-01, -3.1715e-01],\n",
       "                        [-4.6866e-01, -4.4284e-01, -1.4559e-01],\n",
       "                        [-2.3016e-02, -2.1320e-01,  4.0014e-02]],\n",
       "              \n",
       "                       [[-1.5892e-01, -4.8410e-02, -2.1176e-02],\n",
       "                        [ 1.1153e-02,  2.9146e-01,  1.6501e-01],\n",
       "                        [ 7.1006e-02, -1.7726e-01, -2.3752e-01]],\n",
       "              \n",
       "                       [[-5.4970e-01, -4.9996e-01, -1.2993e-01],\n",
       "                        [ 1.0100e-01,  1.4321e-01,  3.1419e-01],\n",
       "                        [ 7.8687e-02,  2.8486e-01,  1.5615e-01]],\n",
       "              \n",
       "                       [[-6.0496e-02, -4.3041e-02,  3.6321e-02],\n",
       "                        [-6.3805e-02, -6.9146e-02, -9.2770e-03],\n",
       "                        [-3.5461e-02, -8.9945e-02,  5.7300e-02]],\n",
       "              \n",
       "                       [[ 1.1311e-01, -1.1561e-01, -5.7712e-02],\n",
       "                        [-3.9045e-01, -1.9063e-01, -1.8150e-01],\n",
       "                        [ 2.2701e-01,  1.8514e-01, -1.4051e-01]],\n",
       "              \n",
       "                       [[-3.5841e-03, -1.2052e-01,  7.0452e-02],\n",
       "                        [-7.0674e-02, -5.0115e-02, -2.4736e-02],\n",
       "                        [ 5.1958e-03, -8.4847e-02,  3.1537e-02]],\n",
       "              \n",
       "                       [[-1.1984e-01, -1.9065e-02, -9.6996e-02],\n",
       "                        [-1.3602e-01, -6.4153e-02, -3.6130e-02],\n",
       "                        [-9.2367e-02, -1.2014e-01, -2.0262e-01]],\n",
       "              \n",
       "                       [[-1.0402e-01, -8.6303e-02,  2.0405e-02],\n",
       "                        [ 2.8126e-02,  2.2419e-02, -2.8073e-02],\n",
       "                        [ 9.7758e-02,  1.5019e-02, -6.2142e-02]]],\n",
       "              \n",
       "              \n",
       "                      [[[-4.2610e-02, -1.3790e-01,  1.0285e-01],\n",
       "                        [-1.8064e-01,  1.1676e-01, -2.4351e-02],\n",
       "                        [-3.8207e-01,  1.5125e-01,  3.1129e-01]],\n",
       "              \n",
       "                       [[-3.2928e-02,  4.2117e-01, -1.3157e-01],\n",
       "                        [ 5.9193e-01, -1.2557e-02, -8.8765e-03],\n",
       "                        [ 2.2603e-01, -1.5685e-01,  8.1374e-02]],\n",
       "              \n",
       "                       [[ 1.7476e-01, -3.8983e-01, -4.3578e-01],\n",
       "                        [ 3.9686e-01, -3.0339e-01, -8.3770e-02],\n",
       "                        [ 1.7341e-01, -2.4052e-01,  2.5806e-01]],\n",
       "              \n",
       "                       [[-2.9346e-01,  1.1846e-01,  2.8567e-01],\n",
       "                        [-3.3898e-01,  5.4839e-02, -1.6410e-03],\n",
       "                        [-2.2680e-01,  2.9399e-02, -6.8438e-02]],\n",
       "              \n",
       "                       [[-2.4916e-01,  1.4457e-01, -3.7709e-01],\n",
       "                        [-5.4589e-02,  1.5821e-01, -2.8264e-02],\n",
       "                        [-1.4629e-03, -1.2867e-01,  7.9926e-02]],\n",
       "              \n",
       "                       [[ 5.0474e-02, -7.7664e-02, -6.3619e-02],\n",
       "                        [-1.8740e-02, -2.3984e-02,  3.5710e-03],\n",
       "                        [-9.3140e-02,  2.9725e-02, -8.7418e-02]],\n",
       "              \n",
       "                       [[ 1.1386e-02,  8.1169e-03,  2.2407e-01],\n",
       "                        [-3.1846e-01,  1.3412e-01, -2.0090e-01],\n",
       "                        [-3.8978e-02,  1.4470e-02, -1.2420e-01]],\n",
       "              \n",
       "                       [[ 5.4908e-03,  1.8586e-02, -1.2435e-01],\n",
       "                        [-7.3831e-04, -2.4431e-02, -4.1322e-04],\n",
       "                        [ 6.6005e-03,  4.3603e-02, -5.5536e-02]],\n",
       "              \n",
       "                       [[-2.1682e-01,  7.8079e-02, -1.6744e-01],\n",
       "                        [-1.1530e-01, -3.3033e-01, -3.3424e-01],\n",
       "                        [-1.0962e-01,  1.1213e-01, -1.2393e-01]],\n",
       "              \n",
       "                       [[-7.4132e-03, -2.3676e-02,  1.9390e-02],\n",
       "                        [ 9.8722e-02,  1.1078e-02,  6.2048e-02],\n",
       "                        [ 8.2220e-02,  8.5854e-02, -3.6370e-02]]],\n",
       "              \n",
       "              \n",
       "                      [[[-2.2860e-03,  3.3427e-03, -1.5133e-01],\n",
       "                        [ 3.1354e-02, -5.5246e-03, -1.4782e-01],\n",
       "                        [ 5.6089e-02, -2.8555e-02, -1.6980e-01]],\n",
       "              \n",
       "                       [[ 1.2321e-01,  1.8005e-01,  6.0676e-01],\n",
       "                        [ 1.0995e-01, -3.5869e-01, -4.7122e-01],\n",
       "                        [-1.4013e-01, -2.8525e-01, -3.3455e-01]],\n",
       "              \n",
       "                       [[-2.2807e-01, -2.4602e-01, -9.1087e-02],\n",
       "                        [-3.4353e-01, -3.0092e-01,  3.6127e-01],\n",
       "                        [-7.5306e-02, -2.1751e-01,  2.4736e-01]],\n",
       "              \n",
       "                       [[-9.2940e-02, -5.5336e-02, -3.9698e-01],\n",
       "                        [-6.2140e-02, -2.7205e-01, -4.7793e-01],\n",
       "                        [ 5.5301e-01,  7.5797e-02,  2.6530e-01]],\n",
       "              \n",
       "                       [[-1.6146e-01, -9.1307e-02, -2.1618e-01],\n",
       "                        [ 3.4752e-01,  3.9148e-01, -5.1304e-02],\n",
       "                        [-9.8836e-02,  1.2147e-01, -3.9291e-01]],\n",
       "              \n",
       "                       [[-8.3379e-02, -6.9037e-03, -9.1667e-02],\n",
       "                        [ 7.3146e-02,  1.3126e-02, -4.9430e-02],\n",
       "                        [ 5.5811e-02, -9.7625e-02, -3.7909e-02]],\n",
       "              \n",
       "                       [[-2.5230e-01, -1.9753e-01, -1.2829e-01],\n",
       "                        [ 1.8998e-01,  4.1984e-01,  2.6013e-01],\n",
       "                        [ 3.4275e-01,  3.5458e-02, -1.4133e-01]],\n",
       "              \n",
       "                       [[ 9.9419e-02,  3.6544e-02,  6.6863e-03],\n",
       "                        [ 1.9037e-04, -8.3445e-02, -3.1816e-02],\n",
       "                        [ 9.6266e-02, -1.1522e-02,  2.0600e-02]],\n",
       "              \n",
       "                       [[-2.1764e-01, -4.1121e-02, -1.3104e-01],\n",
       "                        [-8.2310e-02,  2.9243e-02, -1.6109e-01],\n",
       "                        [-1.9546e-01, -2.8453e-03, -3.3544e-03]],\n",
       "              \n",
       "                       [[-5.1471e-02,  4.0166e-02,  8.3499e-02],\n",
       "                        [-2.8790e-02, -4.3321e-02, -9.4950e-02],\n",
       "                        [-5.4561e-02, -9.2331e-02, -2.4155e-02]]],\n",
       "              \n",
       "              \n",
       "                      [[[ 3.8058e-01, -1.8528e-01, -5.9141e-02],\n",
       "                        [ 4.7997e-01, -9.0701e-02, -6.8236e-01],\n",
       "                        [-1.9069e-02,  2.9881e-01, -2.2329e-01]],\n",
       "              \n",
       "                       [[-2.6218e-02, -2.8850e-02, -1.3875e-01],\n",
       "                        [ 9.8092e-02,  3.8804e-02, -6.2324e-01],\n",
       "                        [-1.7778e-02,  1.8613e-01, -2.4930e-01]],\n",
       "              \n",
       "                       [[ 1.3059e-02,  2.9113e-01,  3.1378e-01],\n",
       "                        [-1.5485e-01,  1.6426e-03,  6.0568e-01],\n",
       "                        [-9.7927e-02,  9.4288e-04,  6.1184e-02]],\n",
       "              \n",
       "                       [[-5.2670e-02, -1.5149e-01, -3.7444e-01],\n",
       "                        [-1.8378e-02, -2.6924e-02,  1.1429e-01],\n",
       "                        [-1.1602e-01,  1.3209e-01,  6.5659e-01]],\n",
       "              \n",
       "                       [[ 2.1572e-01,  3.6021e-01, -5.0468e-01],\n",
       "                        [ 3.6424e-01,  6.1177e-01, -6.4784e-01],\n",
       "                        [-2.5626e-01,  1.9520e-01, -2.7933e-01]],\n",
       "              \n",
       "                       [[ 9.4063e-02, -8.9765e-02, -2.3447e-02],\n",
       "                        [-9.2117e-02, -3.9243e-02,  3.7563e-02],\n",
       "                        [ 1.0241e-01,  1.7439e-02,  1.0717e-01]],\n",
       "              \n",
       "                       [[ 1.1139e-02,  3.2490e-01,  5.8381e-01],\n",
       "                        [ 3.7793e-01,  1.9533e-01,  2.4168e-01],\n",
       "                        [-2.6289e-02, -2.4365e-01, -4.3064e-01]],\n",
       "              \n",
       "                       [[-9.3493e-02,  6.4045e-02, -5.6699e-02],\n",
       "                        [ 1.1173e-01,  9.6423e-02, -8.6207e-02],\n",
       "                        [-1.4294e-02,  2.1721e-02,  6.3837e-02]],\n",
       "              \n",
       "                       [[ 2.0627e-02, -3.7203e-01,  8.8701e-02],\n",
       "                        [ 8.3534e-02,  3.7068e-01, -8.6938e-02],\n",
       "                        [ 1.1414e-01,  1.7129e-01,  2.7417e-01]],\n",
       "              \n",
       "                       [[ 5.9465e-02,  3.8344e-02,  8.2932e-02],\n",
       "                        [-3.9583e-02,  3.5369e-02,  3.7387e-02],\n",
       "                        [-8.7627e-02, -1.0241e-01, -5.4791e-02]]],\n",
       "              \n",
       "              \n",
       "                      [[[ 3.5699e-01, -7.0751e-02, -4.8793e-01],\n",
       "                        [ 3.9739e-01,  1.0834e-02, -1.9713e-01],\n",
       "                        [ 5.7714e-02,  4.1011e-01, -3.3367e-01]],\n",
       "              \n",
       "                       [[ 3.1041e-01,  5.2008e-02, -4.4366e-01],\n",
       "                        [ 3.8624e-02,  3.7123e-01, -7.6050e-01],\n",
       "                        [-5.1254e-03,  3.8795e-01, -8.4846e-01]],\n",
       "              \n",
       "                       [[-4.8919e-01, -1.6411e-01, -2.8052e-02],\n",
       "                        [-2.3673e-01, -2.2465e-01, -6.1468e-02],\n",
       "                        [-8.0185e-02, -2.9362e-01, -5.5692e-02]],\n",
       "              \n",
       "                       [[ 6.2512e-02, -3.7680e-01,  1.0819e-01],\n",
       "                        [ 9.7856e-02, -3.3969e-01,  6.3034e-01],\n",
       "                        [-3.1692e-01,  1.7027e-01,  2.1792e-02]],\n",
       "              \n",
       "                       [[-1.2707e-01,  3.0821e-01, -4.5174e-01],\n",
       "                        [-1.2889e-01,  9.4710e-01, -3.6581e-01],\n",
       "                        [ 4.5081e-02,  3.5470e-01, -3.4264e-01]],\n",
       "              \n",
       "                       [[-2.2244e-02, -7.1637e-02,  4.5085e-03],\n",
       "                        [ 1.1406e-02, -1.4226e-02,  5.6331e-03],\n",
       "                        [-4.1705e-02,  2.6298e-02,  4.4001e-02]],\n",
       "              \n",
       "                       [[-8.5194e-03,  1.2018e-01, -4.4004e-02],\n",
       "                        [-1.2643e-01,  2.0663e-01,  5.8826e-02],\n",
       "                        [-2.3360e-01,  2.8034e-01,  4.8064e-02]],\n",
       "              \n",
       "                       [[-1.0637e-01,  5.1386e-02, -6.7973e-02],\n",
       "                        [-7.8150e-02, -4.9441e-02, -6.7103e-02],\n",
       "                        [ 8.4962e-02, -6.3129e-02,  1.7808e-02]],\n",
       "              \n",
       "                       [[-1.6533e-01,  1.7724e-01, -3.3453e-01],\n",
       "                        [-2.3559e-01, -1.2000e-01, -1.6649e-01],\n",
       "                        [ 8.8374e-02, -1.7317e-01, -5.2488e-01]],\n",
       "              \n",
       "                       [[ 2.0587e-02,  2.8548e-02,  4.0580e-02],\n",
       "                        [ 5.7752e-02, -2.3799e-02,  5.9138e-02],\n",
       "                        [ 7.7660e-02, -2.6900e-02,  7.4793e-02]]],\n",
       "              \n",
       "              \n",
       "                      [[[-4.2169e-02, -1.1868e-01,  5.0134e-02],\n",
       "                        [ 1.1369e-01,  1.8408e-01, -3.1768e-02],\n",
       "                        [ 1.5946e-01, -2.5779e-01, -2.3301e-01]],\n",
       "              \n",
       "                       [[-1.5546e-01,  3.9490e-02, -2.1346e-01],\n",
       "                        [ 8.5878e-02, -5.3795e-02, -4.9047e-01],\n",
       "                        [-2.9337e-01, -2.3235e-01,  3.3881e-02]],\n",
       "              \n",
       "                       [[ 3.4796e-02, -5.8558e-01, -5.9077e-01],\n",
       "                        [-4.2601e-01, -4.7364e-01, -4.6177e-01],\n",
       "                        [-7.5589e-02, -2.5962e-01,  3.4415e-02]],\n",
       "              \n",
       "                       [[ 2.2457e-01,  7.9933e-02,  2.0886e-01],\n",
       "                        [-3.4913e-01,  7.7407e-02, -3.3373e-02],\n",
       "                        [-3.9127e-01,  4.4948e-02, -5.2194e-02]],\n",
       "              \n",
       "                       [[-1.1093e-01,  3.8037e-01,  7.1857e-02],\n",
       "                        [ 4.9801e-01,  2.1775e-01, -3.6198e-03],\n",
       "                        [ 1.3078e-01, -3.7270e-01, -5.4463e-01]],\n",
       "              \n",
       "                       [[ 9.2689e-02,  8.2827e-02,  2.7314e-02],\n",
       "                        [-4.4575e-03, -9.7282e-02, -2.2592e-02],\n",
       "                        [ 9.2335e-02,  1.5537e-02,  1.3650e-02]],\n",
       "              \n",
       "                       [[ 6.5772e-02,  1.3642e-01,  2.2240e-01],\n",
       "                        [ 1.7414e-01,  1.7378e-01,  7.6203e-02],\n",
       "                        [ 6.3292e-02, -1.1934e-01,  2.0452e-02]],\n",
       "              \n",
       "                       [[-6.7330e-02,  3.6470e-02,  9.6604e-02],\n",
       "                        [ 4.8054e-02, -1.0472e-01, -1.0132e-01],\n",
       "                        [ 3.4363e-02, -4.5840e-02, -3.9007e-02]],\n",
       "              \n",
       "                       [[-2.0458e-01, -3.0498e-01,  9.7363e-02],\n",
       "                        [-2.0530e-02, -1.9999e-01, -3.7678e-01],\n",
       "                        [ 1.1038e-01, -1.5103e-01, -1.2858e-01]],\n",
       "              \n",
       "                       [[ 5.5862e-02,  9.5178e-02,  2.2884e-04],\n",
       "                        [ 2.0664e-02,  3.8779e-02, -9.9646e-02],\n",
       "                        [ 9.4973e-03, -6.7182e-03, -5.9061e-02]]],\n",
       "              \n",
       "              \n",
       "                      [[[ 5.5122e-01,  3.9939e-01,  2.6264e-01],\n",
       "                        [-2.4723e-02,  2.9586e-01,  1.5676e-01],\n",
       "                        [-6.8023e-01, -3.8217e-01, -2.1188e-01]],\n",
       "              \n",
       "                       [[ 1.3180e-01,  1.6406e-01, -1.3455e-01],\n",
       "                        [ 1.9247e-02,  2.2213e-01, -4.1796e-02],\n",
       "                        [-4.6481e-01, -1.7547e-01, -1.2650e-01]],\n",
       "              \n",
       "                       [[-9.7549e-02, -3.3377e-01, -1.6806e-01],\n",
       "                        [ 3.1658e-02, -1.1181e-01, -2.9571e-01],\n",
       "                        [ 1.6448e-01,  2.2505e-01,  2.8123e-01]],\n",
       "              \n",
       "                       [[ 2.7110e-01,  9.3144e-02,  2.4260e-02],\n",
       "                        [-3.1936e-01, -3.0061e-01, -8.4943e-02],\n",
       "                        [-1.7253e-01, -4.5026e-01, -4.3705e-01]],\n",
       "              \n",
       "                       [[ 6.1120e-01,  4.2716e-01,  1.3370e-01],\n",
       "                        [-5.8913e-03, -3.1661e-02,  1.0183e-02],\n",
       "                        [-1.3510e-01, -4.5288e-01, -2.1530e-01]],\n",
       "              \n",
       "                       [[-1.0111e-01, -7.5899e-02, -4.0114e-02],\n",
       "                        [ 8.2522e-02,  1.3826e-02, -7.7416e-02],\n",
       "                        [ 4.3453e-03, -8.1281e-02, -2.0259e-02]],\n",
       "              \n",
       "                       [[ 1.1477e-02,  3.1995e-02, -1.0231e-01],\n",
       "                        [ 1.0389e-01,  7.5749e-02, -7.9140e-02],\n",
       "                        [ 3.6018e-01,  1.3529e-01, -1.7319e-01]],\n",
       "              \n",
       "                       [[-2.1407e-02,  6.9028e-02, -3.6498e-02],\n",
       "                        [-6.3167e-02,  7.4421e-02,  8.7251e-02],\n",
       "                        [ 1.0226e-01,  4.6711e-02, -2.2490e-02]],\n",
       "              \n",
       "                       [[ 1.8394e-01,  2.5186e-01, -1.2286e-01],\n",
       "                        [ 1.3735e-01, -7.7451e-02, -1.1598e-01],\n",
       "                        [ 9.6499e-02,  6.3675e-02, -8.4985e-02]],\n",
       "              \n",
       "                       [[ 4.7007e-02, -1.7729e-02, -8.8433e-02],\n",
       "                        [ 8.4501e-02, -5.3204e-02, -1.1380e-02],\n",
       "                        [ 1.0091e-02, -6.3807e-03, -9.9036e-02]]]])),\n",
       "             ('conv_block_1.2.bias',\n",
       "              tensor([-0.0048, -0.1634, -0.1039,  0.6113,  0.1195,  0.3273, -0.2911, -0.1274,\n",
       "                       0.3605,  0.1164])),\n",
       "             ('conv_block_2.0.weight',\n",
       "              tensor([[[[ 0.0251, -0.0869, -0.0701],\n",
       "                        [-0.0039,  0.0143,  0.0647],\n",
       "                        [-0.0775,  0.0287,  0.0669]],\n",
       "              \n",
       "                       [[ 0.0220, -0.1555, -0.0337],\n",
       "                        [-0.1370, -0.1228,  0.0073],\n",
       "                        [-0.0389,  0.0168, -0.1095]],\n",
       "              \n",
       "                       [[ 0.0143, -0.0650,  0.0511],\n",
       "                        [-0.0460, -0.0287, -0.0939],\n",
       "                        [ 0.0010,  0.0990,  0.0524]],\n",
       "              \n",
       "                       ...,\n",
       "              \n",
       "                       [[-0.1641, -0.1501,  0.0706],\n",
       "                        [-0.2613, -0.0537,  0.0182],\n",
       "                        [ 0.0169,  0.1319,  0.0203]],\n",
       "              \n",
       "                       [[-0.2693, -0.4893,  0.0315],\n",
       "                        [-0.1129,  0.3718,  0.3966],\n",
       "                        [-0.0012,  0.1147, -0.1602]],\n",
       "              \n",
       "                       [[-0.0012, -0.1793, -0.1058],\n",
       "                        [-0.0582, -0.1476,  0.1750],\n",
       "                        [-0.0998, -0.0923, -0.0262]]],\n",
       "              \n",
       "              \n",
       "                      [[[-0.0728,  0.0611, -0.0614],\n",
       "                        [ 0.1018, -0.0455,  0.0681],\n",
       "                        [ 0.0187,  0.0234, -0.0234]],\n",
       "              \n",
       "                       [[ 0.0247, -0.0179, -0.1530],\n",
       "                        [-0.0995,  0.1053, -0.0630],\n",
       "                        [ 0.0029, -0.0556,  0.0532]],\n",
       "              \n",
       "                       [[ 0.0638,  0.0357, -0.0501],\n",
       "                        [-0.0864,  0.0041, -0.0579],\n",
       "                        [ 0.0869, -0.1008,  0.0523]],\n",
       "              \n",
       "                       ...,\n",
       "              \n",
       "                       [[-0.1050,  0.0015,  0.1061],\n",
       "                        [-0.4351, -0.0561,  0.1171],\n",
       "                        [-0.0686, -0.1690,  0.0542]],\n",
       "              \n",
       "                       [[-0.1368, -0.1303,  0.2004],\n",
       "                        [-0.0975,  0.2757,  0.3258],\n",
       "                        [-0.1131, -0.0980, -0.2259]],\n",
       "              \n",
       "                       [[-0.1799, -0.3184, -0.2957],\n",
       "                        [ 0.1996,  0.1441,  0.1302],\n",
       "                        [-0.1122,  0.1295, -0.0457]]],\n",
       "              \n",
       "              \n",
       "                      [[[-0.0339,  0.0823,  0.0928],\n",
       "                        [-0.0809, -0.0847, -0.0868],\n",
       "                        [-0.0622, -0.0463, -0.0065]],\n",
       "              \n",
       "                       [[-0.0097, -0.0446, -0.0641],\n",
       "                        [-0.0231,  0.1512, -0.0336],\n",
       "                        [-0.0747,  0.0492,  0.0234]],\n",
       "              \n",
       "                       [[ 0.0811,  0.0655,  0.0945],\n",
       "                        [-0.0770,  0.0674,  0.0861],\n",
       "                        [-0.0522,  0.0971,  0.0787]],\n",
       "              \n",
       "                       ...,\n",
       "              \n",
       "                       [[ 0.0409,  0.1710,  0.2060],\n",
       "                        [-0.0316, -0.4021,  0.1029],\n",
       "                        [-0.1811, -0.8583,  0.2371]],\n",
       "              \n",
       "                       [[-0.1582, -0.0163,  0.2865],\n",
       "                        [ 0.2173, -0.0813,  0.4584],\n",
       "                        [ 0.2337, -0.4428, -0.0351]],\n",
       "              \n",
       "                       [[-0.0536, -0.2121, -0.2816],\n",
       "                        [-0.1134,  0.2893,  0.0066],\n",
       "                        [ 0.0456,  0.1033,  0.2831]]],\n",
       "              \n",
       "              \n",
       "                      ...,\n",
       "              \n",
       "              \n",
       "                      [[[ 0.0879,  0.0843, -0.0690],\n",
       "                        [ 0.0801,  0.0421, -0.0104],\n",
       "                        [-0.0778, -0.0154, -0.0916]],\n",
       "              \n",
       "                       [[ 0.0434,  0.0962, -0.0634],\n",
       "                        [ 0.1128, -0.0711, -0.0413],\n",
       "                        [-0.0472,  0.0037,  0.0110]],\n",
       "              \n",
       "                       [[ 0.0475, -0.0012, -0.0518],\n",
       "                        [ 0.0749,  0.0729,  0.0162],\n",
       "                        [-0.0480,  0.0219,  0.0027]],\n",
       "              \n",
       "                       ...,\n",
       "              \n",
       "                       [[ 0.0716,  0.0551, -0.2564],\n",
       "                        [ 0.1944, -0.2336, -0.3959],\n",
       "                        [-0.2928,  0.0528, -0.3099]],\n",
       "              \n",
       "                       [[-0.1729, -0.2130, -0.5460],\n",
       "                        [ 0.0960, -0.1039, -0.1677],\n",
       "                        [ 0.5112, -0.0565,  0.3732]],\n",
       "              \n",
       "                       [[-0.0927, -0.2059,  0.0092],\n",
       "                        [-0.1602,  0.0038, -0.1795],\n",
       "                        [ 0.1453,  0.1134, -0.0513]]],\n",
       "              \n",
       "              \n",
       "                      [[[ 0.0435, -0.0161,  0.0530],\n",
       "                        [ 0.0945, -0.0464, -0.0479],\n",
       "                        [ 0.0813,  0.0081, -0.0102]],\n",
       "              \n",
       "                       [[ 0.0538, -0.0725, -0.0379],\n",
       "                        [ 0.0586,  0.0304, -0.0968],\n",
       "                        [-0.0069, -0.1076, -0.1001]],\n",
       "              \n",
       "                       [[ 0.0671, -0.0286, -0.0546],\n",
       "                        [ 0.0071,  0.0253, -0.0657],\n",
       "                        [-0.0715, -0.1024,  0.0252]],\n",
       "              \n",
       "                       ...,\n",
       "              \n",
       "                       [[-0.0990,  0.0162,  0.1702],\n",
       "                        [-0.0025, -0.1128, -0.0018],\n",
       "                        [-0.4080,  0.0229,  0.0913]],\n",
       "              \n",
       "                       [[ 0.0504, -0.0032,  0.1809],\n",
       "                        [ 0.0121, -0.2752, -0.0123],\n",
       "                        [-0.3166, -0.4963,  0.1308]],\n",
       "              \n",
       "                       [[-0.2276,  0.1725,  0.1883],\n",
       "                        [-0.0113, -0.0262, -0.0095],\n",
       "                        [-0.0798, -0.1889, -0.2535]]],\n",
       "              \n",
       "              \n",
       "                      [[[ 0.0103,  0.0935,  0.0925],\n",
       "                        [-0.0527, -0.0031, -0.0501],\n",
       "                        [ 0.0335, -0.1035,  0.0339]],\n",
       "              \n",
       "                       [[-0.0107,  0.1851,  0.1100],\n",
       "                        [-0.0559,  0.1183, -0.0092],\n",
       "                        [-0.0762,  0.1711,  0.0450]],\n",
       "              \n",
       "                       [[ 0.0672, -0.0098,  0.0346],\n",
       "                        [-0.0551, -0.0379,  0.0442],\n",
       "                        [ 0.0463,  0.0422, -0.0980]],\n",
       "              \n",
       "                       ...,\n",
       "              \n",
       "                       [[-0.3112, -0.0952, -0.0613],\n",
       "                        [-0.9444,  0.0412,  0.0566],\n",
       "                        [-0.6098,  0.2820,  0.1680]],\n",
       "              \n",
       "                       [[-0.4259, -0.4556,  0.1603],\n",
       "                        [-0.5772,  0.5422,  0.3490],\n",
       "                        [ 0.1100,  0.0291, -0.0458]],\n",
       "              \n",
       "                       [[ 0.2242,  0.0418, -0.3080],\n",
       "                        [-0.0224, -0.1236,  0.1459],\n",
       "                        [ 0.1137,  0.2701, -0.1048]]]])),\n",
       "             ('conv_block_2.0.bias',\n",
       "              tensor([ 0.2642, -0.1709,  0.2113, -0.0057, -0.0759, -0.1154,  0.4951, -0.1336,\n",
       "                      -0.0542,  0.5109,  0.4817,  0.1222,  0.4823,  0.3004, -0.0825,  0.2526,\n",
       "                       0.4052,  0.0994,  0.9066,  0.5077])),\n",
       "             ('conv_block_2.2.weight',\n",
       "              tensor([[[[ 0.1773, -0.0340, -0.1108],\n",
       "                        [ 0.2999, -0.1379, -0.1168],\n",
       "                        [ 0.2532, -0.1063, -0.0503]],\n",
       "              \n",
       "                       [[-0.0797,  0.0609, -0.1566],\n",
       "                        [ 0.0366,  0.0594, -0.1795],\n",
       "                        [ 0.2782,  0.0549, -0.1569]],\n",
       "              \n",
       "                       [[-0.1057, -0.0565, -0.2174],\n",
       "                        [-0.0482, -0.2262, -0.1511],\n",
       "                        [ 0.0537, -0.2817, -0.2051]],\n",
       "              \n",
       "                       ...,\n",
       "              \n",
       "                       [[-0.0783, -0.2104, -0.0085],\n",
       "                        [ 0.0394,  0.0803,  0.1235],\n",
       "                        [-0.0924,  0.0882,  0.2034]],\n",
       "              \n",
       "                       [[ 0.1301,  0.0419,  0.0545],\n",
       "                        [-0.2234, -0.0778,  0.0529],\n",
       "                        [-0.1018, -0.0514,  0.0740]],\n",
       "              \n",
       "                       [[ 0.1809, -0.2692, -0.3228],\n",
       "                        [ 0.0789, -0.2183, -0.3768],\n",
       "                        [ 0.2920, -0.0109, -0.0984]]],\n",
       "              \n",
       "              \n",
       "                      [[[-0.0465,  0.2646, -0.1305],\n",
       "                        [ 0.3908,  0.1007, -0.2731],\n",
       "                        [ 0.1071, -0.0874, -0.1581]],\n",
       "              \n",
       "                       [[-0.2668, -0.2380, -0.0450],\n",
       "                        [-0.1273,  0.1111,  0.0087],\n",
       "                        [-0.2072, -0.0559, -0.0783]],\n",
       "              \n",
       "                       [[-0.0654, -0.2431, -0.1246],\n",
       "                        [ 0.0920, -0.1418, -0.0469],\n",
       "                        [-0.2672, -0.1398, -0.0884]],\n",
       "              \n",
       "                       ...,\n",
       "              \n",
       "                       [[-0.1627, -0.2908,  0.0108],\n",
       "                        [-0.0430, -0.2291, -0.0327],\n",
       "                        [-0.0721,  0.1825,  0.0514]],\n",
       "              \n",
       "                       [[ 0.4475, -0.0761, -0.0425],\n",
       "                        [ 0.1308, -0.1547, -0.2001],\n",
       "                        [ 0.1898,  0.0153, -0.1093]],\n",
       "              \n",
       "                       [[-0.3486,  0.0994, -0.0586],\n",
       "                        [-0.1124, -0.0244, -0.1754],\n",
       "                        [-0.1282, -0.1851, -0.0989]]],\n",
       "              \n",
       "              \n",
       "                      [[[-0.1345, -0.2223,  0.0315],\n",
       "                        [-0.0181,  0.0438,  0.0919],\n",
       "                        [ 0.1109, -0.0223,  0.0286]],\n",
       "              \n",
       "                       [[ 0.0858, -0.0912, -0.0503],\n",
       "                        [-0.0103,  0.0171, -0.1367],\n",
       "                        [-0.0008, -0.0409,  0.0619]],\n",
       "              \n",
       "                       [[ 0.3159,  0.1249, -0.1114],\n",
       "                        [-0.0445, -0.1349, -0.1166],\n",
       "                        [-0.0341,  0.0152,  0.0330]],\n",
       "              \n",
       "                       ...,\n",
       "              \n",
       "                       [[-0.0746, -0.0582,  0.0592],\n",
       "                        [-0.0099, -0.1284, -0.1499],\n",
       "                        [-0.0170, -0.0277, -0.0308]],\n",
       "              \n",
       "                       [[ 0.1038,  0.2334, -0.0978],\n",
       "                        [ 0.0611, -0.0011,  0.0221],\n",
       "                        [ 0.0119, -0.0810,  0.0570]],\n",
       "              \n",
       "                       [[-0.0420, -0.4654, -0.0303],\n",
       "                        [-0.2756,  0.1338,  0.0958],\n",
       "                        [-0.0242,  0.3477, -0.0906]]],\n",
       "              \n",
       "              \n",
       "                      ...,\n",
       "              \n",
       "              \n",
       "                      [[[-0.0996, -0.0275, -0.0050],\n",
       "                        [-0.1023, -0.0610, -0.1219],\n",
       "                        [ 0.0255,  0.1801,  0.0439]],\n",
       "              \n",
       "                       [[-0.0165, -0.0362, -0.0009],\n",
       "                        [-0.0601, -0.1394,  0.1513],\n",
       "                        [-0.1211, -0.1192,  0.0069]],\n",
       "              \n",
       "                       [[ 0.1143, -0.0034, -0.1466],\n",
       "                        [-0.1411, -0.0083,  0.0184],\n",
       "                        [-0.0536, -0.1195, -0.1503]],\n",
       "              \n",
       "                       ...,\n",
       "              \n",
       "                       [[-0.0134, -0.0282, -0.0280],\n",
       "                        [-0.0799, -0.0598, -0.0118],\n",
       "                        [ 0.1051,  0.0958,  0.0536]],\n",
       "              \n",
       "                       [[ 0.1179,  0.0738, -0.0056],\n",
       "                        [ 0.0684,  0.0701, -0.1258],\n",
       "                        [ 0.0335,  0.0340,  0.1508]],\n",
       "              \n",
       "                       [[-0.0216, -0.2874, -0.1404],\n",
       "                        [-0.1592, -0.0899,  0.1839],\n",
       "                        [-0.0851, -0.1478, -0.0433]]],\n",
       "              \n",
       "              \n",
       "                      [[[-0.0655,  0.1510,  0.1756],\n",
       "                        [-0.1993,  0.2324, -0.0929],\n",
       "                        [-0.0061, -0.1423, -0.1935]],\n",
       "              \n",
       "                       [[-0.0599, -0.0356,  0.0089],\n",
       "                        [-0.0324, -0.1675, -0.1425],\n",
       "                        [-0.2362, -0.0619, -0.1029]],\n",
       "              \n",
       "                       [[ 0.0625,  0.0321, -0.0069],\n",
       "                        [-0.2030, -0.3249,  0.0506],\n",
       "                        [-0.1785, -0.1688,  0.0591]],\n",
       "              \n",
       "                       ...,\n",
       "              \n",
       "                       [[-0.1486, -0.0750, -0.0335],\n",
       "                        [ 0.2091, -0.1722, -0.0082],\n",
       "                        [-0.1408,  0.0457,  0.1890]],\n",
       "              \n",
       "                       [[ 0.1093,  0.1471,  0.0477],\n",
       "                        [ 0.2370, -0.0810,  0.0649],\n",
       "                        [-0.0847, -0.3281, -0.0373]],\n",
       "              \n",
       "                       [[-0.2845, -0.2889,  0.1988],\n",
       "                        [-0.4516,  0.2331, -0.3584],\n",
       "                        [-0.0569,  0.0832, -0.2434]]],\n",
       "              \n",
       "              \n",
       "                      [[[-0.0987, -0.2574,  0.0093],\n",
       "                        [-0.2227,  0.2087,  0.2034],\n",
       "                        [ 0.0203,  0.2969, -0.2243]],\n",
       "              \n",
       "                       [[-0.0256, -0.1026, -0.0845],\n",
       "                        [-0.1532,  0.0374, -0.0021],\n",
       "                        [-0.1801, -0.0423, -0.0882]],\n",
       "              \n",
       "                       [[ 0.0140,  0.0782, -0.0927],\n",
       "                        [-0.1842, -0.2195,  0.1604],\n",
       "                        [ 0.1285,  0.0811, -0.1097]],\n",
       "              \n",
       "                       ...,\n",
       "              \n",
       "                       [[-0.1764,  0.0491, -0.2021],\n",
       "                        [ 0.0121,  0.0565,  0.0542],\n",
       "                        [ 0.1536, -0.0457, -0.0327]],\n",
       "              \n",
       "                       [[ 0.3050,  0.2788,  0.2744],\n",
       "                        [-0.0879, -0.1822, -0.0997],\n",
       "                        [-0.0381, -0.1107, -0.1000]],\n",
       "              \n",
       "                       [[-0.3385, -0.5485, -0.0203],\n",
       "                        [-0.0507,  0.4015,  0.1268],\n",
       "                        [-0.0208,  0.3297, -0.0952]]]])),\n",
       "             ('conv_block_2.2.bias',\n",
       "              tensor([-0.4032,  0.1253, -0.3925,  0.3360,  0.0628,  0.1749,  0.8744, -0.2017,\n",
       "                      -0.0411,  0.0218,  0.1048,  0.1774,  0.2374,  0.3198,  0.1396, -0.0114,\n",
       "                      -0.0411, -0.3712,  0.2155, -0.1750])),\n",
       "             ('classifier.1.weight',\n",
       "              tensor([[-0.0317, -0.0106, -0.0123,  ...,  0.0240,  0.0948,  0.1390],\n",
       "                      [ 0.0508,  0.0604,  0.0419,  ..., -0.0777, -0.0927, -0.0591],\n",
       "                      [-0.0121, -0.0540,  0.0946,  ..., -0.1025,  0.0375,  0.0445],\n",
       "                      ...,\n",
       "                      [-0.0208, -0.0443, -0.0013,  ..., -0.0544, -0.1429,  0.0134],\n",
       "                      [ 0.0160, -0.0038,  0.0946,  ..., -0.1888, -0.0920, -0.1762],\n",
       "                      [-0.0054, -0.0486, -0.0318,  ...,  0.1105,  0.0453,  0.0022]])),\n",
       "             ('classifier.1.bias',\n",
       "              tensor([ 0.2863, -0.1871, -0.1102, -0.0424, -0.0441, -0.1233, -0.0098,  0.1849,\n",
       "                       0.0184, -0.0406,  0.2894,  0.1393,  0.0624, -0.0362, -0.0336,  0.1736,\n",
       "                       0.0565,  0.0198,  0.2282,  0.1522,  0.0470,  0.2250,  0.0256, -0.1660,\n",
       "                       0.0496, -0.0169, -0.0380,  0.0438, -0.1914,  0.3527,  0.2329,  0.2271,\n",
       "                      -0.0627, -0.0258,  0.1729,  0.0195,  0.0085,  0.0307,  0.2830, -0.1239])),\n",
       "             ('classifier.3.weight',\n",
       "              tensor([[-0.0967, -0.1317,  0.1170,  0.1893,  0.5387,  0.1987,  0.0516,  0.0275,\n",
       "                        0.4549, -0.1132,  0.7398,  0.1653,  0.3710, -0.3527,  0.0860,  0.1828,\n",
       "                        0.2986,  0.3307, -0.1619,  0.0446, -0.2213, -0.9032,  0.1117, -0.1768,\n",
       "                       -0.0932, -0.3931, -0.4786, -0.5323,  0.0703,  1.0319,  0.3078, -0.0394,\n",
       "                       -0.0756, -0.0422,  0.1800,  0.0077,  0.2103,  0.2556,  0.3696,  0.0726],\n",
       "                      [-0.3686, -0.0190, -0.2554, -0.0478, -0.0113, -0.0380,  0.0182,  0.1225,\n",
       "                        0.0410, -0.0531, -0.1549,  0.2001, -0.0518, -0.1634, -0.1517, -0.1120,\n",
       "                       -0.7038,  0.2862, -0.0076, -0.3707,  0.0284, -0.3474, -0.1126,  1.3563,\n",
       "                        0.1350,  0.0358, -0.1522,  0.2776, -0.1710,  0.0792, -0.1440,  0.4888,\n",
       "                        0.1165, -0.1836,  0.4429, -0.4860, -0.1940, -0.3162, -0.6230, -0.4126],\n",
       "                      [-0.1969, -0.1130,  0.1884, -0.1590,  0.1670, -0.1539, -0.0409, -0.0991,\n",
       "                       -0.0948, -0.2903,  0.3697, -0.2178,  0.0839,  0.1300, -0.0296,  0.6695,\n",
       "                        0.5941, -0.0848,  0.0770, -0.6135,  0.4664, -0.1982, -0.1437, -0.1459,\n",
       "                        0.0233,  0.1417, -0.2494, -0.1102, -0.1441, -0.2655,  0.5748,  0.0392,\n",
       "                        0.0535, -0.3427,  0.3593,  0.6746, -0.3316,  0.5013,  0.5337, -0.0553],\n",
       "                      [-0.3415,  0.0271, -0.1777,  0.3061, -0.1479, -0.2303,  0.1241,  0.6465,\n",
       "                        0.3028,  0.2063, -0.4673, -0.1891, -0.6221,  0.2093, -0.3663, -0.0330,\n",
       "                        0.3488, -0.1491, -0.1215, -0.2810, -0.3749,  0.4476,  0.0654,  0.0464,\n",
       "                       -0.0499, -0.4203,  0.2664,  0.4192, -0.4354,  0.5178, -0.2089,  0.3319,\n",
       "                       -0.1309, -0.3499, -0.1716, -0.4637,  0.1961,  0.2402,  0.4955,  0.1823],\n",
       "                      [-0.2063,  0.1077,  0.2328,  0.0917, -0.3214,  0.3175, -0.0202,  0.5803,\n",
       "                       -0.2214, -0.1850, -0.1165, -0.1066, -0.2616, -0.2327, -0.0401, -0.1053,\n",
       "                        0.8979, -0.3462, -0.5915, -0.5894,  0.3178, -0.6690,  0.0648,  0.2002,\n",
       "                       -0.1094,  0.2148,  0.1455,  0.0784, -0.4843, -0.2889,  0.1911, -0.1374,\n",
       "                        0.1469, -0.2113, -0.1789,  0.9417, -0.2159,  0.0176, -0.0322,  0.5041],\n",
       "                      [ 0.4101,  0.3079,  0.2039,  0.3424, -0.1933, -0.2712, -0.1642, -0.0606,\n",
       "                        0.2603, -0.0829,  0.1383, -0.6485, -0.1102, -0.0810, -0.1305, -0.5159,\n",
       "                       -0.9765,  0.0069, -0.1625,  0.3484, -0.0979,  0.3534, -0.2025, -0.2883,\n",
       "                        0.0254,  0.9612,  0.0708,  0.0036,  0.7292, -0.6347, -0.5348, -0.0964,\n",
       "                       -0.2429, -0.2145,  0.4344, -0.4888,  0.0630, -0.0079, -0.2242, -0.0685],\n",
       "                      [-0.5514,  0.4658, -0.3946, -0.4378, -0.1892,  0.0342,  0.1417,  0.0915,\n",
       "                       -0.2214,  0.4265,  0.4495, -0.3673,  0.4475,  0.2402,  0.0505,  0.4783,\n",
       "                        0.8884, -0.2291,  0.2833, -0.1960,  0.2672, -0.4421,  0.0552,  0.0172,\n",
       "                        0.0251, -0.2683,  0.6302, -0.3711, -0.2213,  0.8988, -0.2351, -0.5477,\n",
       "                        0.1249, -0.1271, -0.1587,  0.2475, -0.1275, -0.2402,  0.4749, -0.1389],\n",
       "                      [ 1.1429, -0.1397, -0.4599, -0.0208,  0.0881,  0.2652,  0.0261, -0.6744,\n",
       "                        0.0880, -0.1479, -0.5028,  0.0927,  0.1354,  0.2507,  0.1422, -0.1772,\n",
       "                       -0.8975, -0.1729,  0.7085,  0.2575, -0.1493,  0.7360, -0.0080, -0.2819,\n",
       "                       -0.1059,  0.2643, -0.2152, -0.2558, -0.0221, -0.4651,  0.5246, -0.3712,\n",
       "                       -0.1640,  0.0742, -0.6456, -0.5703, -0.2347, -0.0355, -0.4712,  0.0100],\n",
       "                      [-1.0048,  0.1900,  0.9270, -0.2976, -0.1647, -0.2439,  0.1228, -0.0871,\n",
       "                       -0.1081, -0.1744,  0.0895,  0.8753,  0.1582, -0.1759,  0.0726, -0.0386,\n",
       "                       -0.3273, -0.2764,  0.4047,  1.2483, -0.2035, -0.0719,  0.1247, -0.3711,\n",
       "                       -0.1932, -0.5117,  0.0812, -0.0436, -0.4701, -0.3534,  0.0366,  0.0466,\n",
       "                       -0.2054,  0.7910,  0.1765,  0.2685,  0.0756, -0.1731, -0.3128, -0.1135],\n",
       "                      [ 0.7212, -0.3751, -0.1755, -0.1486,  0.0753, -0.1785,  0.0226, -0.4290,\n",
       "                       -0.0560,  0.0702, -0.3267,  0.0720,  0.0207,  0.0190, -0.0170, -0.3154,\n",
       "                       -0.6238,  0.2393, -0.4800, -0.0287, -0.1894,  0.9316,  0.1199, -0.2673,\n",
       "                       -0.1497, -0.3910,  0.1311, -0.0581,  0.8429, -0.6121, -0.2875, -0.3504,\n",
       "                        0.3922,  0.6181, -0.2622, -0.3794,  0.0616,  0.0460, -0.4190, -0.1716]])),\n",
       "             ('classifier.3.bias',\n",
       "              tensor([ 0.2750, -0.4345,  0.2836,  0.0960, -0.1894, -0.3529,  0.6718,  0.1978,\n",
       "                      -0.2080, -0.4752]))])"
      ]
     },
     "execution_count": 137,
     "metadata": {},
     "output_type": "execute_result"
    }
   ],
   "source": [
    "# Setup loss function and optimizer\n",
    "loss_fn = nn.CrossEntropyLoss()\n",
    "optimizer = torch.optim.SGD(model_2.parameters(), lr=0.1) # Copilot is suggesting Adam instead of SGD\n",
    "accuracy_fn = accuracy_fn\n",
    "\n",
    "# What we want to optimize\n",
    "model_2.state_dict()"
   ]
  },
  {
   "cell_type": "code",
   "execution_count": 115,
   "metadata": {},
   "outputs": [
    {
     "data": {
      "application/vnd.jupyter.widget-view+json": {
       "model_id": "10f0420939a145c8aeb79a62170f9178",
       "version_major": 2,
       "version_minor": 0
      },
      "text/plain": [
       "  0%|          | 0/5 [00:00<?, ?it/s]"
      ]
     },
     "metadata": {},
     "output_type": "display_data"
    },
    {
     "name": "stdout",
     "output_type": "stream",
     "text": [
      "Epoch 1\n",
      "-------------------------------\n",
      "Train loss: 0.1875, Train accuracy: 92.9750\n",
      "Epoch 2\n",
      "-------------------------------\n",
      "Train loss: 0.1800, Train accuracy: 93.2967\n",
      "Epoch 3\n",
      "-------------------------------\n",
      "Train loss: 0.1733, Train accuracy: 93.5233\n",
      "Epoch 4\n",
      "-------------------------------\n",
      "Train loss: 0.1687, Train accuracy: 93.6867\n",
      "Epoch 5\n",
      "-------------------------------\n",
      "Train loss: 0.1610, Train accuracy: 94.0100\n",
      "Test loss: 0.2790, Test accuracy: 90.8446\n",
      "Training time: 98.88 seconds on device:cpu\n"
     ]
    },
    {
     "data": {
      "application/vnd.jupyter.widget-view+json": {
       "model_id": "f6cb249bf6154325ae9f19dd673c630a",
       "version_major": 2,
       "version_minor": 0
      },
      "text/plain": [
       "  0%|          | 0/1875 [00:00<?, ?it/s]"
      ]
     },
     "metadata": {},
     "output_type": "display_data"
    },
    {
     "data": {
      "text/plain": [
       "{'model_name': 'FashionMNISTModelV2',\n",
       " 'loss': 0.16142641007900238,\n",
       " 'accuracy': 94.00833333333334}"
      ]
     },
     "execution_count": 115,
     "metadata": {},
     "output_type": "execute_result"
    }
   ],
   "source": [
    "# Start timer\n",
    "model_2_train_time_start = timer()\n",
    "\n",
    "# Number of epochs\n",
    "EPOCHS = 5\n",
    "\n",
    "# Training loop\n",
    "for epoch in tqdm(range(EPOCHS)):\n",
    "    print(f\"Epoch {epoch+1}\\n-------------------------------\")\n",
    "    train_step(model_2, train_dataloader, loss_fn, optimizer, accuracy_fn, device)\n",
    "\n",
    "# Testing the model\n",
    "test_step(model_2, test_dataloader, loss_fn, accuracy_fn, device)\n",
    "\n",
    "# End timer\n",
    "model_2_train_time_end = timer()\n",
    "# Print training time\n",
    "print_train_time(model_2_train_time_start, model_2_train_time_end, device)\n",
    "\n",
    "model_2_results = eval_model(model_2, train_dataloader, loss_fn, accuracy_fn)\n",
    "model_2_results"
   ]
  }
 ],
 "metadata": {
  "kernelspec": {
   "display_name": "Python 3",
   "language": "python",
   "name": "python3"
  },
  "language_info": {
   "codemirror_mode": {
    "name": "ipython",
    "version": 3
   },
   "file_extension": ".py",
   "mimetype": "text/x-python",
   "name": "python",
   "nbconvert_exporter": "python",
   "pygments_lexer": "ipython3",
   "version": "3.12.3"
  }
 },
 "nbformat": 4,
 "nbformat_minor": 2
}
