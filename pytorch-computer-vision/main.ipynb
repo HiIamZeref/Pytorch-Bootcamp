{
 "cells": [
  {
   "cell_type": "markdown",
   "metadata": {},
   "source": [
    "### Pytorch Computer Vision"
   ]
  },
  {
   "cell_type": "code",
   "execution_count": 59,
   "metadata": {},
   "outputs": [
    {
     "name": "stdout",
     "output_type": "stream",
     "text": [
      "2.3.0+cu118\n",
      "0.18.0+cu118\n"
     ]
    }
   ],
   "source": [
    "import torch\n",
    "from torch import nn\n",
    "from torch.utils.data import DataLoader\n",
    "\n",
    "import torchvision\n",
    "from torchvision import transforms\n",
    "from torchvision import datasets\n",
    "from torchvision.transforms import ToTensor, Lambda, Compose\n",
    "\n",
    "import matplotlib.pyplot as plt\n",
    "\n",
    "print(torch.__version__)\n",
    "print(torchvision.__version__)"
   ]
  },
  {
   "cell_type": "code",
   "execution_count": 60,
   "metadata": {},
   "outputs": [
    {
     "name": "stdout",
     "output_type": "stream",
     "text": [
      "Using cpu device\n"
     ]
    }
   ],
   "source": [
    "# Setting device agnostic code\n",
    "device = \"cuda\" if torch.cuda.is_available() else \"cpu\"\n",
    "print(f\"Using {device} device\")"
   ]
  },
  {
   "cell_type": "markdown",
   "metadata": {},
   "source": [
    "## 1. Getting dataset"
   ]
  },
  {
   "cell_type": "code",
   "execution_count": 61,
   "metadata": {},
   "outputs": [],
   "source": [
    "# Load data (FashionMNIST)\n",
    "train_data = datasets.FashionMNIST(\n",
    "    root=\"data\",\n",
    "    train=True,\n",
    "    download=True,\n",
    "    transform=ToTensor(),\n",
    ")\n",
    "\n",
    "test_data = datasets.FashionMNIST(\n",
    "    root=\"data\",\n",
    "    train=False,\n",
    "    download=True,\n",
    "    transform=ToTensor()\n",
    ")"
   ]
  },
  {
   "cell_type": "code",
   "execution_count": 62,
   "metadata": {},
   "outputs": [
    {
     "data": {
      "text/plain": [
       "(60000, 10000)"
      ]
     },
     "execution_count": 62,
     "metadata": {},
     "output_type": "execute_result"
    }
   ],
   "source": [
    "# Size of our datasets\n",
    "len(train_data), len(test_data)"
   ]
  },
  {
   "cell_type": "code",
   "execution_count": 63,
   "metadata": {},
   "outputs": [
    {
     "name": "stdout",
     "output_type": "stream",
     "text": [
      "tensor([[[0.0000, 0.0000, 0.0000, 0.0000, 0.0000, 0.0000, 0.0000, 0.0000,\n",
      "          0.0000, 0.0000, 0.0000, 0.0000, 0.0000, 0.0000, 0.0000, 0.0000,\n",
      "          0.0000, 0.0000, 0.0000, 0.0000, 0.0000, 0.0000, 0.0000, 0.0000,\n",
      "          0.0000, 0.0000, 0.0000, 0.0000],\n",
      "         [0.0000, 0.0000, 0.0000, 0.0000, 0.0000, 0.0000, 0.0000, 0.0000,\n",
      "          0.0000, 0.0000, 0.0000, 0.0000, 0.0000, 0.0000, 0.0000, 0.0000,\n",
      "          0.0000, 0.0000, 0.0000, 0.0000, 0.0000, 0.0000, 0.0000, 0.0000,\n",
      "          0.0000, 0.0000, 0.0000, 0.0000],\n",
      "         [0.0000, 0.0000, 0.0000, 0.0000, 0.0000, 0.0000, 0.0000, 0.0000,\n",
      "          0.0000, 0.0000, 0.0000, 0.0000, 0.0000, 0.0000, 0.0000, 0.0000,\n",
      "          0.0000, 0.0000, 0.0000, 0.0000, 0.0000, 0.0000, 0.0000, 0.0000,\n",
      "          0.0000, 0.0000, 0.0000, 0.0000],\n",
      "         [0.0000, 0.0000, 0.0000, 0.0000, 0.0000, 0.0000, 0.0000, 0.0000,\n",
      "          0.0000, 0.0000, 0.0000, 0.0000, 0.0039, 0.0000, 0.0000, 0.0510,\n",
      "          0.2863, 0.0000, 0.0000, 0.0039, 0.0157, 0.0000, 0.0000, 0.0000,\n",
      "          0.0000, 0.0039, 0.0039, 0.0000],\n",
      "         [0.0000, 0.0000, 0.0000, 0.0000, 0.0000, 0.0000, 0.0000, 0.0000,\n",
      "          0.0000, 0.0000, 0.0000, 0.0000, 0.0118, 0.0000, 0.1412, 0.5333,\n",
      "          0.4980, 0.2431, 0.2118, 0.0000, 0.0000, 0.0000, 0.0039, 0.0118,\n",
      "          0.0157, 0.0000, 0.0000, 0.0118],\n",
      "         [0.0000, 0.0000, 0.0000, 0.0000, 0.0000, 0.0000, 0.0000, 0.0000,\n",
      "          0.0000, 0.0000, 0.0000, 0.0000, 0.0235, 0.0000, 0.4000, 0.8000,\n",
      "          0.6902, 0.5255, 0.5647, 0.4824, 0.0902, 0.0000, 0.0000, 0.0000,\n",
      "          0.0000, 0.0471, 0.0392, 0.0000],\n",
      "         [0.0000, 0.0000, 0.0000, 0.0000, 0.0000, 0.0000, 0.0000, 0.0000,\n",
      "          0.0000, 0.0000, 0.0000, 0.0000, 0.0000, 0.0000, 0.6078, 0.9255,\n",
      "          0.8118, 0.6980, 0.4196, 0.6118, 0.6314, 0.4275, 0.2510, 0.0902,\n",
      "          0.3020, 0.5098, 0.2824, 0.0588],\n",
      "         [0.0000, 0.0000, 0.0000, 0.0000, 0.0000, 0.0000, 0.0000, 0.0000,\n",
      "          0.0000, 0.0000, 0.0000, 0.0039, 0.0000, 0.2706, 0.8118, 0.8745,\n",
      "          0.8549, 0.8471, 0.8471, 0.6392, 0.4980, 0.4745, 0.4784, 0.5725,\n",
      "          0.5529, 0.3451, 0.6745, 0.2588],\n",
      "         [0.0000, 0.0000, 0.0000, 0.0000, 0.0000, 0.0000, 0.0000, 0.0000,\n",
      "          0.0000, 0.0039, 0.0039, 0.0039, 0.0000, 0.7843, 0.9098, 0.9098,\n",
      "          0.9137, 0.8980, 0.8745, 0.8745, 0.8431, 0.8353, 0.6431, 0.4980,\n",
      "          0.4824, 0.7686, 0.8980, 0.0000],\n",
      "         [0.0000, 0.0000, 0.0000, 0.0000, 0.0000, 0.0000, 0.0000, 0.0000,\n",
      "          0.0000, 0.0000, 0.0000, 0.0000, 0.0000, 0.7176, 0.8824, 0.8471,\n",
      "          0.8745, 0.8941, 0.9216, 0.8902, 0.8784, 0.8706, 0.8784, 0.8667,\n",
      "          0.8745, 0.9608, 0.6784, 0.0000],\n",
      "         [0.0000, 0.0000, 0.0000, 0.0000, 0.0000, 0.0000, 0.0000, 0.0000,\n",
      "          0.0000, 0.0000, 0.0000, 0.0000, 0.0000, 0.7569, 0.8941, 0.8549,\n",
      "          0.8353, 0.7765, 0.7059, 0.8314, 0.8235, 0.8275, 0.8353, 0.8745,\n",
      "          0.8627, 0.9529, 0.7922, 0.0000],\n",
      "         [0.0000, 0.0000, 0.0000, 0.0000, 0.0000, 0.0000, 0.0000, 0.0000,\n",
      "          0.0000, 0.0039, 0.0118, 0.0000, 0.0471, 0.8588, 0.8627, 0.8314,\n",
      "          0.8549, 0.7529, 0.6627, 0.8902, 0.8157, 0.8549, 0.8784, 0.8314,\n",
      "          0.8863, 0.7725, 0.8196, 0.2039],\n",
      "         [0.0000, 0.0000, 0.0000, 0.0000, 0.0000, 0.0000, 0.0000, 0.0000,\n",
      "          0.0000, 0.0000, 0.0235, 0.0000, 0.3882, 0.9569, 0.8706, 0.8627,\n",
      "          0.8549, 0.7961, 0.7765, 0.8667, 0.8431, 0.8353, 0.8706, 0.8627,\n",
      "          0.9608, 0.4667, 0.6549, 0.2196],\n",
      "         [0.0000, 0.0000, 0.0000, 0.0000, 0.0000, 0.0000, 0.0000, 0.0000,\n",
      "          0.0000, 0.0157, 0.0000, 0.0000, 0.2157, 0.9255, 0.8941, 0.9020,\n",
      "          0.8941, 0.9412, 0.9098, 0.8353, 0.8549, 0.8745, 0.9176, 0.8510,\n",
      "          0.8510, 0.8196, 0.3608, 0.0000],\n",
      "         [0.0000, 0.0000, 0.0039, 0.0157, 0.0235, 0.0275, 0.0078, 0.0000,\n",
      "          0.0000, 0.0000, 0.0000, 0.0000, 0.9294, 0.8863, 0.8510, 0.8745,\n",
      "          0.8706, 0.8588, 0.8706, 0.8667, 0.8471, 0.8745, 0.8980, 0.8431,\n",
      "          0.8549, 1.0000, 0.3020, 0.0000],\n",
      "         [0.0000, 0.0118, 0.0000, 0.0000, 0.0000, 0.0000, 0.0000, 0.0000,\n",
      "          0.0000, 0.2431, 0.5686, 0.8000, 0.8941, 0.8118, 0.8353, 0.8667,\n",
      "          0.8549, 0.8157, 0.8275, 0.8549, 0.8784, 0.8745, 0.8588, 0.8431,\n",
      "          0.8784, 0.9569, 0.6235, 0.0000],\n",
      "         [0.0000, 0.0000, 0.0000, 0.0000, 0.0706, 0.1725, 0.3216, 0.4196,\n",
      "          0.7412, 0.8941, 0.8627, 0.8706, 0.8510, 0.8863, 0.7843, 0.8039,\n",
      "          0.8275, 0.9020, 0.8784, 0.9176, 0.6902, 0.7373, 0.9804, 0.9725,\n",
      "          0.9137, 0.9333, 0.8431, 0.0000],\n",
      "         [0.0000, 0.2235, 0.7333, 0.8157, 0.8784, 0.8667, 0.8784, 0.8157,\n",
      "          0.8000, 0.8392, 0.8157, 0.8196, 0.7843, 0.6235, 0.9608, 0.7569,\n",
      "          0.8078, 0.8745, 1.0000, 1.0000, 0.8667, 0.9176, 0.8667, 0.8275,\n",
      "          0.8627, 0.9098, 0.9647, 0.0000],\n",
      "         [0.0118, 0.7922, 0.8941, 0.8784, 0.8667, 0.8275, 0.8275, 0.8392,\n",
      "          0.8039, 0.8039, 0.8039, 0.8627, 0.9412, 0.3137, 0.5882, 1.0000,\n",
      "          0.8980, 0.8667, 0.7373, 0.6039, 0.7490, 0.8235, 0.8000, 0.8196,\n",
      "          0.8706, 0.8941, 0.8824, 0.0000],\n",
      "         [0.3843, 0.9137, 0.7765, 0.8235, 0.8706, 0.8980, 0.8980, 0.9176,\n",
      "          0.9765, 0.8627, 0.7608, 0.8431, 0.8510, 0.9451, 0.2549, 0.2863,\n",
      "          0.4157, 0.4588, 0.6588, 0.8588, 0.8667, 0.8431, 0.8510, 0.8745,\n",
      "          0.8745, 0.8784, 0.8980, 0.1137],\n",
      "         [0.2941, 0.8000, 0.8314, 0.8000, 0.7569, 0.8039, 0.8275, 0.8824,\n",
      "          0.8471, 0.7255, 0.7725, 0.8078, 0.7765, 0.8353, 0.9412, 0.7647,\n",
      "          0.8902, 0.9608, 0.9373, 0.8745, 0.8549, 0.8314, 0.8196, 0.8706,\n",
      "          0.8627, 0.8667, 0.9020, 0.2627],\n",
      "         [0.1882, 0.7961, 0.7176, 0.7608, 0.8353, 0.7725, 0.7255, 0.7451,\n",
      "          0.7608, 0.7529, 0.7922, 0.8392, 0.8588, 0.8667, 0.8627, 0.9255,\n",
      "          0.8824, 0.8471, 0.7804, 0.8078, 0.7294, 0.7098, 0.6941, 0.6745,\n",
      "          0.7098, 0.8039, 0.8078, 0.4510],\n",
      "         [0.0000, 0.4784, 0.8588, 0.7569, 0.7020, 0.6706, 0.7176, 0.7686,\n",
      "          0.8000, 0.8235, 0.8353, 0.8118, 0.8275, 0.8235, 0.7843, 0.7686,\n",
      "          0.7608, 0.7490, 0.7647, 0.7490, 0.7765, 0.7529, 0.6902, 0.6118,\n",
      "          0.6549, 0.6941, 0.8235, 0.3608],\n",
      "         [0.0000, 0.0000, 0.2902, 0.7412, 0.8314, 0.7490, 0.6863, 0.6745,\n",
      "          0.6863, 0.7098, 0.7255, 0.7373, 0.7412, 0.7373, 0.7569, 0.7765,\n",
      "          0.8000, 0.8196, 0.8235, 0.8235, 0.8275, 0.7373, 0.7373, 0.7608,\n",
      "          0.7529, 0.8471, 0.6667, 0.0000],\n",
      "         [0.0078, 0.0000, 0.0000, 0.0000, 0.2588, 0.7843, 0.8706, 0.9294,\n",
      "          0.9373, 0.9490, 0.9647, 0.9529, 0.9569, 0.8667, 0.8627, 0.7569,\n",
      "          0.7490, 0.7020, 0.7137, 0.7137, 0.7098, 0.6902, 0.6510, 0.6588,\n",
      "          0.3882, 0.2275, 0.0000, 0.0000],\n",
      "         [0.0000, 0.0000, 0.0000, 0.0000, 0.0000, 0.0000, 0.0000, 0.1569,\n",
      "          0.2392, 0.1725, 0.2824, 0.1608, 0.1373, 0.0000, 0.0000, 0.0000,\n",
      "          0.0000, 0.0000, 0.0000, 0.0000, 0.0000, 0.0000, 0.0000, 0.0000,\n",
      "          0.0000, 0.0000, 0.0000, 0.0000],\n",
      "         [0.0000, 0.0000, 0.0000, 0.0000, 0.0000, 0.0000, 0.0000, 0.0000,\n",
      "          0.0000, 0.0000, 0.0000, 0.0000, 0.0000, 0.0000, 0.0000, 0.0000,\n",
      "          0.0000, 0.0000, 0.0000, 0.0000, 0.0000, 0.0000, 0.0000, 0.0000,\n",
      "          0.0000, 0.0000, 0.0000, 0.0000],\n",
      "         [0.0000, 0.0000, 0.0000, 0.0000, 0.0000, 0.0000, 0.0000, 0.0000,\n",
      "          0.0000, 0.0000, 0.0000, 0.0000, 0.0000, 0.0000, 0.0000, 0.0000,\n",
      "          0.0000, 0.0000, 0.0000, 0.0000, 0.0000, 0.0000, 0.0000, 0.0000,\n",
      "          0.0000, 0.0000, 0.0000, 0.0000]]]) 9\n"
     ]
    }
   ],
   "source": [
    "# Image and label sample\n",
    "image, label = train_data[0]\n",
    "print(image, label)"
   ]
  },
  {
   "cell_type": "code",
   "execution_count": 64,
   "metadata": {},
   "outputs": [
    {
     "data": {
      "text/plain": [
       "['T-shirt/top',\n",
       " 'Trouser',\n",
       " 'Pullover',\n",
       " 'Dress',\n",
       " 'Coat',\n",
       " 'Sandal',\n",
       " 'Shirt',\n",
       " 'Sneaker',\n",
       " 'Bag',\n",
       " 'Ankle boot']"
      ]
     },
     "execution_count": 64,
     "metadata": {},
     "output_type": "execute_result"
    }
   ],
   "source": [
    "# All dataset labels \n",
    "class_names = train_data.classes\n",
    "class_names"
   ]
  },
  {
   "cell_type": "code",
   "execution_count": 65,
   "metadata": {},
   "outputs": [
    {
     "data": {
      "text/plain": [
       "{'T-shirt/top': 0,\n",
       " 'Trouser': 1,\n",
       " 'Pullover': 2,\n",
       " 'Dress': 3,\n",
       " 'Coat': 4,\n",
       " 'Sandal': 5,\n",
       " 'Shirt': 6,\n",
       " 'Sneaker': 7,\n",
       " 'Bag': 8,\n",
       " 'Ankle boot': 9}"
      ]
     },
     "execution_count": 65,
     "metadata": {},
     "output_type": "execute_result"
    }
   ],
   "source": [
    "# Each value corresponds to a class label\n",
    "class_to_idx = train_data.class_to_idx\n",
    "class_to_idx   "
   ]
  },
  {
   "cell_type": "code",
   "execution_count": 66,
   "metadata": {},
   "outputs": [
    {
     "data": {
      "text/plain": [
       "tensor([9, 0, 0,  ..., 3, 0, 5])"
      ]
     },
     "execution_count": 66,
     "metadata": {},
     "output_type": "execute_result"
    }
   ],
   "source": [
    "# List of class labels\n",
    "train_data.targets"
   ]
  },
  {
   "cell_type": "code",
   "execution_count": 67,
   "metadata": {},
   "outputs": [
    {
     "data": {
      "text/plain": [
       "(torch.Size([1, 28, 28]), 9)"
      ]
     },
     "execution_count": 67,
     "metadata": {},
     "output_type": "execute_result"
    }
   ],
   "source": [
    "# Printing the image and label shape (image: color channel, height, width)\n",
    "image.shape, label"
   ]
  },
  {
   "cell_type": "markdown",
   "metadata": {},
   "source": [
    "### 1.2 Visualizing data"
   ]
  },
  {
   "cell_type": "code",
   "execution_count": 68,
   "metadata": {},
   "outputs": [
    {
     "data": {
      "text/plain": [
       "(-0.5, 27.5, 27.5, -0.5)"
      ]
     },
     "execution_count": 68,
     "metadata": {},
     "output_type": "execute_result"
    },
    {
     "data": {
      "image/png": "[encoded data removed]",
      "text/plain": [
       "<Figure size 640x480 with 1 Axes>"
      ]
     },
     "metadata": {},
     "output_type": "display_data"
    }
   ],
   "source": [
    "# Visualizing the image\n",
    "plt.imshow(image.squeeze(), cmap='gray')\n",
    "plt.title(class_names[label])\n",
    "plt.axis(False)"
   ]
  },
  {
   "cell_type": "code",
   "execution_count": 69,
   "metadata": {},
   "outputs": [
    {
     "data": {
      "image/png": "[encoded data removed]",
      "text/plain": [
       "<Figure size 900x900 with 16 Axes>"
      ]
     },
     "metadata": {},
     "output_type": "display_data"
    }
   ],
   "source": [
    "# Plotting multiple images\n",
    "torch.manual_seed(42)\n",
    "fig = plt.figure(figsize=(9, 9))\n",
    "rows, cols = 4, 4\n",
    "for i in range(1, rows * cols + 1):\n",
    "    sample_idx = torch.randint(len(train_data), size=[1]).item()\n",
    "    img, label = train_data[sample_idx]\n",
    "    fig.add_subplot(rows, cols, i)\n",
    "    plt.imshow(img.squeeze(), cmap='gray')\n",
    "    plt.title(class_names[label])\n",
    "    plt.axis(False)"
   ]
  },
  {
   "cell_type": "markdown",
   "metadata": {},
   "source": [
    "## 2. Prepare Dataloader\n",
    "Breaking data into batches.\n",
    "\n",
    "\n",
    "The computer cannot \"look\" to, for example, 6000 thousands images at a time. So we split the data into smaller groups called batches.\n",
    "\n",
    "\n",
    "Normally we use 32 batch size, or, 32 images at a time.\n",
    "\n",
    "Also, it gives our neural network more chances to improve itself by epoch."
   ]
  },
  {
   "cell_type": "code",
   "execution_count": 70,
   "metadata": {},
   "outputs": [
    {
     "data": {
      "text/plain": [
       "(<torch.utils.data.dataloader.DataLoader at 0x7fe61e0e02c0>,\n",
       " <torch.utils.data.dataloader.DataLoader at 0x7fe61af135f0>)"
      ]
     },
     "execution_count": 70,
     "metadata": {},
     "output_type": "execute_result"
    }
   ],
   "source": [
    "# Setup batch size hyperparameter\n",
    "BATCH_SIZE = 32 # 64, 128, 256, 512, 1024\n",
    "\n",
    "# Creating dataloaders\n",
    "train_dataloader = DataLoader(train_data, batch_size=BATCH_SIZE, shuffle=True)\n",
    "test_dataloader = DataLoader(test_data, batch_size=BATCH_SIZE, shuffle=False)\n",
    "\n",
    "train_dataloader, test_dataloader\n"
   ]
  },
  {
   "cell_type": "code",
   "execution_count": 71,
   "metadata": {},
   "outputs": [
    {
     "name": "stdout",
     "output_type": "stream",
     "text": [
      "Number of training batches: 1875 of size 32\n",
      "Number of testing batches: 313 of size 32\n"
     ]
    }
   ],
   "source": [
    "# Checking how many batches we have\n",
    "print(f\"Number of training batches: {len(train_dataloader)} of size {train_dataloader.batch_size}\")\n",
    "print(f\"Number of testing batches: {len(test_dataloader)} of size {test_dataloader.batch_size}\")"
   ]
  },
  {
   "cell_type": "code",
   "execution_count": 72,
   "metadata": {},
   "outputs": [
    {
     "data": {
      "text/plain": [
       "(torch.Size([32, 1, 28, 28]), torch.Size([32]))"
      ]
     },
     "execution_count": 72,
     "metadata": {},
     "output_type": "execute_result"
    }
   ],
   "source": [
    "# Getting a batch sample from the dataloader\n",
    "train_features_batch, train_labels_batch = next(iter(train_dataloader))\n",
    "train_features_batch.shape, train_labels_batch.shape"
   ]
  },
  {
   "cell_type": "code",
   "execution_count": 73,
   "metadata": {},
   "outputs": [
    {
     "name": "stdout",
     "output_type": "stream",
     "text": [
      "torch.Size([1, 28, 28])\n",
      "Shirt\n"
     ]
    },
    {
     "data": {
      "image/png": "[encoded data removed]",
      "text/plain": [
       "<Figure size 640x480 with 1 Axes>"
      ]
     },
     "metadata": {},
     "output_type": "display_data"
    }
   ],
   "source": [
    "# Getting image and label from the batch sample\n",
    "torch.manual_seed(42)\n",
    "random_idx = torch.randint(BATCH_SIZE, size=[1]).item()\n",
    "img, label = train_features_batch[random_idx], train_labels_batch[random_idx]\n",
    "plt.imshow(img.squeeze(), cmap='gray')\n",
    "plt.title(class_names[label])\n",
    "plt.axis(False)\n",
    "print(img.shape)\n",
    "print(class_names[label])\n"
   ]
  },
  {
   "cell_type": "markdown",
   "metadata": {},
   "source": [
    "## 3. Model 0 : Baseline model"
   ]
  },
  {
   "cell_type": "code",
   "execution_count": 74,
   "metadata": {},
   "outputs": [
    {
     "name": "stdout",
     "output_type": "stream",
     "text": [
      "Before flattening: torch.Size([1, 28, 28])\n",
      "After flattening: torch.Size([1, 784])\n"
     ]
    }
   ],
   "source": [
    "# Create a flatten layer\n",
    "flatten_model = nn.Flatten()\n",
    "\n",
    "# Get a single sample\n",
    "x = train_features_batch[0]\n",
    "\n",
    "# Flatten the image\n",
    "output = flatten_model(x)\n",
    "print(f\"Before flattening: {x.shape}\")\n",
    "print(f\"After flattening: {output.shape}\")"
   ]
  },
  {
   "cell_type": "code",
   "execution_count": 75,
   "metadata": {},
   "outputs": [],
   "source": [
    "class FashionMNISTModelV0(nn.Module):\n",
    "    def __init__(self,\n",
    "                 input_shape: int,\n",
    "                 hidden_units: int,\n",
    "                 output_shape: int):\n",
    "        super().__init__()\n",
    "        self.layer_stack = nn.Sequential(\n",
    "            nn.Flatten(),\n",
    "            nn.Linear(in_features= input_shape, out_features=hidden_units),\n",
    "            nn.Linear(in_features=hidden_units, out_features=output_shape)\n",
    "\n",
    "        )\n",
    "\n",
    "    def forward(self, x):\n",
    "        logits = self.layer_stack(x)\n",
    "        return logits\n",
    "        "
   ]
  },
  {
   "cell_type": "code",
   "execution_count": 76,
   "metadata": {},
   "outputs": [
    {
     "data": {
      "text/plain": [
       "FashionMNISTModelV0(\n",
       "  (layer_stack): Sequential(\n",
       "    (0): Flatten(start_dim=1, end_dim=-1)\n",
       "    (1): Linear(in_features=784, out_features=128, bias=True)\n",
       "    (2): Linear(in_features=128, out_features=10, bias=True)\n",
       "  )\n",
       ")"
      ]
     },
     "execution_count": 76,
     "metadata": {},
     "output_type": "execute_result"
    }
   ],
   "source": [
    "torch.manual_seed(42)\n",
    "\n",
    "# Instantiate the model\n",
    "model_0 = FashionMNISTModelV0(input_shape=28*28, \n",
    "                              hidden_units=128,\n",
    "                                output_shape=len(class_names))\n",
    "model_0.to(device)\n",
    "model_0"
   ]
  },
  {
   "cell_type": "code",
   "execution_count": 77,
   "metadata": {},
   "outputs": [
    {
     "data": {
      "text/plain": [
       "tensor([[-0.2292, -0.3081, -0.4636,  0.0714, -0.2627, -0.0312,  0.0321, -0.1599,\n",
       "          0.1276,  0.1425]], grad_fn=<AddmmBackward0>)"
      ]
     },
     "execution_count": 77,
     "metadata": {},
     "output_type": "execute_result"
    }
   ],
   "source": [
    "dummy_x = torch.rand(1, 28, 28).to(device)\n",
    "model_0(dummy_x)"
   ]
  },
  {
   "cell_type": "markdown",
   "metadata": {},
   "source": [
    "### 3.1 Setup loss function, optimizer and evaluation metrics\n",
    "\n",
    "* Loss function - `nn.CrossEntropyLoss()`\n",
    "* Optimizer - `torch.optim.SGD() `(stochastic gradient descent)\n",
    "* Evaluation metric - accuracy."
   ]
  },
  {
   "cell_type": "code",
   "execution_count": 78,
   "metadata": {},
   "outputs": [
    {
     "name": "stdout",
     "output_type": "stream",
     "text": [
      "Helper functions already exist! Skipping download.\n"
     ]
    }
   ],
   "source": [
    "# Importing helper functions\n",
    "import requests\n",
    "from pathlib import Path\n",
    "\n",
    "if Path(\"helper_functions.py\").exists():\n",
    "    print(\"Helper functions already exist! Skipping download.\")\n",
    "else:\n",
    "    print(\"Downloading helper_functions.py\")\n",
    "    # Note: you need the \"raw\" GitHub URL for this to work\n",
    "    request = requests.get(\"https://raw.githubusercontent.com/mrdbourke/pytorch-deep-learning/main/helper_functions.py\")\n",
    "    with open(\"helper_functions.py\", \"wb\") as f:\n",
    "        f.write(request.content)"
   ]
  },
  {
   "cell_type": "code",
   "execution_count": 79,
   "metadata": {},
   "outputs": [],
   "source": [
    "from helper_functions import accuracy_fn\n",
    "\n",
    "loss_fn = nn.CrossEntropyLoss()\n",
    "optimizer = torch.optim.SGD(model_0.parameters(), lr= 0.1) # Tutorial selected optimizer as SGD\n",
    "\n",
    "# optimizer = torch.optim.Adam(model_0.parameters(), lr=1e-3) # Adam: Copilot suggestion\n",
    "# What is Adam?\n",
    "# Adam is an optimization algorithm that can be used instead of the classical stochastic gradient descent procedure to update network weights iterative based in training data."
   ]
  },
  {
   "cell_type": "markdown",
   "metadata": {},
   "source": [
    "### 3.2 Creating a function to time the experiment\n",
    "\n",
    "Often you want to track to things:\n",
    "1. Model's performance (accuracy, loss)\n",
    "2. How fast it runs"
   ]
  },
  {
   "cell_type": "code",
   "execution_count": 80,
   "metadata": {},
   "outputs": [],
   "source": [
    "from timeit import default_timer as timer\n",
    "def print_train_time (start: float, end:float, device: torch.device = None):\n",
    "    print(f\"Training time: {end - start:.2f} seconds on device:{device}\")\n",
    "    return end - start"
   ]
  },
  {
   "cell_type": "markdown",
   "metadata": {},
   "source": [
    "### 3.3 Creating a training loop to train the model using batches of data\n",
    "\n",
    "1. Loop through the data\n",
    "2. Loop through the batches, perform training steps, calculate loss *per batch*.\n",
    "3. Loop through testing batches, perform testing steps, calculate loss *per batch*.\n",
    "4. Print it out.\n",
    "5. Time it."
   ]
  },
  {
   "cell_type": "code",
   "execution_count": 81,
   "metadata": {},
   "outputs": [
    {
     "data": {
      "application/vnd.jupyter.widget-view+json": {
       "model_id": "09b3969ceb8448f3a9a5573a562ef740",
       "version_major": 2,
       "version_minor": 0
      },
      "text/plain": [
       "  0%|          | 0/3 [00:00<?, ?it/s]"
      ]
     },
     "metadata": {},
     "output_type": "display_data"
    },
    {
     "name": "stdout",
     "output_type": "stream",
     "text": [
      "Epoch 1\n",
      "-------------------------------\n",
      "Batch 0 loss: 2.3405284881591797\n",
      "Batch 400 loss: 0.6049758791923523\n",
      "Batch 800 loss: 0.6499577760696411\n",
      "Batch 1200 loss: 0.3559314012527466\n",
      "Batch 1600 loss: 0.35203197598457336\n",
      "Epoch 2\n",
      "-------------------------------\n",
      "Batch 0 loss: 0.25963032245635986\n",
      "Batch 400 loss: 0.5991396903991699\n",
      "Batch 800 loss: 0.399014949798584\n",
      "Batch 1200 loss: 0.3362348675727844\n",
      "Batch 1600 loss: 0.5327666401863098\n",
      "Epoch 3\n",
      "-------------------------------\n",
      "Batch 0 loss: 0.5037592649459839\n",
      "Batch 400 loss: 0.5679938197135925\n",
      "Batch 800 loss: 0.3702755272388458\n",
      "Batch 1200 loss: 0.2893134355545044\n",
      "Batch 1600 loss: 0.422565758228302\n",
      "Train loss: 0.4523, Test loss: 0.5095, Test accuracy: 82.2384\n",
      "Training time: 19.93 seconds on device:cpu\n"
     ]
    }
   ],
   "source": [
    "from tqdm.notebook import tqdm# tqdm is a library that allows you to display progress bars in Python\n",
    "\n",
    "torch.manual_seed(42)\n",
    "train_time_start = timer()\n",
    "\n",
    "# Number of epochs\n",
    "EPOCHS = 3\n",
    "\n",
    "# Training loop\n",
    "for epoch in tqdm(range(EPOCHS)):\n",
    "    print(f\"Epoch {epoch+1}\\n-------------------------------\")\n",
    "    train_loss = 0\n",
    "    for idx, (features, labels) in enumerate(train_dataloader):\n",
    "        model_0.train()\n",
    "        # Getting the data to the device\n",
    "        features = features.to(device)\n",
    "        labels = labels.to(device)\n",
    "\n",
    "        # Forward pass\n",
    "        outputs = model_0(features)\n",
    "\n",
    "        # Loss calculation\n",
    "        loss = loss_fn(outputs, labels)\n",
    "        train_loss += loss # accumulate loss for each batch\n",
    "\n",
    "        # Backward pass and optimization\n",
    "        optimizer.zero_grad()\n",
    "        loss.backward()\n",
    "        optimizer.step()\n",
    "\n",
    "        if idx % 400 == 0:\n",
    "            print(f\"Batch {idx} loss: {loss.item()}\")\n",
    "train_loss /= len(train_dataloader)\n",
    "\n",
    "\n",
    "\n",
    "\n",
    "# Testing the model\n",
    "test_loss, test_accuracy = 0, 0\n",
    "model_0.eval()\n",
    "with torch.inference_mode():\n",
    "    for features, labels in test_dataloader:\n",
    "        # Getting the data to the device\n",
    "        features = features.to(device)\n",
    "        labels = labels.to(device)\n",
    "\n",
    "        # Forward pass\n",
    "        outputs = model_0(features)\n",
    "\n",
    "        # Loss calculation\n",
    "        test_loss += loss_fn(outputs, labels)\n",
    "\n",
    "        # Accuracy calculation\n",
    "        test_accuracy += accuracy_fn(y_true=labels, y_pred=outputs.argmax(dim=1))\n",
    "\n",
    "    # Averaging the loss and accuracy\n",
    "    test_loss /= len(test_dataloader)\n",
    "    test_accuracy /= len(test_dataloader)  \n",
    "\n",
    "    print(f\"Train loss: {train_loss:.4f}, Test loss: {test_loss:.4f}, Test accuracy: {test_accuracy:.4f}\")\n",
    "\n",
    "train_time_end = timer()\n",
    "total_train_time_model_0 = print_train_time(train_time_start, train_time_end, device)\n",
    "\n"
   ]
  },
  {
   "cell_type": "markdown",
   "metadata": {},
   "source": [
    "## 4. Make predictions and get Model 0 results"
   ]
  },
  {
   "cell_type": "code",
   "execution_count": 188,
   "metadata": {},
   "outputs": [
    {
     "data": {
      "application/vnd.jupyter.widget-view+json": {
       "model_id": "a594a21d95774a33b75441a6a3dff632",
       "version_major": 2,
       "version_minor": 0
      },
      "text/plain": [
       "  0%|          | 0/1875 [00:00<?, ?it/s]"
      ]
     },
     "metadata": {},
     "output_type": "display_data"
    },
    {
     "data": {
      "text/plain": [
       "{'model_name': 'FashionMNISTModelV0',\n",
       " 'loss': 0.46243253350257874,\n",
       " 'accuracy': 83.94333333333333}"
      ]
     },
     "execution_count": 188,
     "metadata": {},
     "output_type": "execute_result"
    }
   ],
   "source": [
    "torch.manual_seed(42)\n",
    "def eval_model(model: torch.nn.Module,\n",
    "               data_loader: torch.utils.data.DataLoader,\n",
    "               loss_fn: torch.nn.Module,\n",
    "               accuracy_fn):\n",
    "    \"\"\"\n",
    "    Returns a dictionary containign the results of the model prediction.\n",
    "    \"\"\"\n",
    "    loss, accuracy = 0, 0\n",
    "\n",
    "    model.eval()\n",
    "\n",
    "    with torch.inference_mode():\n",
    "        for features, labels in tqdm(data_loader):\n",
    "            # Getting the data to the device\n",
    "            features, labels = features.to(device), labels.to(device)\n",
    "\n",
    "            # Forward pass\n",
    "            outputs = model(features)\n",
    "\n",
    "            # Accumulate loss and accuracy for each batch\n",
    "            loss += loss_fn(outputs, labels)\n",
    "            accuracy += accuracy_fn(y_true=labels, y_pred=outputs.argmax(dim=1))\n",
    "\n",
    "        # Averaging the loss and accuracy\n",
    "        loss /= len(data_loader)\n",
    "        accuracy /= len(data_loader)\n",
    "\n",
    "    return {\"model_name\": model.__class__.__name__, \"loss\": loss.item(), \"accuracy\": accuracy}\n",
    "\n",
    "# Evaluating the model\n",
    "model_0_results = eval_model(model_0, train_dataloader, loss_fn, accuracy_fn)\n",
    "model_0_results\n"
   ]
  },
  {
   "cell_type": "markdown",
   "metadata": {},
   "source": [
    "## 6. Model 1: Creating a better model with non-linear activations\n"
   ]
  },
  {
   "cell_type": "code",
   "execution_count": 83,
   "metadata": {},
   "outputs": [],
   "source": [
    "# Model 1\n",
    "class FashionMNISTModelV1(nn.Module):\n",
    "    def __init__(self, input_shape: int, hidden_units: int, output_shape: int):\n",
    "        super().__init__()\n",
    "        self.layer_stack = nn.Sequential(\n",
    "            nn.Flatten(),\n",
    "            nn.Linear(in_features=input_shape, out_features=hidden_units),\n",
    "            nn.ReLU(),\n",
    "            nn.Linear(in_features=hidden_units, out_features=output_shape)\n",
    "        )\n",
    "\n",
    "    def forward(self, x: torch.Tensor):\n",
    "        logits = self.layer_stack(x)\n",
    "        return logits"
   ]
  },
  {
   "cell_type": "code",
   "execution_count": 84,
   "metadata": {},
   "outputs": [
    {
     "data": {
      "text/plain": [
       "FashionMNISTModelV1(\n",
       "  (layer_stack): Sequential(\n",
       "    (0): Flatten(start_dim=1, end_dim=-1)\n",
       "    (1): Linear(in_features=784, out_features=128, bias=True)\n",
       "    (2): ReLU()\n",
       "    (3): Linear(in_features=128, out_features=10, bias=True)\n",
       "  )\n",
       ")"
      ]
     },
     "execution_count": 84,
     "metadata": {},
     "output_type": "execute_result"
    }
   ],
   "source": [
    "# Instacing the model\n",
    "torch.manual_seed(42)\n",
    "model_1 = FashionMNISTModelV1(input_shape=28*28, hidden_units=128, output_shape=len(class_names))\n",
    "model_1.to(device)"
   ]
  },
  {
   "cell_type": "markdown",
   "metadata": {},
   "source": [
    "## 6.1 Setting up the loss function and evaluation metric"
   ]
  },
  {
   "cell_type": "code",
   "execution_count": 85,
   "metadata": {},
   "outputs": [],
   "source": [
    "# Loss function and optimizer\n",
    "from helper_functions import accuracy_fn\n",
    "\n",
    "loss_fn = nn.CrossEntropyLoss()\n",
    "optimizer = torch.optim.SGD(model_1.parameters(), lr=0.1)\n",
    "accuracy_fn = accuracy_fn\n"
   ]
  },
  {
   "cell_type": "markdown",
   "metadata": {},
   "source": [
    "### 6.2 Functionizing training and testing loops\n",
    "\n",
    "* Training loop - `train_step()`\n",
    "* Testing loop - `test_step()`"
   ]
  },
  {
   "cell_type": "code",
   "execution_count": 86,
   "metadata": {},
   "outputs": [],
   "source": [
    "def train_step(model: torch.nn.Module,\n",
    "               dataloader: torch.utils.data.DataLoader,\n",
    "               loss_fn: torch.nn.Module,\n",
    "               optimizer: torch.optim.Optimizer,\n",
    "               accuracy_fn,\n",
    "               device: torch.device):\n",
    "    \"\"\"\n",
    "    Performs a single training step.\n",
    "    \"\"\"\n",
    "    train_loss, train_accuracy = 0, 0\n",
    "\n",
    "    model.train()\n",
    "\n",
    "    # Training loop\n",
    "    for batch, (features, labels) in enumerate(dataloader):\n",
    "        # Getting the data to the device\n",
    "        features, labels = features.to(device), labels.to(device)\n",
    "\n",
    "        # Forward pass (raw predictions)\n",
    "        outputs = model(features)\n",
    "\n",
    "        # Loss and accuracy calculation \n",
    "        loss = loss_fn(outputs, labels)\n",
    "        train_loss += loss # accumulate loss for each batch\n",
    "\n",
    "        train_accuracy += accuracy_fn(y_true=labels, y_pred=outputs.argmax(dim=1))\n",
    "\n",
    "        # Backward pass and optimization\n",
    "        optimizer.zero_grad()\n",
    "        loss.backward()\n",
    "        optimizer.step()\n",
    "\n",
    "    # Averaging the loss and accuracy\n",
    "    train_loss /= len(dataloader)\n",
    "    train_accuracy /= len(dataloader)\n",
    "    print(f\"Train loss: {train_loss:.4f}, Train accuracy: {train_accuracy:.4f}\")"
   ]
  },
  {
   "cell_type": "code",
   "execution_count": 87,
   "metadata": {},
   "outputs": [],
   "source": [
    "def test_step(model: torch.nn.Module,\n",
    "              dataloader: torch.utils.data.DataLoader,\n",
    "              loss_fn: torch.nn.Module,\n",
    "              accuracy_fn,\n",
    "              device: torch.device):\n",
    "    \"\"\"\n",
    "    Perfoms a test loop for the model.\n",
    "    \"\"\"\n",
    "    \n",
    "    test_loss, test_accuracy = 0, 0\n",
    "\n",
    "    model.eval()\n",
    "    with torch.inference_mode():\n",
    "        for features, labels in dataloader:\n",
    "            # Getting the data to the device\n",
    "            features, labels = features.to(device), labels.to(device)\n",
    "\n",
    "            # Forward pass\n",
    "            outputs = model(features)\n",
    "\n",
    "            # Loss calculation\n",
    "            test_loss += loss_fn(outputs, labels)\n",
    "\n",
    "            # Accuracy calculation\n",
    "            test_accuracy += accuracy_fn(y_true=labels, y_pred=outputs.argmax(dim=1))\n",
    "\n",
    "        # Averaging the loss and accuracy\n",
    "        test_loss /= len(dataloader)\n",
    "        test_accuracy /= len(dataloader)\n",
    "\n",
    "        print(f\"Test loss: {test_loss:.4f}, Test accuracy: {test_accuracy:.4f}\")  "
   ]
  },
  {
   "cell_type": "code",
   "execution_count": 88,
   "metadata": {},
   "outputs": [
    {
     "data": {
      "application/vnd.jupyter.widget-view+json": {
       "model_id": "73891d49cc8a46e284da9e6250924ef2",
       "version_major": 2,
       "version_minor": 0
      },
      "text/plain": [
       "  0%|          | 0/3 [00:00<?, ?it/s]"
      ]
     },
     "metadata": {},
     "output_type": "display_data"
    },
    {
     "name": "stdout",
     "output_type": "stream",
     "text": [
      "Epoch 1\n",
      "-------------------------------\n",
      "Train loss: 0.5632, Train accuracy: 79.7367\n",
      "Epoch 2\n",
      "-------------------------------\n",
      "Train loss: 0.4080, Train accuracy: 85.0750\n",
      "Epoch 3\n",
      "-------------------------------\n",
      "Train loss: 0.3678, Train accuracy: 86.5567\n",
      "Test loss: 0.4091, Test accuracy: 85.3235\n",
      "Training time: 19.28 seconds on device:cpu\n"
     ]
    },
    {
     "data": {
      "application/vnd.jupyter.widget-view+json": {
       "model_id": "a99c1c760b0345db899a8408f7875395",
       "version_major": 2,
       "version_minor": 0
      },
      "text/plain": [
       "  0%|          | 0/1875 [00:00<?, ?it/s]"
      ]
     },
     "metadata": {},
     "output_type": "display_data"
    },
    {
     "data": {
      "text/plain": [
       "{'model_name': 'FashionMNISTModelV1',\n",
       " 'loss': 0.35547375679016113,\n",
       " 'accuracy': 87.21666666666667}"
      ]
     },
     "execution_count": 88,
     "metadata": {},
     "output_type": "execute_result"
    }
   ],
   "source": [
    "torch.manual_seed(42)\n",
    "\n",
    "# Start timer\n",
    "model_1_train_time_start = timer()\n",
    "\n",
    "# Number of epochs\n",
    "EPOCHS = 3\n",
    "\n",
    "# Training loop\n",
    "for epoch in tqdm(range(EPOCHS)):\n",
    "    print(f\"Epoch {epoch+1}\\n-------------------------------\")\n",
    "    train_step(model_1, train_dataloader, loss_fn, optimizer, accuracy_fn, device)\n",
    "\n",
    "# Testing the model\n",
    "test_step(model_1, test_dataloader, loss_fn, accuracy_fn, device)\n",
    "\n",
    "# End timer\n",
    "model_1_train_time_end = timer()\n",
    "# Print training time\n",
    "total_train_time_model_1 = print_train_time(model_1_train_time_start, model_1_train_time_end, device)\n",
    "\n",
    "model_1_results = eval_model(model_1, train_dataloader, loss_fn, accuracy_fn)\n",
    "model_1_results"
   ]
  },
  {
   "cell_type": "code",
   "execution_count": 89,
   "metadata": {},
   "outputs": [
    {
     "data": {
      "text/plain": [
       "{'model_name': 'FashionMNISTModelV0',\n",
       " 'loss': 0.46243253350257874,\n",
       " 'accuracy': 83.94333333333333}"
      ]
     },
     "execution_count": 89,
     "metadata": {},
     "output_type": "execute_result"
    }
   ],
   "source": [
    "model_0_results"
   ]
  },
  {
   "cell_type": "markdown",
   "metadata": {},
   "source": [
    "## Model 2: Building a Convolutional Neural Network (CNN)\n",
    "\n",
    "CNNs are the most popular neural network architecture for image classification tasks.\n",
    "\n",
    "CNN's are also know as ConvNets."
   ]
  },
  {
   "cell_type": "code",
   "execution_count": 90,
   "metadata": {},
   "outputs": [],
   "source": [
    "# Create a convolutional neural network model\n",
    "#Copilot sugestion\n",
    "# class FashionMNISTModelV2(nn.Module):\n",
    "#     def __init__(self, in_channels: int, num_classes: int):\n",
    "#         super().__init__()\n",
    "#         self.layer_stack = nn.Sequential(\n",
    "#             nn.Conv2d(in_channels=in_channels, out_channels=16, kernel_size=3, stride=1, padding=1),\n",
    "#             nn.ReLU(),\n",
    "#             nn.MaxPool2d(kernel_size=2, stride=2),\n",
    "#             nn.Conv2d(in_channels=16, out_channels=32, kernel_size=3, stride=1, padding=1),\n",
    "#             nn.ReLU(),\n",
    "#             nn.MaxPool2d(kernel_size=2, stride=2),\n",
    "#             nn.Flatten(),\n",
    "#             nn.Linear(in_features=32*7*7, out_features=128),\n",
    "#             nn.ReLU(),\n",
    "#             nn.Linear(in_features=128, out_features=num_classes)\n",
    "#         )\n",
    "\n",
    "#     def forward(self, x: torch.Tensor):\n",
    "#         logits = self.layer_stack(x)\n",
    "#         return logits\n",
    "\n",
    "\n",
    "#Tutorial model\n",
    "class FashionMNISTModelV2(nn.Module):\n",
    "    \"\"\"\n",
    "    Model architecture that replicates the TinyVGG architecture.\n",
    "    \"\"\"\n",
    "    def __init__(self, input_shape: int,\n",
    "                 hidden_units: int,\n",
    "                 output_shape: int) -> None:\n",
    "        super().__init__()\n",
    "        self.conv_block_1 = nn.Sequential(\n",
    "            nn.Conv2d(in_channels=input_shape,\n",
    "                      out_channels=hidden_units,\n",
    "                      kernel_size=3,\n",
    "                      stride=1,\n",
    "                      padding=1),\n",
    "            nn.ReLU(),\n",
    "            nn.Conv2d(in_channels=hidden_units,\n",
    "                      out_channels=hidden_units,\n",
    "                      kernel_size=3,\n",
    "                      stride=1,\n",
    "                      padding=1),\n",
    "            nn.ReLU(),\n",
    "            nn.MaxPool2d(kernel_size=2, stride=2)\n",
    "        )\n",
    "\n",
    "        self.conv_block_2 = nn.Sequential(\n",
    "            nn.Conv2d(in_channels=hidden_units,\n",
    "                      out_channels=hidden_units*2, # copilot is suggesting \"hidden_units*2\", instead of \"hidden_units\"\n",
    "                      kernel_size=3, \n",
    "                      stride=1,\n",
    "                      padding=1),\n",
    "            nn.ReLU(),\n",
    "            nn.Conv2d(in_channels=hidden_units*2,\n",
    "                      out_channels=hidden_units*2,\n",
    "                      kernel_size=3,\n",
    "                      stride=1,\n",
    "                      padding=1),\n",
    "            nn.ReLU(),\n",
    "            nn.MaxPool2d(kernel_size=2, stride=2)\n",
    "        )\n",
    "\n",
    "        self.classifier = nn.Sequential(\n",
    "            nn.Flatten(),\n",
    "            nn.Linear(in_features= 7*7*hidden_units*2, # Copilot is suggesting 7*7*hidden_units*2 instead of 7*7*hidden_units (7*7 is the output shape of the last MaxPool2d layer)\n",
    "                      out_features= hidden_units*4),\n",
    "            nn.ReLU(),\n",
    "            nn.Linear(in_features= hidden_units*4,\n",
    "                      out_features= output_shape)\n",
    "        )\n",
    "        \n",
    "        # Copilot is suggesting two Linear layers instead of one and hidden_units*4 instead of hidden_units*2\n",
    "\n",
    "    def forward(self, x: torch.Tensor) -> torch.Tensor:\n",
    "        x = self.conv_block_1(x)\n",
    "        x = self.conv_block_2(x)\n",
    "        x = self.classifier(x)\n",
    "        return x\n",
    "        "
   ]
  },
  {
   "cell_type": "markdown",
   "metadata": {},
   "source": [
    "### 7.1 Stepping through the CNN `nn.Conv2d()`\n",
    "\n",
    "Convolutional layers are the building blocks of CNNs. \n",
    "\n",
    "A convolution is a linear operation that involves the multiplication of a set of weights with the input, much like a fully connected layer. The difference is that the input is usually a 3D volume (width, height, depth) instead of a 1D vector.\n",
    "\n"
   ]
  },
  {
   "cell_type": "code",
   "execution_count": 91,
   "metadata": {},
   "outputs": [
    {
     "name": "stdout",
     "output_type": "stream",
     "text": [
      "Image batch shape: torch.Size([32, 3, 64, 64])\n",
      "Single image shape: torch.Size([3, 64, 64])\n",
      "Test image: tensor([[[0.8823, 0.9150, 0.3829,  ..., 0.1587, 0.6542, 0.3278],\n",
      "         [0.6532, 0.3958, 0.9147,  ..., 0.2083, 0.3289, 0.1054],\n",
      "         [0.9192, 0.4008, 0.9302,  ..., 0.5535, 0.4117, 0.3510],\n",
      "         ...,\n",
      "         [0.1457, 0.1499, 0.3298,  ..., 0.9624, 0.6400, 0.7409],\n",
      "         [0.1709, 0.5797, 0.6340,  ..., 0.6885, 0.2405, 0.5956],\n",
      "         [0.9199, 0.1247, 0.3573,  ..., 0.6752, 0.2058, 0.5027]],\n",
      "\n",
      "        [[0.1458, 0.9024, 0.9217,  ..., 0.1868, 0.6352, 0.8431],\n",
      "         [0.9549, 0.4435, 0.6924,  ..., 0.1168, 0.7160, 0.5462],\n",
      "         [0.1616, 0.1054, 0.8614,  ..., 0.4531, 0.4736, 0.9448],\n",
      "         ...,\n",
      "         [0.4309, 0.3986, 0.1907,  ..., 0.9444, 0.2848, 0.3776],\n",
      "         [0.7948, 0.6855, 0.1009,  ..., 0.6147, 0.7747, 0.2323],\n",
      "         [0.5840, 0.9795, 0.3277,  ..., 0.3549, 0.1263, 0.1280]],\n",
      "\n",
      "        [[0.5027, 0.4195, 0.8893,  ..., 0.3084, 0.1567, 0.7860],\n",
      "         [0.7310, 0.9307, 0.2847,  ..., 0.8432, 0.8307, 0.0897],\n",
      "         [0.7021, 0.5967, 0.7744,  ..., 0.8485, 0.4520, 0.0401],\n",
      "         ...,\n",
      "         [0.5440, 0.0679, 0.6577,  ..., 0.9948, 0.2791, 0.4142],\n",
      "         [0.5095, 0.1246, 0.1726,  ..., 0.0984, 0.3224, 0.3125],\n",
      "         [0.3612, 0.8706, 0.4751,  ..., 0.5368, 0.2389, 0.2095]]])\n"
     ]
    }
   ],
   "source": [
    "torch.manual_seed(42)\n",
    "\n",
    "# Creating batches of images\n",
    "images = torch.rand(size=(32, 3, 64, 64)).to(device)\n",
    "test_image = images[0]\n",
    "\n",
    "print(f\"Image batch shape: {images.shape}\")\n",
    "print(f\"Single image shape: {test_image.shape}\")\n",
    "print(f\"Test image: {test_image}\")\n"
   ]
  },
  {
   "cell_type": "code",
   "execution_count": 92,
   "metadata": {},
   "outputs": [
    {
     "data": {
      "text/plain": [
       "tensor([[[[-0.4432, -0.4266, -0.7313,  ..., -0.3842, -0.4029, -0.2580],\n",
       "          [-0.5172, -0.6280, -0.5067,  ..., -0.5455, -0.2697, -0.3392],\n",
       "          [-0.6129, -0.4303, -0.3513,  ..., -0.2895, -0.3527, -0.5661],\n",
       "          ...,\n",
       "          [-0.4673, -0.3827, -0.3777,  ..., -0.5011, -0.5698, -0.2990],\n",
       "          [-0.3849, -0.4654, -0.5875,  ..., -0.7656, -0.4689, -0.4657],\n",
       "          [-0.5404, -0.1720, -0.1813,  ..., -0.7557, -0.5228, -0.5067]],\n",
       "\n",
       "         [[-0.5316, -0.1805, -0.3830,  ..., -0.3040,  0.1747, -0.1271],\n",
       "          [-0.0159, -0.2488, -0.2986,  ..., -0.0356, -0.2788, -0.3086],\n",
       "          [-0.2891, -0.4163, -0.3072,  ..., -0.2823, -0.1784, -0.3035],\n",
       "          ...,\n",
       "          [-0.3779, -0.1186, -0.1976,  ..., -0.0708, -0.1470, -0.2759],\n",
       "          [ 0.0127,  0.0269, -0.0898,  ..., -0.1350, -0.1111, -0.4801],\n",
       "          [-0.3296,  0.0213,  0.0134,  ..., -0.3110, -0.2932, -0.3754]],\n",
       "\n",
       "         [[ 0.4062,  0.3490,  0.5550,  ...,  0.5446,  0.4686,  0.3256],\n",
       "          [ 0.5676,  0.5045,  0.5234,  ...,  0.4399,  0.5389,  0.5773],\n",
       "          [ 0.3637,  0.6065,  0.4606,  ...,  0.4096,  0.4558,  0.5566],\n",
       "          ...,\n",
       "          [ 0.3196,  0.3292,  0.4361,  ...,  0.3500,  0.4569,  0.3499],\n",
       "          [ 0.3622, -0.0200, -0.0461,  ...,  0.3687,  0.5961,  0.6015],\n",
       "          [ 0.6159,  0.6619,  0.2836,  ...,  0.4565,  0.4876,  0.2839]],\n",
       "\n",
       "         ...,\n",
       "\n",
       "         [[-0.2083, -0.0988, -0.2312,  ..., -0.1170, -0.2155, -0.1722],\n",
       "          [-0.1742, -0.3202, -0.3144,  ..., -0.1946, -0.3722, -0.2494],\n",
       "          [-0.2898, -0.2380, -0.2228,  ..., -0.2809, -0.2037, -0.3920],\n",
       "          ...,\n",
       "          [-0.1293, -0.2419, -0.2281,  ..., -0.0713, -0.1156, -0.2592],\n",
       "          [ 0.0559,  0.1924,  0.2016,  ..., -0.1700, -0.3938, -0.1765],\n",
       "          [-0.4790, -0.3174, -0.1856,  ..., -0.4349, -0.1485, -0.1997]],\n",
       "\n",
       "         [[ 0.0194,  0.0186,  0.4385,  ...,  0.2449,  0.0481,  0.1134],\n",
       "          [ 0.1006,  0.5609,  0.1059,  ...,  0.4188, -0.0049,  0.3327],\n",
       "          [ 0.3597,  0.0932,  0.1355,  ..., -0.1880,  0.3458,  0.1109],\n",
       "          ...,\n",
       "          [-0.0137,  0.4256,  0.2419,  ...,  0.4626,  0.1812, -0.0570],\n",
       "          [ 0.1983, -0.0275,  0.0989,  ...,  0.3636,  0.1534,  0.4365],\n",
       "          [ 0.3139,  0.0322,  0.0172,  ...,  0.0521,  0.2261,  0.2010]],\n",
       "\n",
       "         [[ 0.4506,  0.0735,  0.2614,  ...,  0.1512, -0.0379, -0.2003],\n",
       "          [ 0.3348, -0.0052,  0.1480,  ..., -0.1122,  0.0666, -0.0987],\n",
       "          [ 0.1606,  0.2082,  0.1922,  ...,  0.2084,  0.0262,  0.4026],\n",
       "          ...,\n",
       "          [ 0.0620,  0.2353,  0.1468,  ...,  0.0336,  0.0225,  0.1185],\n",
       "          [ 0.1010,  0.2481,  0.0609,  ...,  0.2137, -0.2509,  0.2045],\n",
       "          [-0.1128,  0.1855,  0.0579,  ...,  0.1669, -0.0012,  0.3448]]]],\n",
       "       grad_fn=<ConvolutionBackward0>)"
      ]
     },
     "execution_count": 92,
     "metadata": {},
     "output_type": "execute_result"
    }
   ],
   "source": [
    "# Create a single conv2d layer\n",
    "conv_layer = nn.Conv2d(in_channels=3,\n",
    "                       out_channels=10, \n",
    "                       kernel_size=3, \n",
    "                       stride=1, padding=0)\n",
    "\n",
    "# Pass the data through the conv layer\n",
    "conv_output = conv_layer(test_image.unsqueeze(0))\n",
    "conv_output"
   ]
  },
  {
   "cell_type": "markdown",
   "metadata": {},
   "source": [
    "### 7.2 Stepping through the CNN `nn.MaxPool2d()`\n",
    "\n",
    "Max pooling is a technique used to downsample the image. It takes the maximum value from a region of pixels."
   ]
  },
  {
   "cell_type": "code",
   "execution_count": 93,
   "metadata": {},
   "outputs": [
    {
     "name": "stdout",
     "output_type": "stream",
     "text": [
      "Test image original shape: torch.Size([3, 64, 64])\n",
      "Test image unsqueezed shape: torch.Size([1, 3, 64, 64])\n",
      "Max pool output shape: torch.Size([1, 10, 31, 31])\n",
      "Random tensor: tensor([[[[0.8823, 0.9150],\n",
      "          [0.3829, 0.9593]]]])\n",
      "Random tensor shape: torch.Size([1, 1, 2, 2])\n",
      "Max pool tensor: tensor([[[[0.9593]]]])\n",
      "Max pool tensor shape: torch.Size([1, 1, 1, 1])\n"
     ]
    }
   ],
   "source": [
    "# Printing the shapes\n",
    "print(f\"Test image original shape: {test_image.shape}\")\n",
    "print(f\"Test image unsqueezed shape: {test_image.unsqueeze(0).shape}\")\n",
    "torch.manual_seed(42)\n",
    "\n",
    "# Create a random tensor\n",
    "random_tensor = torch.rand(size=(1, 1, 2, 2)).to(device)\n",
    "\n",
    "# Create a sample nn.MaxPool2d layer\n",
    "max_pool_layer = nn.MaxPool2d(kernel_size=2, stride=2)\n",
    "\n",
    "# Pass the data through the max pool layer\n",
    "max_pool_output = max_pool_layer(conv_output)\n",
    "print(f\"Max pool output shape: {max_pool_output.shape}\")\n",
    "\n",
    "# Pass the random tensor through the max pool layer\n",
    "max_pool_tensor = max_pool_layer(random_tensor)\n",
    "print(f\"Random tensor: {random_tensor}\")\n",
    "print(f\"Random tensor shape: {random_tensor.shape}\")\n",
    "print(f\"Max pool tensor: {max_pool_tensor}\")\n",
    "print(f\"Max pool tensor shape: {max_pool_tensor.shape}\")"
   ]
  },
  {
   "cell_type": "code",
   "execution_count": 94,
   "metadata": {},
   "outputs": [],
   "source": [
    "torch.manual_seed(42)\n",
    "# Instantiate the model\n",
    "model_2 = FashionMNISTModelV2(input_shape=1, \n",
    "                              hidden_units=32, # Copilot is suggesting hidden_units=32, instead of 10. Following copilot sugestion\n",
    "                              output_shape=len(class_names)).to(device) "
   ]
  },
  {
   "cell_type": "code",
   "execution_count": 95,
   "metadata": {},
   "outputs": [
    {
     "data": {
      "text/plain": [
       "<matplotlib.image.AxesImage at 0x7fe61e226ed0>"
      ]
     },
     "execution_count": 95,
     "metadata": {},
     "output_type": "execute_result"
    },
    {
     "data": {
      "image/png": "[encoded data removed]",
      "text/plain": [
       "<Figure size 640x480 with 1 Axes>"
      ]
     },
     "metadata": {},
     "output_type": "display_data"
    }
   ],
   "source": [
    "plt.imshow(image.squeeze(), cmap='gray')"
   ]
  },
  {
   "cell_type": "code",
   "execution_count": 96,
   "metadata": {},
   "outputs": [
    {
     "data": {
      "text/plain": [
       "tensor([[ 0.0858,  0.0584, -0.0879,  0.0368,  0.0267, -0.0429,  0.0336, -0.0467,\n",
       "          0.0538, -0.0192]], grad_fn=<AddmmBackward0>)"
      ]
     },
     "execution_count": 96,
     "metadata": {},
     "output_type": "execute_result"
    }
   ],
   "source": [
    "# pass the image through the model\n",
    "model_2_output = model_2(image.unsqueeze(0))\n",
    "model_2_output"
   ]
  },
  {
   "cell_type": "code",
   "execution_count": 97,
   "metadata": {},
   "outputs": [
    {
     "data": {
      "text/plain": [
       "tensor([0])"
      ]
     },
     "execution_count": 97,
     "metadata": {},
     "output_type": "execute_result"
    }
   ],
   "source": [
    "# Getting label from the model output\n",
    "model_2_output.argmax(dim=1)"
   ]
  },
  {
   "cell_type": "markdown",
   "metadata": {},
   "source": [
    "### 7.3 Setup the loss function, optimizer and evaluation metric"
   ]
  },
  {
   "cell_type": "code",
   "execution_count": 98,
   "metadata": {},
   "outputs": [
    {
     "data": {
      "text/plain": [
       "OrderedDict([('conv_block_1.0.weight',\n",
       "              tensor([[[[ 0.2548,  0.2767, -0.0781],\n",
       "                        [ 0.3062, -0.0730,  0.0673],\n",
       "                        [-0.1623,  0.1958,  0.2938]]],\n",
       "              \n",
       "              \n",
       "                      [[[-0.2445,  0.2897,  0.0624],\n",
       "                        [ 0.2463,  0.0451,  0.1607],\n",
       "                        [-0.0471,  0.2570,  0.0493]]],\n",
       "              \n",
       "              \n",
       "                      [[[-0.1556,  0.0850, -0.1536],\n",
       "                        [-0.0391, -0.1354,  0.2211],\n",
       "                        [-0.2631, -0.1537, -0.0941]]],\n",
       "              \n",
       "              \n",
       "                      [[[-0.2004,  0.0315, -0.3292],\n",
       "                        [ 0.3010, -0.2832,  0.2573],\n",
       "                        [ 0.0555, -0.1082,  0.2060]]],\n",
       "              \n",
       "              \n",
       "                      [[[ 0.0520,  0.2693,  0.0364],\n",
       "                        [-0.1051,  0.0896, -0.0904],\n",
       "                        [ 0.1403,  0.2976,  0.1927]]],\n",
       "              \n",
       "              \n",
       "                      [[[-0.1457,  0.1924,  0.0596],\n",
       "                        [ 0.1693, -0.2032, -0.3300],\n",
       "                        [-0.1288, -0.2557,  0.2735]]],\n",
       "              \n",
       "              \n",
       "                      [[[ 0.0960,  0.1381,  0.1054],\n",
       "                        [-0.0058,  0.2609, -0.2368],\n",
       "                        [ 0.0210, -0.2275,  0.1028]]],\n",
       "              \n",
       "              \n",
       "                      [[[-0.1148,  0.1021, -0.0694],\n",
       "                        [ 0.2765, -0.1976, -0.1988],\n",
       "                        [-0.1988,  0.2998,  0.1111]]],\n",
       "              \n",
       "              \n",
       "                      [[[ 0.3208, -0.2751, -0.3306],\n",
       "                        [-0.2608, -0.2242,  0.1350],\n",
       "                        [ 0.1194,  0.2770, -0.1721]]],\n",
       "              \n",
       "              \n",
       "                      [[[-0.2272,  0.1769, -0.1347],\n",
       "                        [ 0.2023, -0.0791,  0.1907],\n",
       "                        [-0.2590, -0.1682,  0.1016]]],\n",
       "              \n",
       "              \n",
       "                      [[[ 0.0705, -0.0850,  0.1987],\n",
       "                        [ 0.2266, -0.2417, -0.1780],\n",
       "                        [ 0.3052, -0.1125, -0.1182]]],\n",
       "              \n",
       "              \n",
       "                      [[[-0.3225, -0.1909,  0.0833],\n",
       "                        [-0.0440, -0.2420,  0.0078],\n",
       "                        [-0.2277, -0.2828, -0.1836]]],\n",
       "              \n",
       "              \n",
       "                      [[[-0.2917, -0.2122,  0.3332],\n",
       "                        [ 0.0630,  0.1027, -0.3109],\n",
       "                        [-0.2189, -0.1110,  0.0521]]],\n",
       "              \n",
       "              \n",
       "                      [[[-0.2933, -0.1436, -0.1996],\n",
       "                        [ 0.0009, -0.1240, -0.0231],\n",
       "                        [-0.2259, -0.2288, -0.1945]]],\n",
       "              \n",
       "              \n",
       "                      [[[-0.1141, -0.2631,  0.2795],\n",
       "                        [-0.0662,  0.2868,  0.1039],\n",
       "                        [-0.2823,  0.2307, -0.0917]]],\n",
       "              \n",
       "              \n",
       "                      [[[-0.1278, -0.2767, -0.3314],\n",
       "                        [ 0.0954, -0.0728,  0.1298],\n",
       "                        [-0.2736,  0.2475, -0.2447]]],\n",
       "              \n",
       "              \n",
       "                      [[[-0.0576,  0.0696,  0.1721],\n",
       "                        [ 0.2691,  0.3037, -0.2643],\n",
       "                        [ 0.0839, -0.1434, -0.0365]]],\n",
       "              \n",
       "              \n",
       "                      [[[-0.2495,  0.3036, -0.2447],\n",
       "                        [ 0.1782,  0.1171,  0.1083],\n",
       "                        [-0.1802,  0.3030,  0.0733]]],\n",
       "              \n",
       "              \n",
       "                      [[[ 0.0429, -0.2938,  0.1399],\n",
       "                        [-0.0500, -0.1527,  0.2863],\n",
       "                        [ 0.0743, -0.1844, -0.1687]]],\n",
       "              \n",
       "              \n",
       "                      [[[-0.0159,  0.1861, -0.0852],\n",
       "                        [-0.1902, -0.1141, -0.2490],\n",
       "                        [ 0.1189,  0.2580, -0.3138]]],\n",
       "              \n",
       "              \n",
       "                      [[[ 0.0774,  0.1722,  0.0604],\n",
       "                        [-0.1187,  0.1740,  0.1752],\n",
       "                        [ 0.1246, -0.0586, -0.0883]]],\n",
       "              \n",
       "              \n",
       "                      [[[ 0.0357, -0.0589, -0.0993],\n",
       "                        [ 0.2131,  0.2865, -0.0330],\n",
       "                        [-0.0746,  0.0049, -0.0199]]],\n",
       "              \n",
       "              \n",
       "                      [[[ 0.0801,  0.0934, -0.3028],\n",
       "                        [-0.1230,  0.2807,  0.1299],\n",
       "                        [-0.0166, -0.2010, -0.2039]]],\n",
       "              \n",
       "              \n",
       "                      [[[-0.2986, -0.1087,  0.1126],\n",
       "                        [ 0.2125,  0.1539, -0.2946],\n",
       "                        [-0.2005, -0.0526,  0.3224]]],\n",
       "              \n",
       "              \n",
       "                      [[[ 0.0482, -0.0863,  0.1379],\n",
       "                        [-0.1270, -0.2158,  0.2433],\n",
       "                        [-0.1516, -0.0668, -0.3316]]],\n",
       "              \n",
       "              \n",
       "                      [[[ 0.2231,  0.2525,  0.1215],\n",
       "                        [-0.2324, -0.3290, -0.2707],\n",
       "                        [ 0.2486,  0.1600,  0.2805]]],\n",
       "              \n",
       "              \n",
       "                      [[[ 0.1746,  0.0844, -0.0033],\n",
       "                        [-0.2535, -0.2856, -0.3118],\n",
       "                        [ 0.1365, -0.1637, -0.0671]]],\n",
       "              \n",
       "              \n",
       "                      [[[-0.1918, -0.0607, -0.2346],\n",
       "                        [-0.2178,  0.1106, -0.0991],\n",
       "                        [ 0.2058, -0.1069, -0.2445]]],\n",
       "              \n",
       "              \n",
       "                      [[[-0.0588, -0.1616, -0.1020],\n",
       "                        [-0.3173,  0.1865, -0.2321],\n",
       "                        [ 0.1675,  0.1513,  0.2381]]],\n",
       "              \n",
       "              \n",
       "                      [[[-0.2557,  0.2397, -0.1576],\n",
       "                        [ 0.1237,  0.3130, -0.0470],\n",
       "                        [-0.0026, -0.0767, -0.2783]]],\n",
       "              \n",
       "              \n",
       "                      [[[ 0.1600, -0.3309,  0.2069],\n",
       "                        [ 0.2494,  0.3152, -0.0786],\n",
       "                        [-0.2739,  0.0749,  0.1841]]],\n",
       "              \n",
       "              \n",
       "                      [[[-0.3318, -0.0757, -0.1998],\n",
       "                        [-0.0292, -0.1641, -0.1363],\n",
       "                        [-0.1058, -0.3168,  0.2735]]]])),\n",
       "             ('conv_block_1.0.bias',\n",
       "              tensor([ 0.2794, -0.0523, -0.0380, -0.1360, -0.3010, -0.3244,  0.1239, -0.1830,\n",
       "                      -0.2143, -0.0260, -0.1110, -0.1078,  0.0107, -0.0707, -0.1148, -0.1596,\n",
       "                      -0.2713,  0.2795, -0.1334,  0.0883, -0.1157,  0.0271,  0.3108,  0.1536,\n",
       "                      -0.2889,  0.1323,  0.3164,  0.0877,  0.2235,  0.3286, -0.0511,  0.0692])),\n",
       "             ('conv_block_1.2.weight',\n",
       "              tensor([[[[-0.0410, -0.0121,  0.0436],\n",
       "                        [ 0.0302, -0.0373, -0.0473],\n",
       "                        [-0.0403, -0.0582, -0.0455]],\n",
       "              \n",
       "                       [[-0.0146,  0.0398,  0.0099],\n",
       "                        [-0.0448, -0.0473,  0.0293],\n",
       "                        [-0.0438, -0.0073,  0.0283]],\n",
       "              \n",
       "                       [[-0.0273, -0.0064, -0.0051],\n",
       "                        [-0.0139, -0.0299, -0.0525],\n",
       "                        [-0.0476, -0.0316,  0.0569]],\n",
       "              \n",
       "                       ...,\n",
       "              \n",
       "                       [[-0.0513,  0.0072,  0.0521],\n",
       "                        [ 0.0101,  0.0160, -0.0343],\n",
       "                        [-0.0008,  0.0032,  0.0145]],\n",
       "              \n",
       "                       [[ 0.0229,  0.0512, -0.0450],\n",
       "                        [ 0.0018, -0.0294, -0.0466],\n",
       "                        [-0.0047, -0.0519,  0.0411]],\n",
       "              \n",
       "                       [[ 0.0068, -0.0318,  0.0308],\n",
       "                        [-0.0558, -0.0228, -0.0115],\n",
       "                        [-0.0501, -0.0375, -0.0096]]],\n",
       "              \n",
       "              \n",
       "                      [[[ 0.0447,  0.0569,  0.0375],\n",
       "                        [-0.0352, -0.0386,  0.0514],\n",
       "                        [ 0.0208,  0.0016,  0.0080]],\n",
       "              \n",
       "                       [[-0.0474, -0.0197,  0.0567],\n",
       "                        [-0.0145, -0.0030, -0.0489],\n",
       "                        [-0.0330, -0.0012, -0.0366]],\n",
       "              \n",
       "                       [[-0.0073,  0.0240, -0.0576],\n",
       "                        [ 0.0175, -0.0390, -0.0288],\n",
       "                        [ 0.0226,  0.0469, -0.0161]],\n",
       "              \n",
       "                       ...,\n",
       "              \n",
       "                       [[-0.0496, -0.0061,  0.0565],\n",
       "                        [ 0.0150,  0.0050, -0.0122],\n",
       "                        [-0.0206,  0.0351,  0.0036]],\n",
       "              \n",
       "                       [[ 0.0383, -0.0104,  0.0257],\n",
       "                        [ 0.0243,  0.0094,  0.0370],\n",
       "                        [ 0.0369,  0.0546,  0.0453]],\n",
       "              \n",
       "                       [[-0.0151, -0.0499,  0.0108],\n",
       "                        [-0.0005, -0.0154, -0.0099],\n",
       "                        [ 0.0028,  0.0430,  0.0184]]],\n",
       "              \n",
       "              \n",
       "                      [[[-0.0209, -0.0242, -0.0146],\n",
       "                        [-0.0228,  0.0530,  0.0312],\n",
       "                        [ 0.0532,  0.0002,  0.0119]],\n",
       "              \n",
       "                       [[ 0.0204, -0.0558,  0.0053],\n",
       "                        [-0.0039, -0.0330, -0.0457],\n",
       "                        [ 0.0522,  0.0479,  0.0273]],\n",
       "              \n",
       "                       [[ 0.0562, -0.0239, -0.0102],\n",
       "                        [ 0.0223, -0.0097, -0.0116],\n",
       "                        [-0.0487,  0.0158, -0.0356]],\n",
       "              \n",
       "                       ...,\n",
       "              \n",
       "                       [[ 0.0404, -0.0459,  0.0538],\n",
       "                        [ 0.0046,  0.0283,  0.0458],\n",
       "                        [ 0.0502, -0.0459,  0.0516]],\n",
       "              \n",
       "                       [[-0.0400,  0.0044, -0.0412],\n",
       "                        [-0.0129, -0.0027, -0.0070],\n",
       "                        [-0.0093,  0.0046,  0.0581]],\n",
       "              \n",
       "                       [[ 0.0342,  0.0330,  0.0236],\n",
       "                        [ 0.0456, -0.0027,  0.0047],\n",
       "                        [ 0.0121, -0.0514, -0.0475]]],\n",
       "              \n",
       "              \n",
       "                      ...,\n",
       "              \n",
       "              \n",
       "                      [[[-0.0045, -0.0051, -0.0571],\n",
       "                        [ 0.0105, -0.0468,  0.0053],\n",
       "                        [-0.0140,  0.0375, -0.0236]],\n",
       "              \n",
       "                       [[ 0.0419, -0.0140, -0.0114],\n",
       "                        [-0.0536,  0.0512,  0.0051],\n",
       "                        [-0.0531,  0.0033,  0.0241]],\n",
       "              \n",
       "                       [[-0.0125,  0.0481,  0.0288],\n",
       "                        [-0.0076,  0.0589,  0.0416],\n",
       "                        [-0.0072, -0.0051,  0.0181]],\n",
       "              \n",
       "                       ...,\n",
       "              \n",
       "                       [[ 0.0396,  0.0161,  0.0500],\n",
       "                        [-0.0573, -0.0144, -0.0380],\n",
       "                        [-0.0451, -0.0350,  0.0186]],\n",
       "              \n",
       "                       [[ 0.0392,  0.0266, -0.0202],\n",
       "                        [ 0.0260,  0.0580,  0.0029],\n",
       "                        [-0.0212, -0.0465,  0.0417]],\n",
       "              \n",
       "                       [[-0.0135, -0.0462,  0.0341],\n",
       "                        [ 0.0117, -0.0238, -0.0580],\n",
       "                        [ 0.0074, -0.0175, -0.0102]]],\n",
       "              \n",
       "              \n",
       "                      [[[-0.0197,  0.0485,  0.0313],\n",
       "                        [ 0.0467,  0.0222,  0.0168],\n",
       "                        [ 0.0582, -0.0002,  0.0339]],\n",
       "              \n",
       "                       [[ 0.0240, -0.0564,  0.0400],\n",
       "                        [-0.0058, -0.0398,  0.0397],\n",
       "                        [-0.0477,  0.0276, -0.0485]],\n",
       "              \n",
       "                       [[-0.0169, -0.0553,  0.0421],\n",
       "                        [ 0.0146,  0.0481,  0.0180],\n",
       "                        [-0.0292,  0.0089,  0.0399]],\n",
       "              \n",
       "                       ...,\n",
       "              \n",
       "                       [[ 0.0260,  0.0569, -0.0316],\n",
       "                        [-0.0047, -0.0049,  0.0480],\n",
       "                        [ 0.0556,  0.0149, -0.0476]],\n",
       "              \n",
       "                       [[-0.0427,  0.0108, -0.0519],\n",
       "                        [-0.0206, -0.0442,  0.0302],\n",
       "                        [-0.0081, -0.0461,  0.0385]],\n",
       "              \n",
       "                       [[-0.0522, -0.0058,  0.0567],\n",
       "                        [ 0.0295, -0.0511,  0.0064],\n",
       "                        [-0.0088,  0.0262,  0.0544]]],\n",
       "              \n",
       "              \n",
       "                      [[[ 0.0502, -0.0056,  0.0271],\n",
       "                        [-0.0579,  0.0464,  0.0313],\n",
       "                        [-0.0414, -0.0170, -0.0229]],\n",
       "              \n",
       "                       [[-0.0345,  0.0243, -0.0172],\n",
       "                        [ 0.0245, -0.0179,  0.0458],\n",
       "                        [-0.0232, -0.0102, -0.0183]],\n",
       "              \n",
       "                       [[ 0.0027, -0.0217, -0.0414],\n",
       "                        [-0.0560,  0.0367,  0.0082],\n",
       "                        [-0.0379,  0.0305,  0.0062]],\n",
       "              \n",
       "                       ...,\n",
       "              \n",
       "                       [[ 0.0513,  0.0242,  0.0503],\n",
       "                        [ 0.0044, -0.0447, -0.0377],\n",
       "                        [ 0.0532,  0.0528,  0.0178]],\n",
       "              \n",
       "                       [[-0.0421,  0.0431,  0.0244],\n",
       "                        [-0.0465,  0.0171,  0.0568],\n",
       "                        [-0.0389,  0.0045,  0.0168]],\n",
       "              \n",
       "                       [[-0.0212,  0.0388,  0.0524],\n",
       "                        [ 0.0574, -0.0527,  0.0033],\n",
       "                        [ 0.0481,  0.0502, -0.0152]]]])),\n",
       "             ('conv_block_1.2.bias',\n",
       "              tensor([ 0.0390,  0.0440, -0.0037,  0.0404,  0.0339, -0.0088, -0.0246, -0.0313,\n",
       "                      -0.0475, -0.0352,  0.0154,  0.0210, -0.0169, -0.0049,  0.0408,  0.0087,\n",
       "                      -0.0409,  0.0499,  0.0356,  0.0068,  0.0281, -0.0498,  0.0346,  0.0143,\n",
       "                      -0.0052, -0.0189,  0.0476,  0.0127, -0.0329,  0.0265,  0.0104, -0.0207])),\n",
       "             ('conv_block_2.0.weight',\n",
       "              tensor([[[[ 0.0416,  0.0587, -0.0026],\n",
       "                        [-0.0243, -0.0316, -0.0308],\n",
       "                        [ 0.0302,  0.0370, -0.0357]],\n",
       "              \n",
       "                       [[ 0.0326,  0.0023, -0.0021],\n",
       "                        [-0.0187, -0.0543, -0.0505],\n",
       "                        [ 0.0432, -0.0097, -0.0026]],\n",
       "              \n",
       "                       [[-0.0355, -0.0108, -0.0230],\n",
       "                        [ 0.0053, -0.0562,  0.0057],\n",
       "                        [-0.0522, -0.0419, -0.0013]],\n",
       "              \n",
       "                       ...,\n",
       "              \n",
       "                       [[-0.0384,  0.0143, -0.0071],\n",
       "                        [ 0.0503,  0.0028, -0.0291],\n",
       "                        [ 0.0472,  0.0018, -0.0099]],\n",
       "              \n",
       "                       [[ 0.0281,  0.0568,  0.0269],\n",
       "                        [ 0.0017,  0.0483, -0.0258],\n",
       "                        [ 0.0521, -0.0336,  0.0011]],\n",
       "              \n",
       "                       [[ 0.0536,  0.0235, -0.0123],\n",
       "                        [ 0.0363,  0.0348, -0.0531],\n",
       "                        [-0.0066, -0.0464, -0.0127]]],\n",
       "              \n",
       "              \n",
       "                      [[[-0.0071, -0.0236, -0.0215],\n",
       "                        [ 0.0319, -0.0017, -0.0586],\n",
       "                        [ 0.0101, -0.0579, -0.0404]],\n",
       "              \n",
       "                       [[ 0.0360,  0.0450, -0.0209],\n",
       "                        [-0.0358,  0.0267, -0.0563],\n",
       "                        [ 0.0364,  0.0406,  0.0249]],\n",
       "              \n",
       "                       [[ 0.0180,  0.0122, -0.0452],\n",
       "                        [-0.0236,  0.0380,  0.0496],\n",
       "                        [ 0.0016,  0.0151, -0.0559]],\n",
       "              \n",
       "                       ...,\n",
       "              \n",
       "                       [[-0.0551,  0.0392,  0.0410],\n",
       "                        [ 0.0370,  0.0249, -0.0357],\n",
       "                        [-0.0253,  0.0126,  0.0232]],\n",
       "              \n",
       "                       [[ 0.0517,  0.0026,  0.0243],\n",
       "                        [-0.0445, -0.0120,  0.0350],\n",
       "                        [ 0.0048,  0.0466, -0.0473]],\n",
       "              \n",
       "                       [[-0.0393,  0.0185, -0.0025],\n",
       "                        [-0.0503,  0.0251,  0.0024],\n",
       "                        [ 0.0142,  0.0129, -0.0406]]],\n",
       "              \n",
       "              \n",
       "                      [[[-0.0395, -0.0471,  0.0428],\n",
       "                        [-0.0323,  0.0530, -0.0188],\n",
       "                        [ 0.0130,  0.0563, -0.0316]],\n",
       "              \n",
       "                       [[-0.0559,  0.0085, -0.0425],\n",
       "                        [ 0.0325,  0.0234,  0.0427],\n",
       "                        [-0.0061, -0.0385, -0.0543]],\n",
       "              \n",
       "                       [[-0.0381,  0.0525, -0.0126],\n",
       "                        [-0.0011, -0.0125, -0.0301],\n",
       "                        [ 0.0482, -0.0153, -0.0286]],\n",
       "              \n",
       "                       ...,\n",
       "              \n",
       "                       [[-0.0554,  0.0265,  0.0278],\n",
       "                        [-0.0573,  0.0257,  0.0075],\n",
       "                        [-0.0368, -0.0270,  0.0579]],\n",
       "              \n",
       "                       [[-0.0307,  0.0516,  0.0119],\n",
       "                        [ 0.0270, -0.0297,  0.0192],\n",
       "                        [ 0.0127,  0.0470, -0.0583]],\n",
       "              \n",
       "                       [[-0.0214,  0.0015, -0.0423],\n",
       "                        [ 0.0100,  0.0380,  0.0355],\n",
       "                        [-0.0304,  0.0238, -0.0429]]],\n",
       "              \n",
       "              \n",
       "                      ...,\n",
       "              \n",
       "              \n",
       "                      [[[-0.0550,  0.0110,  0.0254],\n",
       "                        [-0.0173, -0.0378,  0.0468],\n",
       "                        [ 0.0146,  0.0283,  0.0568]],\n",
       "              \n",
       "                       [[-0.0459,  0.0410, -0.0222],\n",
       "                        [ 0.0220,  0.0383,  0.0429],\n",
       "                        [ 0.0195,  0.0071,  0.0016]],\n",
       "              \n",
       "                       [[-0.0155,  0.0311,  0.0563],\n",
       "                        [ 0.0008, -0.0507, -0.0127],\n",
       "                        [-0.0166,  0.0301, -0.0464]],\n",
       "              \n",
       "                       ...,\n",
       "              \n",
       "                       [[ 0.0147, -0.0520,  0.0004],\n",
       "                        [-0.0381,  0.0217, -0.0298],\n",
       "                        [-0.0020,  0.0430, -0.0434]],\n",
       "              \n",
       "                       [[ 0.0410,  0.0367,  0.0036],\n",
       "                        [ 0.0488, -0.0394, -0.0460],\n",
       "                        [-0.0213,  0.0495, -0.0341]],\n",
       "              \n",
       "                       [[ 0.0214, -0.0413,  0.0040],\n",
       "                        [ 0.0501,  0.0420,  0.0266],\n",
       "                        [-0.0249,  0.0287,  0.0501]]],\n",
       "              \n",
       "              \n",
       "                      [[[-0.0536,  0.0150, -0.0300],\n",
       "                        [ 0.0286, -0.0036, -0.0129],\n",
       "                        [-0.0413, -0.0406,  0.0075]],\n",
       "              \n",
       "                       [[ 0.0179, -0.0016,  0.0474],\n",
       "                        [-0.0042, -0.0412,  0.0207],\n",
       "                        [-0.0394,  0.0497,  0.0085]],\n",
       "              \n",
       "                       [[ 0.0019,  0.0208,  0.0290],\n",
       "                        [-0.0438, -0.0235, -0.0196],\n",
       "                        [-0.0012,  0.0273, -0.0279]],\n",
       "              \n",
       "                       ...,\n",
       "              \n",
       "                       [[ 0.0358, -0.0285,  0.0040],\n",
       "                        [-0.0439, -0.0377,  0.0047],\n",
       "                        [ 0.0282,  0.0519, -0.0585]],\n",
       "              \n",
       "                       [[ 0.0351,  0.0209,  0.0557],\n",
       "                        [-0.0013, -0.0033, -0.0579],\n",
       "                        [ 0.0332, -0.0079, -0.0172]],\n",
       "              \n",
       "                       [[-0.0129, -0.0398, -0.0177],\n",
       "                        [ 0.0165,  0.0372, -0.0416],\n",
       "                        [-0.0548,  0.0096,  0.0488]]],\n",
       "              \n",
       "              \n",
       "                      [[[ 0.0002, -0.0096, -0.0322],\n",
       "                        [-0.0076, -0.0333,  0.0314],\n",
       "                        [ 0.0019, -0.0048, -0.0261]],\n",
       "              \n",
       "                       [[ 0.0319, -0.0516,  0.0491],\n",
       "                        [-0.0253, -0.0327,  0.0011],\n",
       "                        [ 0.0581, -0.0246,  0.0368]],\n",
       "              \n",
       "                       [[-0.0060, -0.0462, -0.0024],\n",
       "                        [ 0.0181,  0.0379, -0.0119],\n",
       "                        [-0.0331, -0.0174,  0.0326]],\n",
       "              \n",
       "                       ...,\n",
       "              \n",
       "                       [[-0.0058,  0.0194,  0.0516],\n",
       "                        [ 0.0048,  0.0460, -0.0213],\n",
       "                        [-0.0313,  0.0397,  0.0483]],\n",
       "              \n",
       "                       [[ 0.0441,  0.0076, -0.0032],\n",
       "                        [-0.0002, -0.0026,  0.0088],\n",
       "                        [ 0.0208,  0.0363,  0.0154]],\n",
       "              \n",
       "                       [[ 0.0547, -0.0098,  0.0135],\n",
       "                        [-0.0033, -0.0419, -0.0469],\n",
       "                        [-0.0032, -0.0472, -0.0494]]]])),\n",
       "             ('conv_block_2.0.bias',\n",
       "              tensor([ 2.7439e-02,  2.6059e-02,  4.7903e-02,  4.3318e-02,  4.7762e-02,\n",
       "                      -3.4623e-02,  1.8482e-02,  1.5072e-02, -1.8113e-02, -5.3588e-02,\n",
       "                       7.6998e-03, -1.7439e-02, -9.2018e-03,  1.0776e-02,  2.1327e-02,\n",
       "                       4.3692e-05, -3.7908e-02,  3.3791e-02, -2.4475e-02, -4.5380e-02,\n",
       "                       3.0359e-02, -3.5979e-04, -1.1213e-02,  1.7652e-02, -4.5837e-02,\n",
       "                       1.8938e-02,  3.1438e-02, -3.1396e-02,  5.4347e-02,  1.5134e-02,\n",
       "                      -7.2964e-03,  4.3955e-02,  2.7358e-02,  2.4565e-03,  5.2082e-02,\n",
       "                       3.2143e-02, -4.2484e-02, -2.3791e-02, -3.4054e-02,  4.0865e-02,\n",
       "                       3.2544e-02, -3.6242e-02,  1.6048e-02, -2.9390e-02,  3.2974e-02,\n",
       "                       8.0685e-03, -1.1816e-03, -2.7120e-02,  4.6150e-02, -7.0787e-03,\n",
       "                      -4.5672e-02, -7.5106e-03, -2.4440e-02,  5.6677e-02, -5.8252e-02,\n",
       "                       1.7713e-02, -2.3607e-03, -5.3358e-02,  1.5620e-03, -2.3689e-02,\n",
       "                      -2.8003e-02, -4.6709e-02,  1.0350e-02,  4.0604e-02])),\n",
       "             ('conv_block_2.2.weight',\n",
       "              tensor([[[[-0.0105,  0.0282,  0.0143],\n",
       "                        [-0.0276, -0.0384, -0.0123],\n",
       "                        [ 0.0168, -0.0377,  0.0367]],\n",
       "              \n",
       "                       [[-0.0403,  0.0172,  0.0205],\n",
       "                        [-0.0302,  0.0302,  0.0023],\n",
       "                        [-0.0413,  0.0126,  0.0099]],\n",
       "              \n",
       "                       [[-0.0318, -0.0178, -0.0021],\n",
       "                        [-0.0163,  0.0289, -0.0080],\n",
       "                        [ 0.0052,  0.0093, -0.0008]],\n",
       "              \n",
       "                       ...,\n",
       "              \n",
       "                       [[-0.0330, -0.0069, -0.0416],\n",
       "                        [-0.0135,  0.0137, -0.0327],\n",
       "                        [ 0.0157,  0.0415,  0.0106]],\n",
       "              \n",
       "                       [[-0.0285, -0.0144, -0.0108],\n",
       "                        [-0.0037, -0.0303, -0.0109],\n",
       "                        [ 0.0124, -0.0383, -0.0306]],\n",
       "              \n",
       "                       [[ 0.0197, -0.0091, -0.0219],\n",
       "                        [ 0.0003,  0.0224,  0.0211],\n",
       "                        [-0.0067, -0.0053,  0.0199]]],\n",
       "              \n",
       "              \n",
       "                      [[[ 0.0396, -0.0206,  0.0138],\n",
       "                        [-0.0080,  0.0295,  0.0218],\n",
       "                        [-0.0344, -0.0129,  0.0123]],\n",
       "              \n",
       "                       [[-0.0304, -0.0371,  0.0051],\n",
       "                        [-0.0270,  0.0018, -0.0312],\n",
       "                        [-0.0410,  0.0412,  0.0307]],\n",
       "              \n",
       "                       [[-0.0403,  0.0395, -0.0125],\n",
       "                        [ 0.0201,  0.0304,  0.0049],\n",
       "                        [-0.0239,  0.0305,  0.0059]],\n",
       "              \n",
       "                       ...,\n",
       "              \n",
       "                       [[-0.0081,  0.0223,  0.0058],\n",
       "                        [ 0.0091,  0.0324, -0.0219],\n",
       "                        [-0.0133,  0.0012,  0.0220]],\n",
       "              \n",
       "                       [[ 0.0146, -0.0234,  0.0348],\n",
       "                        [-0.0087,  0.0341, -0.0179],\n",
       "                        [ 0.0240, -0.0092,  0.0054]],\n",
       "              \n",
       "                       [[ 0.0346,  0.0077,  0.0048],\n",
       "                        [-0.0126,  0.0172, -0.0086],\n",
       "                        [-0.0013,  0.0044,  0.0284]]],\n",
       "              \n",
       "              \n",
       "                      [[[ 0.0063, -0.0257, -0.0060],\n",
       "                        [ 0.0134, -0.0372, -0.0201],\n",
       "                        [-0.0104, -0.0131, -0.0116]],\n",
       "              \n",
       "                       [[-0.0047,  0.0115, -0.0226],\n",
       "                        [-0.0250,  0.0341,  0.0099],\n",
       "                        [-0.0195,  0.0013, -0.0339]],\n",
       "              \n",
       "                       [[ 0.0061, -0.0364, -0.0353],\n",
       "                        [ 0.0371, -0.0297, -0.0313],\n",
       "                        [ 0.0116, -0.0071,  0.0149]],\n",
       "              \n",
       "                       ...,\n",
       "              \n",
       "                       [[ 0.0304, -0.0035, -0.0413],\n",
       "                        [-0.0018, -0.0033,  0.0222],\n",
       "                        [ 0.0329,  0.0387, -0.0098]],\n",
       "              \n",
       "                       [[-0.0177, -0.0099, -0.0134],\n",
       "                        [-0.0315,  0.0131,  0.0350],\n",
       "                        [-0.0238,  0.0025,  0.0234]],\n",
       "              \n",
       "                       [[ 0.0382,  0.0227, -0.0142],\n",
       "                        [-0.0057, -0.0158, -0.0148],\n",
       "                        [-0.0273,  0.0052,  0.0237]]],\n",
       "              \n",
       "              \n",
       "                      ...,\n",
       "              \n",
       "              \n",
       "                      [[[ 0.0103, -0.0345,  0.0327],\n",
       "                        [-0.0241,  0.0118, -0.0025],\n",
       "                        [-0.0097,  0.0283,  0.0096]],\n",
       "              \n",
       "                       [[ 0.0403,  0.0169, -0.0163],\n",
       "                        [ 0.0408,  0.0205, -0.0108],\n",
       "                        [-0.0263, -0.0319,  0.0335]],\n",
       "              \n",
       "                       [[-0.0244,  0.0032,  0.0039],\n",
       "                        [ 0.0081,  0.0192, -0.0397],\n",
       "                        [-0.0243, -0.0049, -0.0091]],\n",
       "              \n",
       "                       ...,\n",
       "              \n",
       "                       [[ 0.0165, -0.0184, -0.0057],\n",
       "                        [ 0.0198, -0.0109, -0.0036],\n",
       "                        [ 0.0342,  0.0118, -0.0334]],\n",
       "              \n",
       "                       [[-0.0312,  0.0196, -0.0328],\n",
       "                        [ 0.0219,  0.0092, -0.0087],\n",
       "                        [ 0.0071, -0.0337,  0.0308]],\n",
       "              \n",
       "                       [[-0.0176,  0.0267,  0.0293],\n",
       "                        [-0.0123, -0.0370, -0.0159],\n",
       "                        [ 0.0166, -0.0285,  0.0377]]],\n",
       "              \n",
       "              \n",
       "                      [[[-0.0282, -0.0066, -0.0329],\n",
       "                        [ 0.0017, -0.0217, -0.0029],\n",
       "                        [ 0.0286,  0.0405,  0.0048]],\n",
       "              \n",
       "                       [[ 0.0096,  0.0007,  0.0400],\n",
       "                        [ 0.0138, -0.0173,  0.0218],\n",
       "                        [-0.0084,  0.0378, -0.0226]],\n",
       "              \n",
       "                       [[-0.0187,  0.0200, -0.0274],\n",
       "                        [-0.0381,  0.0069, -0.0079],\n",
       "                        [ 0.0405,  0.0016, -0.0005]],\n",
       "              \n",
       "                       ...,\n",
       "              \n",
       "                       [[-0.0135, -0.0134,  0.0125],\n",
       "                        [ 0.0304,  0.0061,  0.0381],\n",
       "                        [-0.0146,  0.0262, -0.0056]],\n",
       "              \n",
       "                       [[-0.0217,  0.0230, -0.0065],\n",
       "                        [-0.0019,  0.0374,  0.0007],\n",
       "                        [ 0.0043,  0.0253, -0.0385]],\n",
       "              \n",
       "                       [[-0.0362, -0.0287, -0.0197],\n",
       "                        [ 0.0284, -0.0239,  0.0040],\n",
       "                        [-0.0093,  0.0121,  0.0079]]],\n",
       "              \n",
       "              \n",
       "                      [[[-0.0334,  0.0275, -0.0250],\n",
       "                        [-0.0229,  0.0090, -0.0215],\n",
       "                        [ 0.0040,  0.0233,  0.0207]],\n",
       "              \n",
       "                       [[-0.0314,  0.0164, -0.0290],\n",
       "                        [ 0.0215,  0.0266,  0.0213],\n",
       "                        [-0.0030,  0.0083,  0.0154]],\n",
       "              \n",
       "                       [[-0.0220, -0.0184,  0.0054],\n",
       "                        [ 0.0094,  0.0350,  0.0043],\n",
       "                        [-0.0291,  0.0148,  0.0135]],\n",
       "              \n",
       "                       ...,\n",
       "              \n",
       "                       [[ 0.0097, -0.0249,  0.0002],\n",
       "                        [-0.0203, -0.0344,  0.0400],\n",
       "                        [ 0.0326, -0.0111,  0.0025]],\n",
       "              \n",
       "                       [[-0.0163,  0.0088,  0.0360],\n",
       "                        [-0.0354,  0.0303,  0.0416],\n",
       "                        [ 0.0150,  0.0349, -0.0378]],\n",
       "              \n",
       "                       [[ 0.0076, -0.0309,  0.0407],\n",
       "                        [ 0.0180, -0.0406, -0.0390],\n",
       "                        [-0.0294,  0.0218,  0.0011]]]])),\n",
       "             ('conv_block_2.2.bias',\n",
       "              tensor([ 0.0328, -0.0114,  0.0355, -0.0027,  0.0382,  0.0038, -0.0208, -0.0164,\n",
       "                       0.0328,  0.0005, -0.0306,  0.0248,  0.0133, -0.0225,  0.0114, -0.0253,\n",
       "                       0.0018,  0.0210,  0.0249,  0.0031,  0.0293, -0.0267, -0.0253,  0.0276,\n",
       "                       0.0143, -0.0393,  0.0066,  0.0021,  0.0109,  0.0201, -0.0168, -0.0397,\n",
       "                       0.0303,  0.0293, -0.0321, -0.0225,  0.0329, -0.0019, -0.0177,  0.0318,\n",
       "                      -0.0244,  0.0338, -0.0108, -0.0190,  0.0314, -0.0280, -0.0028, -0.0079,\n",
       "                       0.0109, -0.0228, -0.0318,  0.0314, -0.0373, -0.0333, -0.0281, -0.0379,\n",
       "                      -0.0038,  0.0085, -0.0037, -0.0351, -0.0129, -0.0396,  0.0115,  0.0339])),\n",
       "             ('classifier.1.weight',\n",
       "              tensor([[-0.0078,  0.0049, -0.0149,  ..., -0.0018, -0.0165,  0.0014],\n",
       "                      [-0.0015,  0.0131, -0.0046,  ...,  0.0037,  0.0006, -0.0053],\n",
       "                      [ 0.0009,  0.0090,  0.0010,  ...,  0.0133, -0.0157, -0.0133],\n",
       "                      ...,\n",
       "                      [-0.0041, -0.0114, -0.0175,  ...,  0.0149, -0.0041,  0.0122],\n",
       "                      [ 0.0032,  0.0179,  0.0111,  ..., -0.0129, -0.0160, -0.0042],\n",
       "                      [ 0.0069, -0.0120, -0.0066,  ..., -0.0045, -0.0088, -0.0066]])),\n",
       "             ('classifier.1.bias',\n",
       "              tensor([-0.0036, -0.0021, -0.0055, -0.0150, -0.0111, -0.0039,  0.0178, -0.0122,\n",
       "                      -0.0087, -0.0146, -0.0133,  0.0072,  0.0155, -0.0085, -0.0046,  0.0177,\n",
       "                       0.0143, -0.0098,  0.0145, -0.0106, -0.0173,  0.0031, -0.0073,  0.0178,\n",
       "                       0.0102, -0.0062,  0.0030,  0.0014,  0.0017,  0.0026,  0.0145,  0.0138,\n",
       "                       0.0039, -0.0178, -0.0136, -0.0039,  0.0051,  0.0046,  0.0063,  0.0161,\n",
       "                       0.0024,  0.0154, -0.0023,  0.0158, -0.0007,  0.0088,  0.0016,  0.0082,\n",
       "                      -0.0176, -0.0085,  0.0005,  0.0075,  0.0047,  0.0116,  0.0112,  0.0040,\n",
       "                       0.0003, -0.0093, -0.0086, -0.0018, -0.0066, -0.0073, -0.0112, -0.0172,\n",
       "                      -0.0138, -0.0072, -0.0143,  0.0119, -0.0161, -0.0033, -0.0003,  0.0155,\n",
       "                      -0.0141, -0.0165, -0.0056, -0.0073, -0.0079, -0.0017,  0.0159, -0.0093,\n",
       "                       0.0041, -0.0046,  0.0089, -0.0124, -0.0051,  0.0031,  0.0057,  0.0090,\n",
       "                      -0.0167, -0.0018,  0.0032, -0.0027,  0.0095, -0.0073, -0.0070, -0.0158,\n",
       "                      -0.0100,  0.0128,  0.0129, -0.0076, -0.0060, -0.0077,  0.0117,  0.0144,\n",
       "                      -0.0119,  0.0121,  0.0044,  0.0060, -0.0087, -0.0072, -0.0165, -0.0008,\n",
       "                       0.0102, -0.0053,  0.0151,  0.0022, -0.0023, -0.0172,  0.0005,  0.0026,\n",
       "                      -0.0085,  0.0072,  0.0130, -0.0006, -0.0064, -0.0051,  0.0104,  0.0153])),\n",
       "             ('classifier.3.weight',\n",
       "              tensor([[ 0.0606,  0.0463,  0.0054,  ...,  0.0426,  0.0873,  0.0639],\n",
       "                      [-0.0393,  0.0007, -0.0267,  ...,  0.0574, -0.0680,  0.0204],\n",
       "                      [-0.0665,  0.0228, -0.0599,  ...,  0.0569,  0.0577, -0.0592],\n",
       "                      ...,\n",
       "                      [ 0.0106,  0.0808,  0.0114,  ..., -0.0433, -0.0576,  0.0696],\n",
       "                      [-0.0759,  0.0558, -0.0418,  ..., -0.0581, -0.0143, -0.0748],\n",
       "                      [ 0.0338,  0.0361, -0.0768,  ...,  0.0845,  0.0847,  0.0610]])),\n",
       "             ('classifier.3.bias',\n",
       "              tensor([ 0.0832,  0.0631, -0.0844,  0.0430,  0.0301, -0.0459,  0.0330, -0.0551,\n",
       "                       0.0660, -0.0279]))])"
      ]
     },
     "execution_count": 98,
     "metadata": {},
     "output_type": "execute_result"
    }
   ],
   "source": [
    "# Setup loss function and optimizer\n",
    "loss_fn = nn.CrossEntropyLoss()\n",
    "optimizer = torch.optim.SGD(model_2.parameters(), lr=0.1) # Copilot is suggesting Adam instead of SGD\n",
    "accuracy_fn = accuracy_fn\n",
    "\n",
    "# What we want to optimize\n",
    "model_2.state_dict()"
   ]
  },
  {
   "cell_type": "markdown",
   "metadata": {},
   "source": [
    "### 7.4 Training and testing the CNN"
   ]
  },
  {
   "cell_type": "code",
   "execution_count": 99,
   "metadata": {},
   "outputs": [
    {
     "data": {
      "application/vnd.jupyter.widget-view+json": {
       "model_id": "99b5467376ce4e8598052fd7e1bd0413",
       "version_major": 2,
       "version_minor": 0
      },
      "text/plain": [
       "  0%|          | 0/5 [00:00<?, ?it/s]"
      ]
     },
     "metadata": {},
     "output_type": "display_data"
    },
    {
     "name": "stdout",
     "output_type": "stream",
     "text": [
      "Epoch 1\n",
      "-------------------------------\n",
      "Train loss: 0.5785, Train accuracy: 78.3433\n",
      "Epoch 2\n",
      "-------------------------------\n",
      "Train loss: 0.3006, Train accuracy: 88.9567\n",
      "Epoch 3\n",
      "-------------------------------\n",
      "Train loss: 0.2503, Train accuracy: 90.8367\n",
      "Epoch 4\n",
      "-------------------------------\n",
      "Train loss: 0.2196, Train accuracy: 91.8383\n",
      "Epoch 5\n",
      "-------------------------------\n",
      "Train loss: 0.1936, Train accuracy: 92.9433\n",
      "Test loss: 0.2518, Test accuracy: 91.2440\n",
      "Training time: 214.64 seconds on device:cpu\n"
     ]
    }
   ],
   "source": [
    "# Setting seeds\n",
    "torch.manual_seed(42)\n",
    "torch.cuda.manual_seed_all(42)\n",
    "\n",
    "# Start timer\n",
    "model_2_train_time_start = timer()\n",
    "\n",
    "# Number of epochs\n",
    "EPOCHS = 5\n",
    "\n",
    "# Training loop\n",
    "for epoch in tqdm(range(EPOCHS)):\n",
    "    print(f\"Epoch {epoch+1}\\n-------------------------------\")\n",
    "    train_step(model_2, train_dataloader, loss_fn, optimizer, accuracy_fn, device)\n",
    "\n",
    "# Testing the model\n",
    "test_step(model_2, test_dataloader, loss_fn, accuracy_fn, device)\n",
    "\n",
    "# End timer\n",
    "model_2_train_time_end = timer()\n",
    "# Print training time\n",
    "total_train_time_model_2 = print_train_time(model_2_train_time_start, model_2_train_time_end, device)\n",
    "\n"
   ]
  },
  {
   "cell_type": "code",
   "execution_count": 168,
   "metadata": {},
   "outputs": [
    {
     "data": {
      "application/vnd.jupyter.widget-view+json": {
       "model_id": "a2f8818a3541421db222ea2e929a783b",
       "version_major": 2,
       "version_minor": 0
      },
      "text/plain": [
       "  0%|          | 0/1875 [00:00<?, ?it/s]"
      ]
     },
     "metadata": {},
     "output_type": "display_data"
    },
    {
     "data": {
      "text/plain": [
       "{'model_name': 'FashionMNISTModelV2',\n",
       " 'loss': 0.1784193515777588,\n",
       " 'accuracy': 93.505}"
      ]
     },
     "execution_count": 168,
     "metadata": {},
     "output_type": "execute_result"
    }
   ],
   "source": [
    "# Getting model results\n",
    "torch.manual_seed(42)\n",
    "model_2_results = eval_model(model_2, train_dataloader, loss_fn, accuracy_fn)\n",
    "model_2_results"
   ]
  },
  {
   "cell_type": "markdown",
   "metadata": {},
   "source": [
    "## 8. Comparing results between models"
   ]
  },
  {
   "cell_type": "code",
   "execution_count": 169,
   "metadata": {},
   "outputs": [
    {
     "data": {
      "text/html": [
       "<div>\n",
       "<style scoped>\n",
       "    .dataframe tbody tr th:only-of-type {\n",
       "        vertical-align: middle;\n",
       "    }\n",
       "\n",
       "    .dataframe tbody tr th {\n",
       "        vertical-align: top;\n",
       "    }\n",
       "\n",
       "    .dataframe thead th {\n",
       "        text-align: right;\n",
       "    }\n",
       "</style>\n",
       "<table border=\"1\" class=\"dataframe\">\n",
       "  <thead>\n",
       "    <tr style=\"text-align: right;\">\n",
       "      <th></th>\n",
       "      <th>model_name</th>\n",
       "      <th>loss</th>\n",
       "      <th>accuracy</th>\n",
       "    </tr>\n",
       "  </thead>\n",
       "  <tbody>\n",
       "    <tr>\n",
       "      <th>0</th>\n",
       "      <td>FashionMNISTModelV0</td>\n",
       "      <td>0.462433</td>\n",
       "      <td>83.943333</td>\n",
       "    </tr>\n",
       "    <tr>\n",
       "      <th>1</th>\n",
       "      <td>FashionMNISTModelV1</td>\n",
       "      <td>0.355474</td>\n",
       "      <td>87.216667</td>\n",
       "    </tr>\n",
       "    <tr>\n",
       "      <th>2</th>\n",
       "      <td>FashionMNISTModelV2</td>\n",
       "      <td>0.178419</td>\n",
       "      <td>93.505000</td>\n",
       "    </tr>\n",
       "  </tbody>\n",
       "</table>\n",
       "</div>"
      ],
      "text/plain": [
       "            model_name      loss   accuracy\n",
       "0  FashionMNISTModelV0  0.462433  83.943333\n",
       "1  FashionMNISTModelV1  0.355474  87.216667\n",
       "2  FashionMNISTModelV2  0.178419  93.505000"
      ]
     },
     "execution_count": 169,
     "metadata": {},
     "output_type": "execute_result"
    }
   ],
   "source": [
    "import pandas as pd\n",
    "\n",
    "results_Dataframe = pd.DataFrame([model_0_results, model_1_results, model_2_results])\n",
    "\n",
    "results_Dataframe"
   ]
  },
  {
   "cell_type": "code",
   "execution_count": 170,
   "metadata": {},
   "outputs": [
    {
     "data": {
      "text/html": [
       "<div>\n",
       "<style scoped>\n",
       "    .dataframe tbody tr th:only-of-type {\n",
       "        vertical-align: middle;\n",
       "    }\n",
       "\n",
       "    .dataframe tbody tr th {\n",
       "        vertical-align: top;\n",
       "    }\n",
       "\n",
       "    .dataframe thead th {\n",
       "        text-align: right;\n",
       "    }\n",
       "</style>\n",
       "<table border=\"1\" class=\"dataframe\">\n",
       "  <thead>\n",
       "    <tr style=\"text-align: right;\">\n",
       "      <th></th>\n",
       "      <th>model_name</th>\n",
       "      <th>loss</th>\n",
       "      <th>accuracy</th>\n",
       "      <th>training_time</th>\n",
       "    </tr>\n",
       "  </thead>\n",
       "  <tbody>\n",
       "    <tr>\n",
       "      <th>0</th>\n",
       "      <td>FashionMNISTModelV0</td>\n",
       "      <td>0.462433</td>\n",
       "      <td>83.943333</td>\n",
       "      <td>19.925949</td>\n",
       "    </tr>\n",
       "    <tr>\n",
       "      <th>1</th>\n",
       "      <td>FashionMNISTModelV1</td>\n",
       "      <td>0.355474</td>\n",
       "      <td>87.216667</td>\n",
       "      <td>19.279703</td>\n",
       "    </tr>\n",
       "    <tr>\n",
       "      <th>2</th>\n",
       "      <td>FashionMNISTModelV2</td>\n",
       "      <td>0.178419</td>\n",
       "      <td>93.505000</td>\n",
       "      <td>214.640580</td>\n",
       "    </tr>\n",
       "  </tbody>\n",
       "</table>\n",
       "</div>"
      ],
      "text/plain": [
       "            model_name      loss   accuracy  training_time\n",
       "0  FashionMNISTModelV0  0.462433  83.943333      19.925949\n",
       "1  FashionMNISTModelV1  0.355474  87.216667      19.279703\n",
       "2  FashionMNISTModelV2  0.178419  93.505000     214.640580"
      ]
     },
     "execution_count": 170,
     "metadata": {},
     "output_type": "execute_result"
    }
   ],
   "source": [
    "# Add training time to the dataframe\n",
    "results_Dataframe[\"training_time\"] = [total_train_time_model_0, total_train_time_model_1, total_train_time_model_2]\n",
    "results_Dataframe"
   ]
  },
  {
   "cell_type": "code",
   "execution_count": 171,
   "metadata": {},
   "outputs": [
    {
     "data": {
      "text/plain": [
       "Text(0, 0.5, 'Model')"
      ]
     },
     "execution_count": 171,
     "metadata": {},
     "output_type": "execute_result"
    },
    {
     "data": {
      "image/png": "[encoded data removed]",
      "text/plain": [
       "<Figure size 640x480 with 1 Axes>"
      ]
     },
     "metadata": {},
     "output_type": "display_data"
    }
   ],
   "source": [
    "# Visualizing the results\n",
    "import matplotlib.pyplot as plt\n",
    "\n",
    "results_Dataframe.plot(kind=\"barh\", x=\"model_name\", y=\"accuracy\", title=\"Model accuracy comparison\", legend=False)\n",
    "plt.xlabel(\"Accuracy\")\n",
    "plt.ylabel(\"Model\")\n"
   ]
  },
  {
   "cell_type": "markdown",
   "metadata": {},
   "source": [
    "## 9. Make and evaluate random predictions with best model"
   ]
  },
  {
   "cell_type": "code",
   "execution_count": 172,
   "metadata": {},
   "outputs": [],
   "source": [
    "def make_predictions(model: torch.nn.Module,\n",
    "                     data:list,\n",
    "                     device: torch.device):\n",
    "                    \n",
    "    \"\"\"\n",
    "    Returns the model probabilites for a given dataset.\n",
    "    \"\"\"\n",
    "    predictions_probabilities = []\n",
    "    # Sending the model to device and setting to evaluation mode\n",
    "    model.to(device)\n",
    "    model.eval()\n",
    "\n",
    "\n",
    "    with torch.inference_mode():\n",
    "        for sample in data:\n",
    "            # Getting the data to the device and adding a batch dimension\n",
    "            sample = torch.unsqueeze(sample, 0).to(device)\n",
    "\n",
    "            # Forward pass\n",
    "            output = model(sample)\n",
    "\n",
    "            # Getting the prediction probability and class\n",
    "            prediction_probability = torch.softmax(output.squeeze(), dim=0)\n",
    "\n",
    "            # Appending the prediction probability to the list\n",
    "            predictions_probabilities.append(prediction_probability.cpu())\n",
    "\n",
    "    return torch.stack(predictions_probabilities)\n",
    "\n",
    "            "
   ]
  },
  {
   "cell_type": "code",
   "execution_count": 173,
   "metadata": {},
   "outputs": [
    {
     "data": {
      "text/plain": [
       "torch.Size([1, 28, 28])"
      ]
     },
     "execution_count": 173,
     "metadata": {},
     "output_type": "execute_result"
    }
   ],
   "source": [
    "import random\n",
    "# random.seed(42)\n",
    "test_sample, test_labels = [], []\n",
    "\n",
    "for sample, label in random.sample(list(test_data), k= 9):\n",
    "    test_sample.append(sample)\n",
    "    test_labels.append(label)\n",
    "\n",
    "test_sample[0].shape"
   ]
  },
  {
   "cell_type": "code",
   "execution_count": 174,
   "metadata": {},
   "outputs": [
    {
     "data": {
      "text/plain": [
       "(-0.5, 27.5, 27.5, -0.5)"
      ]
     },
     "execution_count": 174,
     "metadata": {},
     "output_type": "execute_result"
    },
    {
     "data": {
      "image/png": "[encoded data removed]",
      "text/plain": [
       "<Figure size 640x480 with 1 Axes>"
      ]
     },
     "metadata": {},
     "output_type": "display_data"
    }
   ],
   "source": [
    "plt.imshow(test_sample[0].squeeze(), cmap='gray')\n",
    "plt.title(class_names[test_labels[0]])\n",
    "plt.axis(False)"
   ]
  },
  {
   "cell_type": "code",
   "execution_count": 175,
   "metadata": {},
   "outputs": [
    {
     "data": {
      "text/plain": [
       "['Dress',\n",
       " 'Coat',\n",
       " 'Sneaker',\n",
       " 'T-shirt/top',\n",
       " 'Ankle boot',\n",
       " 'Shirt',\n",
       " 'Coat',\n",
       " 'Sneaker',\n",
       " 'Pullover']"
      ]
     },
     "execution_count": 175,
     "metadata": {},
     "output_type": "execute_result"
    }
   ],
   "source": [
    "# Make predictions for the test samples\n",
    "pred_probs = make_predictions(model_2, test_sample, device)\n",
    "\n",
    "# Get the predicted classes\n",
    "pred_classes = pred_probs.argmax(dim=1)\n",
    "\n",
    "# Get the predicted class names\n",
    "pred_class_names = [class_names[label] for label in pred_classes]\n",
    "pred_class_names\n"
   ]
  },
  {
   "cell_type": "code",
   "execution_count": 176,
   "metadata": {},
   "outputs": [
    {
     "data": {
      "image/png": "[encoded data removed]",
      "text/plain": [
       "<Figure size 1200x1200 with 9 Axes>"
      ]
     },
     "metadata": {},
     "output_type": "display_data"
    }
   ],
   "source": [
    "# Ploting images and model predictions\n",
    "fig, axes = plt.subplots(3, 3, figsize=(12, 12))\n",
    "for i, ax in enumerate(axes.flat):\n",
    "    ax.imshow(test_sample[i].squeeze(), cmap='gray')\n",
    "    ax.set_title(f\"True: {class_names[test_labels[i]]}, Pred: {pred_class_names[i]}\", color=\"green\" if test_labels[i] == pred_classes[i] else \"red\")\n",
    "    ax.axis(False)"
   ]
  },
  {
   "cell_type": "markdown",
   "metadata": {},
   "source": [
    "## 10. Making a confusion matrix for further prediction evaluation\n",
    "\n",
    "1. Make predictions using our best model\n",
    "2. Create confusion matrix using `torchmetrics.ConfusionMatrix()`\n",
    "3. Plot confusion matrix using `mlxtend.plotting.plot_confusion_matrix()`\n"
   ]
  },
  {
   "cell_type": "code",
   "execution_count": 177,
   "metadata": {},
   "outputs": [
    {
     "data": {
      "application/vnd.jupyter.widget-view+json": {
       "model_id": "8c7ad00c6cda4568992ed9773d9b2684",
       "version_major": 2,
       "version_minor": 0
      },
      "text/plain": [
       "Making predictions...:   0%|          | 0/313 [00:00<?, ?it/s]"
      ]
     },
     "metadata": {},
     "output_type": "display_data"
    },
    {
     "data": {
      "text/plain": [
       "tensor([9, 2, 1,  ..., 8, 1, 0])"
      ]
     },
     "execution_count": 177,
     "metadata": {},
     "output_type": "execute_result"
    }
   ],
   "source": [
    "from tqdm.notebook import tqdm\n",
    "\n",
    "# 1. Make predictions for the test data\n",
    "y_preds = []\n",
    "model_2.to(device)\n",
    "model_2.eval()\n",
    "with torch.inference_mode():\n",
    "    for features, labels in tqdm(test_dataloader, desc= \"Making predictions...\"):\n",
    "        # Sending data to device\n",
    "        features, labels = features.to(device), labels.to(device)\n",
    "\n",
    "        # Forward pass\n",
    "        outputs = model_2(features)\n",
    "\n",
    "        # Prediction logits -> probabilities\n",
    "        prediction = torch.softmax(outputs.squeeze(), dim=0).argmax(dim=1).cpu()\n",
    "        y_preds.append(prediction)\n",
    "\n",
    "y_pred_tensor = torch.cat(y_preds)\n",
    "y_pred_tensor"
   ]
  },
  {
   "cell_type": "code",
   "execution_count": 178,
   "metadata": {},
   "outputs": [
    {
     "name": "stdout",
     "output_type": "stream",
     "text": [
      "0.23.1\n",
      "1.3.2\n"
     ]
    }
   ],
   "source": [
    "import torchmetrics, mlxtend\n",
    "print(mlxtend.__version__)\n",
    "print(torchmetrics.__version__)"
   ]
  },
  {
   "cell_type": "code",
   "execution_count": 179,
   "metadata": {},
   "outputs": [
    {
     "data": {
      "image/png": "[encoded data removed]",
      "text/plain": [
       "<Figure size 1000x700 with 1 Axes>"
      ]
     },
     "metadata": {},
     "output_type": "display_data"
    }
   ],
   "source": [
    "from torchmetrics import ConfusionMatrix\n",
    "from mlxtend.plotting import plot_confusion_matrix\n",
    "\n",
    "# 2. Setup confusion instance and compare predictions to targets\n",
    "\n",
    "# Create a confusion matrix\n",
    "cm = ConfusionMatrix(task= \"multiclass\",num_classes=len(class_names))\n",
    "cm_tensor = cm(preds=y_pred_tensor, target=test_data.targets)\n",
    "\n",
    "# 3. Plot the confusion matrix\n",
    "fig, ax = plot_confusion_matrix(conf_mat=cm_tensor.numpy(),\n",
    "                                class_names=class_names, \n",
    "                                figsize=(10, 7))\n",
    "plt.show()\n"
   ]
  },
  {
   "cell_type": "markdown",
   "metadata": {},
   "source": [
    "## 11. Saving and exporting the best performing model"
   ]
  },
  {
   "cell_type": "code",
   "execution_count": 180,
   "metadata": {},
   "outputs": [],
   "source": [
    "from pathlib import Path\n",
    "\n",
    "# Create a directory to save the model\n",
    "MODEL_DIR = Path(\"models\")\n",
    "MODEL_DIR.mkdir(parents= True,\n",
    "                exist_ok=True)\n",
    "\n",
    "MODEL_NAME = \"FashionMNIST_computer_vision_model.pth\"\n",
    "MODEL_SAVE_PATH = MODEL_DIR / MODEL_NAME\n",
    "\n",
    "# Save the model\n",
    "torch.save(model_2.state_dict(), MODEL_SAVE_PATH)"
   ]
  },
  {
   "cell_type": "code",
   "execution_count": 181,
   "metadata": {},
   "outputs": [
    {
     "data": {
      "text/plain": [
       "<All keys matched successfully>"
      ]
     },
     "execution_count": 181,
     "metadata": {},
     "output_type": "execute_result"
    }
   ],
   "source": [
    "# Creating new model instance\n",
    "torch.manual_seed(42)\n",
    "\n",
    "# Instantiate the model\n",
    "loaded_model = FashionMNISTModelV2(input_shape=1,\n",
    "                                    hidden_units=32,\n",
    "                                    output_shape=len(class_names)).to(device)\n",
    "\n",
    "# Load the model state dict\n",
    "loaded_model.load_state_dict(torch.load(MODEL_SAVE_PATH))\n"
   ]
  },
  {
   "cell_type": "code",
   "execution_count": 189,
   "metadata": {},
   "outputs": [
    {
     "data": {
      "application/vnd.jupyter.widget-view+json": {
       "model_id": "730d91b54ace48fc970a863cc965492b",
       "version_major": 2,
       "version_minor": 0
      },
      "text/plain": [
       "  0%|          | 0/313 [00:00<?, ?it/s]"
      ]
     },
     "metadata": {},
     "output_type": "display_data"
    },
    {
     "data": {
      "application/vnd.jupyter.widget-view+json": {
       "model_id": "182ddc83a5164577a7a068f836b92eb2",
       "version_major": 2,
       "version_minor": 0
      },
      "text/plain": [
       "  0%|          | 0/313 [00:00<?, ?it/s]"
      ]
     },
     "metadata": {},
     "output_type": "display_data"
    }
   ],
   "source": [
    "# Evaluating the loaded model\n",
    "torch.manual_seed(42)\n",
    "loaded_model_results = eval_model(loaded_model, test_dataloader, loss_fn, accuracy_fn)\n",
    "model_2_results = eval_model(model_2, test_dataloader, loss_fn, accuracy_fn)\n"
   ]
  },
  {
   "cell_type": "code",
   "execution_count": 186,
   "metadata": {},
   "outputs": [
    {
     "name": "stdout",
     "output_type": "stream",
     "text": [
      "Original model {'model_name': 'FashionMNISTModelV2', 'loss': 0.25184953212738037, 'accuracy': 91.24400958466454}\n",
      "Loaded model {'model_name': 'FashionMNISTModelV2', 'loss': 0.25184953212738037, 'accuracy': 91.24400958466454}\n"
     ]
    }
   ],
   "source": [
    "# Comparing the loaded model with the previous model\n",
    "print(f\"Original model {model_2_results}\")\n",
    "print(f\"Loaded model {loaded_model_results}\")"
   ]
  },
  {
   "cell_type": "code",
   "execution_count": 187,
   "metadata": {},
   "outputs": [
    {
     "data": {
      "text/plain": [
       "tensor(True)"
      ]
     },
     "execution_count": 187,
     "metadata": {},
     "output_type": "execute_result"
    }
   ],
   "source": [
    "# Check if model results are close to each other\n",
    "torch.isclose(torch.tensor(model_2_results[\"loss\"]), torch.tensor(loaded_model_results[\"loss\"]), atol=1e-2)"
   ]
  }
 ],
 "metadata": {
  "kernelspec": {
   "display_name": "Python 3",
   "language": "python",
   "name": "python3"
  },
  "language_info": {
   "codemirror_mode": {
    "name": "ipython",
    "version": 3
   },
   "file_extension": ".py",
   "mimetype": "text/x-python",
   "name": "python",
   "nbconvert_exporter": "python",
   "pygments_lexer": "ipython3",
   "version": "3.12.3"
  }
 },
 "nbformat": 4,
 "nbformat_minor": 2
}
